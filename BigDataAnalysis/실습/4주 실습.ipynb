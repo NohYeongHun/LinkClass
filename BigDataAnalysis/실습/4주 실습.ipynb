{
 "cells": [
  {
   "cell_type": "code",
   "execution_count": 2,
   "metadata": {},
   "outputs": [
    {
     "name": "stdout",
     "output_type": "stream",
     "text": [
      "첫번째 입력값 : 5\n",
      "두번째 입력값 : 1\n",
      "나머지:  0\n",
      "나눈 값 : 5.0\n",
      "몫 : 5\n",
      "첫번째 입력값 : 4\n",
      "두번째 입력값 : 2\n",
      "나머지:  0\n",
      "나눈 값 : 2.0\n",
      "몫 : 2\n",
      "첫번째 입력값 : 10\n",
      "두번째 입력값 : 4\n",
      "나머지:  2\n",
      "나눈 값 : 2.5\n",
      "몫 : 2\n",
      "첫번째 입력값 : 6\n",
      "두번째 입력값 : 3\n",
      "나머지:  0\n",
      "나눈 값 : 2.0\n",
      "몫 : 2\n",
      "첫번째 입력값 : 1\n",
      "두번째 입력값 : 10\n",
      "나머지:  1\n",
      "나눈 값 : 0.1\n",
      "몫 : 0\n",
      "첫번째 입력값 : 2\n",
      "두번째 입력값 : 5\n",
      "나머지:  2\n",
      "나눈 값 : 0.4\n",
      "몫 : 0\n",
      "첫번째 입력값 : 10\n",
      "두번째 입력값 : 5\n",
      "나머지:  0\n",
      "나눈 값 : 2.0\n",
      "몫 : 2\n",
      "첫번째 입력값 : 2\n",
      "두번째 입력값 : 4\n",
      "나머지:  2\n",
      "나눈 값 : 0.5\n",
      "몫 : 0\n",
      "첫번째 입력값 : 4\n",
      "두번째 입력값 : 6\n",
      "나머지:  4\n",
      "나눈 값 : 0.6666666666666666\n",
      "몫 : 0\n",
      "첫번째 입력값 : 5\n",
      "두번째 입력값 : 7\n",
      "나머지:  5\n",
      "나눈 값 : 0.7142857142857143\n",
      "몫 : 0\n"
     ]
    }
   ],
   "source": [
    "# 두수를 받아 나머지 몫 나눈 값 출력 함수 작성 \n",
    "# 10개 데이터 입력 후 결과 확인\n",
    "for i in range(10):\n",
    "    num1 = int(input(\"첫번째 입력값 : \"))\n",
    "    num2 = int(input(\"두번째 입력값 : \"))\n",
    "    num3 = num1%num2\n",
    "    print(\"나머지: \",num3)\n",
    "    print(\"나눈 값 :\",num1/num2)\n",
    "    print(\"몫 :\",num1//num2)\n"
   ]
  },
  {
   "cell_type": "code",
   "execution_count": 9,
   "metadata": {},
   "outputs": [
    {
     "name": "stdout",
     "output_type": "stream",
     "text": [
      "ar9[0][1] =  [14]\n",
      "ar9[1][0] =  [82]\n",
      "ar9[1][1] =  [82]\n"
     ]
    }
   ],
   "source": [
    "# 2. ar9[0][1], ar9[1][0], ar9[1][1]을 만드는 수식 작성\n",
    "# ar9[0][1]= ar[]\n",
    "import numpy as np\n",
    "ar1 = np.array([1,2,3,4,5])\n",
    "ar1\n",
    "ar2 = np.array([[10,20,30],[40,50,60]])\n",
    "ar2\n",
    "ar4 = np.array([[1,2,3],[4,5,6]])\n",
    "ar5 = np.array([[0,0,0],[0,0,0]])\n",
    "ar6 = np.array([[1,2],[3,4],[5,6]])\n",
    "ar9 = np.dot(ar2,ar6)\n",
    "ar1 = np.array([1,2,3])\n",
    "ar2 = np.array([[1],[2],[3]])\n",
    "ar3 = np.array([[2],[10],[20]])\n",
    "# ar9[0][1]= np.\n",
    "print(\"ar9[0][1] = \",np.dot(ar1,ar2))\n",
    "print(\"ar9[1][0] = \",np.dot(ar1,ar3))\n",
    "print(\"ar9[1][1] = \",np.dot(ar1,ar3))"
   ]
  },
  {
   "cell_type": "code",
   "execution_count": 4,
   "metadata": {},
   "outputs": [
    {
     "name": "stdout",
     "output_type": "stream",
     "text": [
      "최고 온도 17.6 날짜 2021-03-19\n",
      "최저 온도 -3.0 날짜 2021-02-23\n"
     ]
    }
   ],
   "source": [
    "# 3. 인천의 최고온도, 최저온도는 각가 몇도이고 날자는 언제인가 출력?\n",
    "import pandas as pd\n",
    "df11 =pd.read_csv('Incheon.csv',encoding='utf-8')\n",
    "max = df11['최고기온(℃)'].max()\n",
    "min = df11['최저기온(℃)'].min()\n",
    "for i in range(len(df11)):\n",
    "    if df11['최고기온(℃)'][i] == max:\n",
    "        최고날짜=df11['날짜'][i]\n",
    "for i in range(len(df11)):\n",
    "    if df11['최저기온(℃)'][i] == min:\n",
    "        최저날짜=df11['날짜'][i]\n",
    "print(\"최고 온도\",max,\"날짜\",최고날짜)\n",
    "print(\"최저 온도\",min,\"날짜\",최저날짜)"
   ]
  },
  {
   "cell_type": "code",
   "execution_count": 5,
   "metadata": {},
   "outputs": [
    {
     "data": {
      "image/png": "[encoded data removed]",
      "text/plain": [
       "<Figure size 432x288 with 1 Axes>"
      ]
     },
     "metadata": {
      "needs_background": "light"
     },
     "output_type": "display_data"
    }
   ],
   "source": [
    "# 인천의 최저온도 그래프를 그리시오\n",
    "from matplotlib import pyplot as plt\n",
    "plt.plot(df11['날짜'],df11['최저기온(℃)'])\n",
    "plt.show()"
   ]
  }
 ],
 "metadata": {
  "kernelspec": {
   "display_name": "Python 3",
   "language": "python",
   "name": "python3"
  },
  "language_info": {
   "codemirror_mode": {
    "name": "ipython",
    "version": 3
   },
   "file_extension": ".py",
   "mimetype": "text/x-python",
   "name": "python",
   "nbconvert_exporter": "python",
   "pygments_lexer": "ipython3",
   "version": "3.8.5"
  }
 },
 "nbformat": 4,
 "nbformat_minor": 4
}
