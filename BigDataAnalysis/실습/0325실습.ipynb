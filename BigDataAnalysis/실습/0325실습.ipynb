{
 "cells": [
  {
   "cell_type": "code",
   "execution_count": 3,
   "metadata": {},
   "outputs": [
    {
     "name": "stdout",
     "output_type": "stream",
     "text": [
      "국적 코드 입력 : 1\n",
      "성별 입력 : 1\n",
      "입국 객수 입력 :1\n",
      "전년 동기 입력 :1\n"
     ]
    }
   ],
   "source": [
    "nat01 = input(\"국적 코드 입력 : \")\n",
    "gen01 = input(\"성별 입력 : \")\n",
    "noPassengerp01 = input(\"입국 객수 입력 :\")\n",
    "noPassengerb01 = input(\"전년 동기 입력 :\")"
   ]
  },
  {
   "cell_type": "code",
   "execution_count": null,
   "metadata": {
    "scrolled": true
   },
   "outputs": [],
   "source": [
    "p1 = [nat01, gen01, noPassengerp01, noPassengerb01]\n",
    "p1"
   ]
  },
  {
   "cell_type": "code",
   "execution_count": 4,
   "metadata": {},
   "outputs": [
    {
     "name": "stdout",
     "output_type": "stream",
     "text": [
      "국적코드 입력 : A01\n",
      "성별입력 : 남성\n",
      "입국 객수 입력 : 1200\n",
      "전년 동기 입력 : 500\n",
      "국적코드 입력 : A02\n",
      "성별입력 : 여성\n",
      "입국 객수 입력 : 700\n",
      "전년 동기 입력 : 400\n",
      "국적코드 입력 : A03\n",
      "성별입력 : 남성\n",
      "입국 객수 입력 : 200\n",
      "전년 동기 입력 : 300\n",
      "국적코드 입력 : A04\n",
      "성별입력 : 남성\n",
      "입국 객수 입력 : 500\n",
      "전년 동기 입력 : 500\n",
      "국적코드 입력 : A05\n",
      "성별입력 : 여성\n",
      "입국 객수 입력 : 1200\n",
      "전년 동기 입력 : 500\n",
      "국적코드 입력 : A06\n",
      "성별입력 : 남성\n",
      "입국 객수 입력 : 700\n",
      "전년 동기 입력 : 40\n"
     ]
    }
   ],
   "source": [
    "pTot =0\n",
    "bTot =0\n",
    "passenger = []\n",
    "for i in range(0, 6):\n",
    "\tnat01 = input(\"국적코드 입력 : \")\n",
    "\tgen01 = input(\"성별입력 : \")\n",
    "\tnoPassenger01 =  input(\"입국 객수 입력 : \")\n",
    "\tnoPassenger02 = input(\"전년 동기 입력 : \")\n",
    "\tp1 = [nat01, gen01, noPassengerp01, noPassengerb01]\n",
    "\tpassenger.insert(i,p1)\n",
    "\tpTot += int(noPassengerp01)\n",
    "\tbTot += int(noPassengerb01)"
   ]
  },
  {
   "cell_type": "code",
   "execution_count": 5,
   "metadata": {},
   "outputs": [],
   "source": [
    "p1 = passenger\n",
    "f = open(\".\\passenger.txt\", 'w')\n",
    "for i in range(0,6):\n",
    "    data = p1[i][0]+\" \"+p1[i][1] +\" \"+str(p1[i][2]) +\" \"+str(p1[i][3])+\"\\n\"\n",
    "    f.write(data)\n",
    "f.close()"
   ]
  },
  {
   "cell_type": "code",
   "execution_count": 7,
   "metadata": {},
   "outputs": [
    {
     "name": "stdout",
     "output_type": "stream",
     "text": [
      "A01,  남성,  106320,  85815\n",
      "\n",
      "A01,  여성,  191436,  125241\n",
      "\n",
      "A31,  남성,  319,  299\n",
      "\n",
      "A31,  여성,  42,  54\n",
      "\n",
      "A18,  남성,  158912,  124486\n",
      "\n",
      "A18,  여성,  232943,  163466\n",
      "689972\n",
      "499361\n"
     ]
    }
   ],
   "source": [
    "f = open(\"./travel.csv\", 'r')\n",
    "tra = []\n",
    "tra2 = []\n",
    "i = 0\n",
    "fbTot = 0\n",
    "fpTot = 0\n",
    "while True:\n",
    "    line=f.readline()\n",
    "    tra.insert(i, line)\n",
    "    if not line:\n",
    "        break\n",
    "#    print(line)\n",
    "    tra2.insert(i, tra[i].split(\",\"))\n",
    "    print(\"%s, %s, %s, %s\"%(tra2[i][0], tra2[i][1], tra2[i][2], tra2[i][3]))\n",
    "    fpTot += int(tra2[i][2])\n",
    "    fbTot += int(tra2[i][3])\n",
    "    i+=1\n",
    "f.close()\n",
    "print(fpTot)\n",
    "print(fbTot)"
   ]
  },
  {
   "cell_type": "code",
   "execution_count": 8,
   "metadata": {},
   "outputs": [
    {
     "name": "stdout",
     "output_type": "stream",
     "text": [
      "  국적코드   성별       입국객수     전년동기\n",
      "--------------------------------------------------\n",
      "A01          남성         106320         85815\n",
      "--------------------------------------------------\n",
      "A01          여성         191436        125241\n",
      "--------------------------------------------------\n",
      "A31          남성            319           299\n",
      "--------------------------------------------------\n",
      "A31          여성             42            54\n",
      "--------------------------------------------------\n",
      "A18          남성         158912        124486\n",
      "--------------------------------------------------\n",
      "A18          여성         232943        163466\n",
      "--------------------------------------------------\n",
      "입국객수 총 합계    689972\n",
      "전년동기 총 합계    499361\n"
     ]
    }
   ],
   "source": [
    "print(\"  국적코드   성별       입국객수     전년동기\")\n",
    "print('-'*50)\n",
    "for i in range(6):\n",
    "    print(\"%-12s%-5s   %10d    %10d\"%(tra2[i][0], tra2[i][1], int(tra2[i][2]), int(tra2[i][3])))\n",
    "    print('-'*50)\n",
    "print('입국객수 총 합계    %d'%fpTot)\n",
    "print('전년동기 총 합계    %d'%fbTot)"
   ]
  },
  {
   "cell_type": "code",
   "execution_count": 16,
   "metadata": {},
   "outputs": [],
   "source": [
    "a = 5\n",
    "b = 3\n",
    "sum =lambda a,b:a+b"
   ]
  },
  {
   "cell_type": "code",
   "execution_count": 19,
   "metadata": {},
   "outputs": [
    {
     "data": {
      "text/plain": [
       "'1.19.2'"
      ]
     },
     "execution_count": 19,
     "metadata": {},
     "output_type": "execute_result"
    }
   ],
   "source": [
    "import numpy as np\n",
    "np.__version__"
   ]
  },
  {
   "cell_type": "code",
   "execution_count": 30,
   "metadata": {},
   "outputs": [
    {
     "name": "stdout",
     "output_type": "stream",
     "text": [
      "[[ 10  40  90]\n",
      " [160 250 360]]\n"
     ]
    },
    {
     "data": {
      "text/plain": [
       "array([[220, 280],\n",
       "       [490, 640]])"
      ]
     },
     "execution_count": 30,
     "metadata": {},
     "output_type": "execute_result"
    }
   ],
   "source": [
    "ar1 = np.array([1,2,3,4,5])\n",
    "ar1\n",
    "ar2 = np.array([[10,20,30],[40,50,60]])\n",
    "ar2\n",
    "ar4 = np.array([[1,2,3],[4,5,6]])\n",
    "ar5 = np.array([[0,0,0],[0,0,0]])\n",
    "ar6 = np.array([[1,2],[3,4],[5,6]])\n",
    "print(ar2*ar4)\n",
    "np.dot(ar2,ar6)\n"
   ]
  },
  {
   "cell_type": "code",
   "execution_count": 3,
   "metadata": {},
   "outputs": [],
   "source": [
    "import csv"
   ]
  },
  {
   "cell_type": "code",
   "execution_count": 4,
   "metadata": {},
   "outputs": [
    {
     "name": "stdout",
     "output_type": "stream",
     "text": [
      "['2021-02-23', '112', '-0.6', '-3', '2.7']\n",
      "['2021-02-24', '112', '0.9', '-2.6', '6.8']\n",
      "['2021-02-25', '112', '3.2', '0', '6.2']\n",
      "['2021-02-26', '112', '7.4', '0.6', '14.8']\n",
      "['2021-02-27', '112', '9.2', '3.2', '15.5']\n",
      "['2021-02-28', '112', '7', '3.6', '9.7']\n",
      "['2021-03-01', '112', '3.9', '-0.2', '7.5']\n",
      "['2021-03-02', '112', '1.9', '-0.5', '5.6']\n",
      "['2021-03-03', '112', '3.8', '0.3', '7.7']\n",
      "['2021-03-04', '112', '7.7', '3.4', '12.5']\n",
      "['2021-03-05', '112', '8', '3.7', '13.5']\n",
      "['2021-03-06', '112', '6.7', '4.5', '11.4']\n",
      "['2021-03-07', '112', '5.5', '3', '10.1']\n",
      "['2021-03-08', '112', '5.3', '1.8', '10.1']\n",
      "['2021-03-09', '112', '5.6', '2.2', '10.5']\n",
      "['2021-03-10', '112', '7', '2.6', '13.6']\n",
      "['2021-03-11', '112', '8', '3.4', '13.2']\n",
      "['2021-03-12', '112', '9.7', '7.1', '13.6']\n",
      "['2021-03-13', '112', '7.8', '4.8', '12.7']\n",
      "['2021-03-14', '112', '5.7', '4.3', '9.6']\n",
      "['2021-03-15', '112', '9.2', '4.6', '14']\n",
      "['2021-03-16', '112', '7.4', '4.2', '11.1']\n",
      "['2021-03-17', '112', '7.1', '2.6', '12.8']\n",
      "['2021-03-18', '112', '9.2', '4.5', '15.2']\n",
      "['2021-03-19', '112', '12.3', '7.8', '17.6']\n",
      "['2021-03-20', '112', '8.6', '5.8', '12']\n",
      "['2021-03-21', '112', '5.4', '3.4', '7.7']\n",
      "['2021-03-22', '112', '5.8', '2.9', '9.5']\n",
      "['2021-03-23', '112', '7.9', '3.7', '12.1']\n",
      "['2021-03-24', '112', '9.9', '6.8', '13.7']\n",
      "[]\n"
     ]
    }
   ],
   "source": [
    "f =open('Incheon.csv')\n",
    "data = csv.reader(f)\n",
    "header =next(data)\n",
    "for row in data :\n",
    "    print(row)\n",
    "f.close()"
   ]
  }
 ],
 "metadata": {
  "kernelspec": {
   "display_name": "Python 3",
   "language": "python",
   "name": "python3"
  },
  "language_info": {
   "codemirror_mode": {
    "name": "ipython",
    "version": 3
   },
   "file_extension": ".py",
   "mimetype": "text/x-python",
   "name": "python",
   "nbconvert_exporter": "python",
   "pygments_lexer": "ipython3",
   "version": "3.8.5"
  }
 },
 "nbformat": 4,
 "nbformat_minor": 4
}
