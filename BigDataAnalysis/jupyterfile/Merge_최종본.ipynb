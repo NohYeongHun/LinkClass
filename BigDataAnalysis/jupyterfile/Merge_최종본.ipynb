{
 "cells": [
  {
   "cell_type": "markdown",
   "metadata": {},
   "source": [
    "# 제목"
   ]
  },
  {
   "cell_type": "markdown",
   "metadata": {},
   "source": [
    "# 가. 준비"
   ]
  },
  {
   "cell_type": "code",
   "execution_count": null,
   "metadata": {},
   "outputs": [],
   "source": [
    "import pandas as pd\n",
    "import geopandas as gpd\n",
    "import folium\n",
    "import itertools\n",
    "import numpy as np\n",
    "import jenkspy\n",
    "import matplotlib.pyplot as plt\n",
    "%matplotlib inline\n",
    "from pyproj import Transformer\n",
    "from shapely.geometry import Point, MultiLineString, Polygon, LineString\n",
    "\n",
    "from geoband.API import *\n",
    "GetCompasData('SBJ_2102_002', '1', '1.수원시_버스정류장.csv')\n",
    "GetCompasData('SBJ_2102_002', '2', '2.수원시_버스정류장별_승하차이력(1).csv')\n",
    "GetCompasData('SBJ_2102_002', '3', '3.수원시_버스정류장별_승하차이력(2).csv')\n",
    "GetCompasData('SBJ_2102_002', '4', '4.수원시_버스정류장별_승하차이력(3).csv')\n",
    "GetCompasData('SBJ_2102_002', '5', '5.수원시_버스정류장별_승하차이력(4).csv')\n",
    "GetCompasData('SBJ_2102_002', '6', '6.수원시_버스정류장별_승하차이력(5).csv')\n",
    "GetCompasData('SBJ_2102_002', '7', '7.수원시_버스정류장별_노선현황.csv')\n",
    "GetCompasData('SBJ_2102_002', '14', '14.수원시_시간대별_유동인구(2020).csv')\n",
    "GetCompasData('SBJ_2102_002', '22', '22.수원시_상세도로망_LV6.geojson')\n",
    "GetCompasData('SBJ_2102_002', '23', '23.수원시_평일_일별_시간대별_추정교통량_LV6.csv')\n",
    "GetCompasData('SBJ_2102_002', '24', '24.수원시_평일_일별_혼잡빈도강도_LV6.csv')\n",
    "GetCompasData('SBJ_2102_002', '25', '25.수원시_평일_일별_혼잡시간강도_LV6.csv')\n",
    "GetCompasData('SBJ_2102_002', '26', '26.수원시_인도(2017).geojson')"
   ]
  },
  {
   "cell_type": "markdown",
   "metadata": {},
   "source": [
    "# 나. 버스정류장 골라내기"
   ]
  },
  {
   "cell_type": "markdown",
   "metadata": {},
   "source": [
    "## 1. 버스정류장"
   ]
  },
  {
   "cell_type": "code",
   "execution_count": null,
   "metadata": {},
   "outputs": [],
   "source": [
    "# 수원시 버스 정류장 데이터 가공\n",
    "# ===============================\n",
    "busStop = pd.read_csv('1.수원시_버스정류장.csv')\n",
    "busStop.info()"
   ]
  },
  {
   "cell_type": "code",
   "execution_count": null,
   "metadata": {},
   "outputs": [],
   "source": [
    "# BIS가 있는 정류장의 이름, 위도, 경도를 추려냄.\n",
    "busStop = busStop[busStop['BIS설치여부'] == 1][['정류장ID', '정류장명', 'lon', 'lat']]\n",
    "busStop.index = pd.RangeIndex(len(busStop))\n",
    "\n",
    "# 정류장의 위도, 경도를 바탕으로 정류장의 위치를 나타내는 Point 객체를 만듦.\n",
    "# 나중에 버스정류장과 인도 사이의 계산에 필요함.\n",
    "busStop_point = []\n",
    "for i in range(len(busStop)):\n",
    "    busStop_point.append(Point(busStop['lon'][i], busStop['lat'][i]))\n",
    "busStop['location'] = busStop_point\n",
    "\n",
    "# 완성된 버스정류장 데이터 확인\n",
    "busStop"
   ]
  },
  {
   "cell_type": "markdown",
   "metadata": {},
   "source": [
    "## 2. 인도"
   ]
  },
  {
   "cell_type": "code",
   "execution_count": null,
   "metadata": {},
   "outputs": [],
   "source": [
    "# 수원시 인도 데이터 가공\n",
    "# ========================\n",
    "sidewalk = gpd.read_file('26.수원시_인도(2017).geojson')\n",
    "\n",
    "# 인도 데이터 처리:\n",
    "#    1. 정류장 세로 폭 2.5m + 보행자 통로 확보 1.5m = 4.0m 이상의 폭(WIDT)를 가진 인도만을 선발함.\n",
    "#    2. 비포장도로(QUAL SWQ004) 또는 순수 자전거도로(KIND SWK002)는 제외함.\n",
    "#    3. 최종적으로 선발된 인도의 UFID와 WIDT, geometry 정보만을 저장함.\n",
    "sidewalk = sidewalk[ (sidewalk['WIDT']>=4) & (sidewalk['QUAL']!='SWQ004') & (sidewalk['KIND']!='SWK002') ][['UFID','WIDT', 'geometry']]\n",
    "sidewalk.index = pd.RangeIndex(len(sidewalk))\n",
    "\n",
    "# 가공된 인도 데이터 확인\n",
    "sidewalk"
   ]
  },
  {
   "cell_type": "code",
   "execution_count": null,
   "metadata": {},
   "outputs": [],
   "source": [
    "# 인도 데이터 추가 처리:\n",
    "#    제공된 인도의 geometry는 MultiLineString으로 되어있음.\n",
    "#    이 데이터는 여러 개의 꺾은선 모양으로, 버스정류장의 좌표가 해당 인도에 위치해 있는지 판단하기 매우 어려움.\n",
    "#    따라서 MultiLineString을 일정 면적을 가진 Polygon으로 변환하여 나중에 쓰기 편하도록 바꿈.\n",
    "for i in range(len(sidewalk)):\n",
    "    sidewalk['geometry'][i] = sidewalk['geometry'][i].buffer(0.000135)"
   ]
  },
  {
   "cell_type": "markdown",
   "metadata": {},
   "source": [
    "## 3. 버스정류장 + 인도"
   ]
  },
  {
   "cell_type": "code",
   "execution_count": null,
   "metadata": {},
   "outputs": [],
   "source": [
    "# 버스정류장 데이터와 인도 데이터 결합\n",
    "# ====================================\n",
    "\n",
    "# 버스정류장이 위치한 인도가 4.0m 이상의 폭을 가진 인도인지 확인, 그 결과를 busStop에 추가한다.\n",
    "hasEnoughSpace = [False for i in range(len(busStop))]\n",
    "\n",
    "for i in range(len(busStop)):\n",
    "    for a_sidewalk in sidewalk['geometry']:\n",
    "        if a_sidewalk.contains(busStop['location'][i]):\n",
    "            hasEnoughSpace[i] = True\n",
    "\n",
    "busStop['hasEnoughSpace'] = hasEnoughSpace\n",
    "\n",
    "# 버스정류장 중 주변공간이 충분치 않은 곳은 제외한다.\n",
    "busStop = busStop[busStop['hasEnoughSpace']==True]\n",
    "busStop = busStop.iloc[:, 0:4]\n",
    "busStop.index = pd.RangeIndex(len(busStop))\n",
    "\n",
    "# 완성된 버스정류장 데이터 확인\n",
    "#busStop.to_csv('버스정류장_BIS있음_인도폭4m이상.csv')\n",
    "busStop"
   ]
  },
  {
   "cell_type": "markdown",
   "metadata": {},
   "source": [
    "## 4. 시각화"
   ]
  },
  {
   "cell_type": "code",
   "execution_count": null,
   "metadata": {
    "scrolled": true
   },
   "outputs": [],
   "source": [
    "# 시각화(필수아님)\n",
    "# ======================\n",
    "\n",
    "m = folium.Map(\n",
    "    location = [37.27704264490948, 127.00430215626447], #수원여고 좌표.\n",
    "    zoom_start = 13\n",
    ")\n",
    "\n",
    "folium.Choropleth(\n",
    "    geo_data = sidewalk,\n",
    "    data = sidewalk[['UFID', 'WIDT']],\n",
    "    columns = ('UFID', 'WIDT'),\n",
    "    key_on = 'feature.properties.UFID',\n",
    "    fill_color = 'Pastel2',\n",
    "    fill_opacity = 0.7,\n",
    "    line_opacity = 1.0,\n",
    "    legend_name = '인도 폭 (m)'\n",
    ").add_to(m)\n",
    "\n",
    "for i in range(len(busStop)):\n",
    "    folium.Marker(\n",
    "        location = [busStop['lat'][i], busStop['lon'][i]],\n",
    "        popup = busStop['정류장명'][i],\n",
    "        icon = folium.Icon(icon = 'bus', prefix = 'fa')\n",
    "    ).add_to(m)\n",
    "\n",
    "m"
   ]
  },
  {
   "cell_type": "markdown",
   "metadata": {},
   "source": [
    "# 다. 승차이력 점수 부여하기"
   ]
  },
  {
   "cell_type": "markdown",
   "metadata": {},
   "source": [
    "## 1. 정류장별 전체 승차건수 평균"
   ]
  },
  {
   "cell_type": "code",
   "execution_count": null,
   "metadata": {
    "scrolled": true
   },
   "outputs": [],
   "source": [
    "df2 = pd.read_csv(\"2.수원시_버스정류장별_승하차이력(1).csv\")\n",
    "df3 = pd.read_csv(\"3.수원시_버스정류장별_승하차이력(2).csv\")\n",
    "df4 = pd.read_csv(\"4.수원시_버스정류장별_승하차이력(3).csv\")\n",
    "df5 = pd.read_csv(\"5.수원시_버스정류장별_승하차이력(4).csv\")\n",
    "df6 = pd.read_csv(\"6.수원시_버스정류장별_승하차이력(5).csv\")\n",
    "\n",
    "# 모든 승하차 이력 합치기\n",
    "df = pd.concat([df2,df3,df4,df5,df6])"
   ]
  },
  {
   "cell_type": "code",
   "execution_count": null,
   "metadata": {},
   "outputs": [],
   "source": [
    "# 정류소ID 별로 전체 승하차 건수 확인\n",
    "df_riding = df.groupby(by=['정류소ID'], as_index=False).sum()\n",
    "df_riding = df_riding[['정류소ID', '전체 승차 건수']]\n",
    "df_riding.columns.values[0] = '정류장ID'\n",
    "df_riding"
   ]
  },
  {
   "cell_type": "code",
   "execution_count": null,
   "metadata": {},
   "outputs": [],
   "source": [
    "# 전체 승차 건수 이상치 확인 : X/MAX 방식으로 가중치 산정 근거\n",
    "plt.boxplot(df_riding['전체 승차 건수'],\n",
    "           notch=1, \n",
    "            sym='bo', \n",
    "            vert=0 \n",
    "           )"
   ]
  },
  {
   "cell_type": "markdown",
   "metadata": {},
   "source": [
    "## 2. 승차건수별 점수 계산(비율)"
   ]
  },
  {
   "cell_type": "code",
   "execution_count": null,
   "metadata": {},
   "outputs": [],
   "source": [
    "# 나. 에서 구한 busStop의 500개 정류장의 데이터만 가져옴.\n",
    "temp = pd.merge(busStop['정류장ID'], df_riding, on='정류장ID', how='left')"
   ]
  },
  {
   "cell_type": "code",
   "execution_count": null,
   "metadata": {},
   "outputs": [],
   "source": [
    "# 점수 계산\n",
    "temp['점수'] = round(temp['전체 승차 건수']/max(temp['전체 승차 건수']), 4)\n",
    "temp"
   ]
  },
  {
   "cell_type": "code",
   "execution_count": null,
   "metadata": {},
   "outputs": [],
   "source": [
    "# busStop에 해당 점수 반영\n",
    "busStop = busStop.assign(승차건수_점수 = temp['점수'])\n",
    "busStop"
   ]
  },
  {
   "cell_type": "markdown",
   "metadata": {},
   "source": [
    "# 라. 노선에 따른 점수 부여하기"
   ]
  },
  {
   "cell_type": "markdown",
   "metadata": {},
   "source": [
    "## 1. 정류장별 운행노선의 개수 계산"
   ]
  },
  {
   "cell_type": "code",
   "execution_count": null,
   "metadata": {},
   "outputs": [],
   "source": [
    "df7 = pd.read_csv('7.수원시_버스정류장별_노선현황.csv', encoding = 'UTF-8')\n",
    "\n",
    "cnt = []\n",
    "\n",
    "for i in range(len(df7)):\n",
    "    cnt.append(df7['운행노선'][i].count(',') +1)\n",
    "\n",
    "df7 = df7[['정류소명']]\n",
    "df7 = df7.assign(운행노선_수 = cnt)\n",
    "df7.columns.values[0] = '정류장명'\n",
    "df7"
   ]
  },
  {
   "cell_type": "code",
   "execution_count": null,
   "metadata": {},
   "outputs": [],
   "source": [
    "# 이름이 같은 정류장들은 평균치를 냈음(자료에 정확한 위치가 주어져 있지 않아 판단 힘듦)\n",
    "df7 = df7.groupby(['정류장명']).mean().reset_index()"
   ]
  },
  {
   "cell_type": "code",
   "execution_count": null,
   "metadata": {},
   "outputs": [],
   "source": [
    "df7"
   ]
  },
  {
   "cell_type": "code",
   "execution_count": null,
   "metadata": {},
   "outputs": [],
   "source": [
    "df7['운행노선_수'].describe()"
   ]
  },
  {
   "cell_type": "code",
   "execution_count": null,
   "metadata": {},
   "outputs": [],
   "source": [
    "# 운행 노선_수 이상치 확인 : X/MAX 방식으로 가중치 산정 근거\n",
    "plt.boxplot(df7['운행노선_수'],\n",
    "            notch=1, \n",
    "            sym='bo', \n",
    "            vert=0 \n",
    "           )"
   ]
  },
  {
   "cell_type": "markdown",
   "metadata": {},
   "source": [
    "## 2. 점수 계산"
   ]
  },
  {
   "cell_type": "code",
   "execution_count": null,
   "metadata": {},
   "outputs": [],
   "source": [
    "# 나., 다. 에서 구한 busStop에 해당하는 정류장만 가져옴\n",
    "temp = pd.merge(busStop['정류장명'], df7, on = '정류장명', how = 'left')"
   ]
  },
  {
   "cell_type": "code",
   "execution_count": null,
   "metadata": {},
   "outputs": [],
   "source": [
    "# 점수를 구해서 busStop에 추가함\n",
    "score = round(temp['운행노선_수']/max(temp['운행노선_수']), 4)\n",
    "\n",
    "busStop = busStop.assign(운행노선_점수 = score)\n",
    "busStop"
   ]
  },
  {
   "cell_type": "markdown",
   "metadata": {},
   "source": [
    "# 마. 유동인구 수 점수 부여하기"
   ]
  },
  {
   "cell_type": "markdown",
   "metadata": {},
   "source": [
    "## 1. 버스 운행 시간대(0500-2259)의 평균 유동인구 구하기 "
   ]
  },
  {
   "cell_type": "code",
   "execution_count": null,
   "metadata": {},
   "outputs": [],
   "source": [
    "# 유동인구 데이터 처리\n",
    "# ====================\n",
    "df14 = pd.read_csv('14.수원시_시간대별_유동인구(2020).csv')\n",
    "temp = pd.DataFrame(df14[['lon', 'lat']])\n",
    "temp['유동인구'] = pd.DataFrame(df14.iloc[:, 6:24].mean(axis=1))\n",
    "\n",
    "floating_population = temp.groupby(['lon', 'lat']).mean().reset_index()\n",
    "floating_population"
   ]
  },
  {
   "cell_type": "code",
   "execution_count": null,
   "metadata": {},
   "outputs": [],
   "source": [
    "# 유동 인구 수 이상치 확인 : X/MAX 방식으로 가중치 산정 근거\n",
    "plt.boxplot(floating_population['유동인구'],\n",
    "            notch=1, \n",
    "            sym='bo', \n",
    "            vert=0 \n",
    "           )"
   ]
  },
  {
   "cell_type": "code",
   "execution_count": null,
   "metadata": {},
   "outputs": [],
   "source": [
    "# 시간대를 버스가 다니는 시간대인 05시부터 23시 이전까지로 정한다.\n",
    "# 해당 시간대의 유동인구 평균을 구해 특정 날짜, 특정 위치의 유동인구값을 구한다.\n",
    "# 위치를 바탕으로 묶어서 위치별 평균 유동인구 값을 구한다.\n",
    "\n",
    "\n",
    "points=[]\n",
    "for i in range(len(floating_population)):\n",
    "    points.append(Point(floating_population.loc[i,'lon'], floating_population.loc[i,'lat']))\n",
    "\n",
    "floating_population = floating_population.assign(location=points)\n",
    "\n",
    "# 완성된 유동인구 데이터 확인\n",
    "floating_population"
   ]
  },
  {
   "cell_type": "markdown",
   "metadata": {},
   "source": [
    "## 2. 유동인구 데이터 시각화"
   ]
  },
  {
   "cell_type": "code",
   "execution_count": null,
   "metadata": {},
   "outputs": [],
   "source": [
    "# 유동인구 데이터 시각화\n",
    "# ======================\n",
    "\n",
    "# 수원시를 1km x 1km 격자로 나눈다. (나눈 값들은 polygons에 저장된다)\n",
    "#    folium에서는 epsg:4326 을 쓰고, 미터 좌표계는 epsg:5186 이다.\n",
    "#    따라서 좌표계를 변환해주는 장치가 필요하다.\n",
    "\n",
    "folium_to_meter = Transformer.from_crs('epsg:4326', 'epsg:5186', always_xy=True)\n",
    "meter_to_folium = Transformer.from_crs('epsg:5186', 'epsg:4326', always_xy=True)\n",
    "base = (126.92877511736562, 37.228786072536124) # 대충 수원시 서남단 구석\n",
    "unit = 1000 # 1000m 라는 뜻 ## << 500m 로 하고싶으면: 500\n",
    "polygons = []\n",
    "x, y = folium_to_meter.transform(base[0], base[1]) # base좌표를 meter좌표계로 바꿈.\n",
    "\n",
    "for i, j in itertools.product(range(15), range(12)): ## << 500m 로 하고싶으면: 30, 24\n",
    "    point1 = meter_to_folium.transform(x + (i+0)*unit, y + (j+0)*unit)\n",
    "    point2 = meter_to_folium.transform(x + (i+1)*unit, y + (j+0)*unit)\n",
    "    point3 = meter_to_folium.transform(x + (i+1)*unit, y + (j+1)*unit)\n",
    "    point4 = meter_to_folium.transform(x + (i+0)*unit, y + (j+1)*unit)\n",
    "    polygons.append(Polygon([point1, point2, point3, point4]))\n",
    "\n",
    "#    각 grid들을 저장한다.\n",
    "idxes = [i for i in range(len(polygons))]\n",
    "temp = {'idx':idxes, 'geometry':polygons, 'count':0, 'fp_sum':0, 'floatingPopulation':0}\n",
    "suwon_grid = pd.DataFrame(temp)"
   ]
  },
  {
   "cell_type": "code",
   "execution_count": null,
   "metadata": {},
   "outputs": [],
   "source": [
    "# 유동인구 데이터는 point형태로 값이 주어져 있으므로, 그 point가 어느 격자에 속하는지를 판단한다.\n",
    "for i in range(len(floating_population)):\n",
    "    for j in range(len(suwon_grid)):\n",
    "        if suwon_grid.loc[j,'geometry'].contains(floating_population.loc[i,'location']):\n",
    "            suwon_grid.loc[j, 'count'] += 1\n",
    "            suwon_grid.loc[j, 'fp_sum'] += floating_population.loc[i, '유동인구']\n",
    "            break"
   ]
  },
  {
   "cell_type": "code",
   "execution_count": null,
   "metadata": {},
   "outputs": [],
   "source": [
    "# 각 grid마다의 평균 유동인구를 구한다.\n",
    "suwon_grid['floatingPopulation'] = suwon_grid['fp_sum'] / suwon_grid['count']"
   ]
  },
  {
   "cell_type": "code",
   "execution_count": null,
   "metadata": {},
   "outputs": [],
   "source": [
    "# 시각화를 위해 GeoDataFrame 객채를 만든다.\n",
    "geo_suwon_grid = gpd.GeoDataFrame(suwon_grid, geometry = suwon_grid['geometry'])\n",
    "geo_suwon_grid.set_crs(epsg=4326, inplace=True)\n",
    "print('done')"
   ]
  },
  {
   "cell_type": "code",
   "execution_count": null,
   "metadata": {},
   "outputs": [],
   "source": [
    "# 시각화\n",
    "m = folium.Map(location = [37.27704264490948, 127.00430215626447], zoom_start=12)\n",
    "\n",
    "folium.Choropleth(\n",
    "    geo_data = geo_suwon_grid,\n",
    "    data = suwon_grid,\n",
    "    columns = ('idx', 'floatingPopulation'),\n",
    "    key_on = 'feature.properties.idx',\n",
    "    fill_opacity = 0.8,\n",
    "    line_opacity = 0.2\n",
    ").add_to(m)\n",
    "\n",
    "m"
   ]
  },
  {
   "cell_type": "markdown",
   "metadata": {},
   "source": [
    "## 3. 버스정류장 별 유동인구 점수 계산"
   ]
  },
  {
   "cell_type": "code",
   "execution_count": null,
   "metadata": {},
   "outputs": [],
   "source": [
    "temp = busStop[['정류장ID', 'lon', 'lat']]\n",
    "\n",
    "# 정류장이 격자의 어느 부분에 속해있는지를 판단, 해당 격자의 유동인구 값을 정류장에게 부여한다.\n",
    "fp=[]\n",
    "for busstop in range(len(temp)):\n",
    "    for grid in range(len(suwon_grid)):\n",
    "        if Point( temp.loc[busstop,'lon'], temp.loc[busstop,'lat'] ).within(suwon_grid.loc[grid,'geometry']):\n",
    "            fp.append(suwon_grid.loc[grid, 'floatingPopulation'])"
   ]
  },
  {
   "cell_type": "code",
   "execution_count": null,
   "metadata": {},
   "outputs": [],
   "source": [
    "# 점수를 구한다.\n",
    "fp_score = np.round(fp / max(fp), 4)\n",
    "busStop = busStop.assign(유동인구_점수 = fp_score)\n",
    "busStop"
   ]
  },
  {
   "cell_type": "markdown",
   "metadata": {},
   "source": [
    "# 바. 추정교통량 점수 부여하기"
   ]
  },
  {
   "cell_type": "markdown",
   "metadata": {},
   "source": [
    "## 1. 데이터 처리"
   ]
  },
  {
   "cell_type": "code",
   "execution_count": null,
   "metadata": {},
   "outputs": [],
   "source": [
    "#df22 = gpd.read_file('22.수원시_상세도로망_LV6.geojson')\n",
    "df23 = pd.read_csv(('23.수원시_평일_일별_시간대별_추정교통량_LV6.csv'),\n",
    "                  dtype={\"시간적범위\": \"string\"})\n",
    "df24 = pd.read_csv('24.수원시_평일_일별_혼잡빈도강도_LV6.csv')\n",
    "df25 = pd.read_csv('25.수원시_평일_일별_혼잡시간강도_LV6.csv')"
   ]
  },
  {
   "cell_type": "code",
   "execution_count": null,
   "metadata": {},
   "outputs": [],
   "source": [
    "# 22번데이터\n",
    "상세도로망 = gpd.read_file('22.수원시_상세도로망_LV6.geojson')\n",
    "상세도로망.info()\n",
    "상세도로망"
   ]
  },
  {
   "cell_type": "code",
   "execution_count": null,
   "metadata": {},
   "outputs": [],
   "source": [
    "# 23번 데이터의 종류 확인\n",
    "df23['시간적범위'].value_counts()"
   ]
  },
  {
   "cell_type": "code",
   "execution_count": null,
   "metadata": {},
   "outputs": [],
   "source": [
    "# 시간범위를 fulltime만 사용\n",
    "df23_교통량 = df23[df23['시간적범위'] == 'fulltime']\n",
    "df23_교통량"
   ]
  },
  {
   "cell_type": "code",
   "execution_count": null,
   "metadata": {},
   "outputs": [],
   "source": [
    "#24번, 25번 데이터의 정보\n",
    "df24.info()\n",
    "df25.info()"
   ]
  },
  {
   "cell_type": "code",
   "execution_count": null,
   "metadata": {},
   "outputs": [],
   "source": [
    "# 24번, 25번 데이터에서 사용할 데이터 추려내기\n",
    "혼잡빈도강도_전체 = df24[['상세도로망_LinkID','혼잡빈도강도']]\n",
    "혼잡시간강도_전체 = df25[['상세도로망_LinkID','혼잡시간강도']]"
   ]
  },
  {
   "cell_type": "code",
   "execution_count": null,
   "metadata": {},
   "outputs": [],
   "source": [
    "# 23번 데이터에 추려낸 혼잡시간,빈도 강도 합치기.\n",
    "df23_교통량 = df23_교통량.merge(혼잡빈도강도_전체,on='상세도로망_LinkID',how=\"outer\").merge(혼잡시간강도_전체,on='상세도로망_LinkID',how=\"outer\")\n",
    "df23_교통량['혼잡시간강도'].fillna(value = df23_교통량.median()['혼잡시간강도'], inplace=True)\n",
    "df23_교통량['혼잡빈도강도'].fillna(value = df23_교통량.median()['혼잡빈도강도'], inplace=True)\n",
    "df23_교통량 = df23_교통량.drop(['승용차_추정교통량','버스_추정교통량','화물차_추정교통량'],axis=1)\n",
    "df23_교통량"
   ]
  },
  {
   "cell_type": "code",
   "execution_count": null,
   "metadata": {},
   "outputs": [],
   "source": [
    "# df23 상데도로망과 읍면동명으로 groupby()\n",
    "df23_교통량 = df23_교통량.groupby(['상세도로망_LinkID','읍면동명'], as_index=False).mean()\n",
    "df23_교통량 = df23_교통량.sort_values(by='전체_추정교통량' ,ascending=False)\n",
    "df23_교통량"
   ]
  },
  {
   "cell_type": "code",
   "execution_count": null,
   "metadata": {},
   "outputs": [],
   "source": [
    "# 전체_추정교통량 확인 : X/MAX 방식으로 가중치 산정 근거\n",
    "plt.boxplot(df23_교통량['전체_추정교통량'],\n",
    "            notch=1, \n",
    "            sym='bo', \n",
    "            vert=0 \n",
    "           )"
   ]
  },
  {
   "cell_type": "code",
   "execution_count": null,
   "metadata": {
    "scrolled": true
   },
   "outputs": [],
   "source": [
    "# 혼잡시간강도 : Natural break 방식으로 가중치 산정 근거\n",
    "plt.boxplot(df23_교통량['혼잡시간강도'],\n",
    "            notch=1, \n",
    "            sym='bo', \n",
    "            vert=0 \n",
    "           )"
   ]
  },
  {
   "cell_type": "code",
   "execution_count": null,
   "metadata": {},
   "outputs": [],
   "source": [
    "# 혼잡빈도강도: Natural break 방식으로 가중치 산정 근거\n",
    "plt.boxplot(df23_교통량['혼잡빈도강도'],\n",
    "            notch=1, \n",
    "            sym='bo', \n",
    "            vert=0 \n",
    "           )"
   ]
  },
  {
   "cell_type": "code",
   "execution_count": null,
   "metadata": {},
   "outputs": [],
   "source": [
    "교통량_max=max(df23_교통량['전체_추정교통량'])\n",
    "시간강도_max=max(df23_교통량['혼잡빈도강도'])\n",
    "빈도강도_max=max(df23_교통량['혼잡시간강도'])\n",
    "print(교통량_max)\n",
    "print(시간강도_max)\n",
    "print(빈도강도_max)\n",
    "df23_교통량"
   ]
  },
  {
   "cell_type": "code",
   "execution_count": null,
   "metadata": {},
   "outputs": [],
   "source": [
    "df23_교통량['가중치']=df23_교통량['전체_추정교통량']/교통량_max\n",
    "빈도가중치 = jenkspy.jenks_breaks(df23_교통량['혼잡빈도강도'], nb_class =5)\n",
    "시간가중치 = jenkspy.jenks_breaks(df23_교통량['혼잡시간강도'], nb_class =5)\n",
    "df23_교통량['빈도가중치']=pd.cut(df23_교통량['혼잡빈도강도'],bins=빈도가중치, labels=[0.2,0.4,0.6,0.8,1.0],\n",
    "                        include_lowest=True)\n",
    "df23_교통량['시간가중치']=pd.cut(df23_교통량['혼잡시간강도'],bins=시간가중치, labels=[0.2,0.4,0.6,0.8,1.0],\n",
    "                        include_lowest=True)\n",
    "df23_교통량 = df23_교통량.astype(\n",
    "    {\n",
    "        '빈도가중치':np.float,\n",
    "        '시간가중치':np.float,\n",
    "        '가중치':np.float\n",
    "    }\n",
    ")\n",
    "df23_교통량"
   ]
  },
  {
   "cell_type": "code",
   "execution_count": null,
   "metadata": {},
   "outputs": [],
   "source": [
    "df23_교통량['가중치']=df23_교통량['가중치']+df23_교통량['빈도가중치']+df23_교통량['시간가중치']\n",
    "가중치최대=max(df23_교통량['가중치'])\n",
    "\n",
    "print(가중치최대)\n",
    "df23_교통량['가중치']=round(df23_교통량['가중치']/가중치최대,2)\n",
    "print(max(df23_교통량['가중치']))"
   ]
  },
  {
   "cell_type": "code",
   "execution_count": null,
   "metadata": {},
   "outputs": [],
   "source": [
    "df23_교통량"
   ]
  },
  {
   "cell_type": "markdown",
   "metadata": {},
   "source": [
    "## 3. 시각화"
   ]
  },
  {
   "cell_type": "code",
   "execution_count": null,
   "metadata": {},
   "outputs": [],
   "source": [
    "# df23번 LinkID 상행, 하행 데이터로 구분\n",
    "df23_교통량['상세도로망_LinkID'] = df23_교통량['상세도로망_LinkID'].apply(str)\n",
    "df23_교통량['up_down'] = df23_교통량['상세도로망_LinkID'][:].str[9:11].replace({'01': '상행','02':'하행'})\n",
    "df23_교통량['link_id'] = df23_교통량['상세도로망_LinkID'][:].str[0:9]\n",
    "df23_교통량.info()\n",
    "df23_교통량"
   ]
  },
  {
   "cell_type": "code",
   "execution_count": null,
   "metadata": {},
   "outputs": [],
   "source": [
    "#]link_id, 읍면동명]groupby / 전체 추정 교통량 내림차순으로 정렬\n",
    "df23_교통량최종 = df23_교통량.groupby(['link_id','읍면동명'], as_index=False).mean()\n",
    "df23_교통량최종 = df23_교통량.sort_values(by='전체_추정교통량', ascending=False)\n",
    "df23_교통량최종 = pd.DataFrame(df23_교통량최종)\n",
    "df23_교통량최종.info()\n",
    "# 사용한 가중치 제거 * 가중치 = (시간강도+혼잡빈도+교통량가중치)/max((시간강도+혼잡빈도+교통량가중치))\n",
    "df23_교통량최종 = df23_교통량최종.drop(['빈도가중치','시간가중치'],axis=1)\n",
    "df23_교통량최종"
   ]
  },
  {
   "cell_type": "code",
   "execution_count": null,
   "metadata": {},
   "outputs": [],
   "source": [
    "# 도로에 buffer를 씌워서 MultiPolygon 생성\n",
    "for i in range(len(상세도로망)):\n",
    "     상세도로망['geometry'][i] = 상세도로망['geometry'][i].buffer(0.00015)"
   ]
  },
  {
   "cell_type": "code",
   "execution_count": null,
   "metadata": {},
   "outputs": [],
   "source": [
    "# 혼잡한 도로 시각화\n",
    "m = folium.Map(location = [37.26369641371368, 127.02856264231166], zoom_start=11)\n",
    "\n",
    "folium.Choropleth(\n",
    "    geo_data = 상세도로망,\n",
    "    data = df23_교통량최종, \n",
    "    columns = ['link_id', '가중치'],\n",
    "    key_on = 'feature.properties.link_id',\n",
    "    fill_color = 'Blues',\n",
    "    fill_opacity = 0.5,\n",
    "    line_opacity = 0.5).add_to(m)\n",
    "\n",
    "m"
   ]
  },
  {
   "cell_type": "markdown",
   "metadata": {},
   "source": [
    "## 4. 버스정류장에 점수 부여하기"
   ]
  },
  {
   "cell_type": "code",
   "execution_count": null,
   "metadata": {},
   "outputs": [],
   "source": [
    "# 가중치를 구하기 위해 버퍼값을 늘림.\n",
    "상세도로망_점수 = 상세도로망\n",
    "상세도로망_점수\n",
    "for i in range(len(상세도로망_점수)):\n",
    "     상세도로망_점수['geometry'][i] = 상세도로망_점수['geometry'][i].buffer(0.00035)"
   ]
  },
  {
   "cell_type": "code",
   "execution_count": null,
   "metadata": {},
   "outputs": [],
   "source": [
    "#link_id 기준으로 df23_교통량 최종, 상세도로망 merge\n",
    "도로구역 = df23_교통량최종.merge(상세도로망_점수, on='link_id',how='left') \n",
    "도로구역.drop('상세도로망_LinkID', axis=1,inplace=True)\n",
    "도로구역 = 도로구역[['link_id','읍면동명','도로등급','전체_추정교통량','혼잡빈도강도','혼잡시간강도','가중치','geometry']]\n",
    "도로구역"
   ]
  },
  {
   "cell_type": "code",
   "execution_count": null,
   "metadata": {},
   "outputs": [],
   "source": [
    "temp = busStop[['정류장ID', 'lon', 'lat']]"
   ]
  },
  {
   "cell_type": "code",
   "execution_count": null,
   "metadata": {},
   "outputs": [],
   "source": [
    "score = []\n",
    "\n",
    "# floating_population.loc[i,'location']은 point형태로 되어있음.\n",
    "# 유동인구 데이터는 point형태로 값이 주어져 있으므로, 그 point가 어느 격자에 속하는지를 판단한다.\n",
    "for i in range(len(busStop)):\n",
    "    # 해당 격자내에 point가 있으면 모든격자 탐색하지 않고 break\n",
    "    for j in range(len(도로구역)):\n",
    "        if 도로구역.loc[j,'geometry'].contains(Point(temp['lon'][i], temp['lat'][i])):\n",
    "            score.append(도로구역.loc[j,'가중치'])\n",
    "            break"
   ]
  },
  {
   "cell_type": "code",
   "execution_count": null,
   "metadata": {
    "scrolled": true
   },
   "outputs": [],
   "source": [
    "busStop = busStop.assign(교통량_점수 = score)\n",
    "busStop"
   ]
  },
  {
   "cell_type": "code",
   "execution_count": null,
   "metadata": {},
   "outputs": [],
   "source": [
    "def calculate(score1, score2, score3, score4):\n",
    "    result = score1*0.3 + score2*0.2 + score3*0.1+ score4*0.4\n",
    "    return result"
   ]
  },
  {
   "cell_type": "code",
   "execution_count": null,
   "metadata": {},
   "outputs": [],
   "source": [
    "final_score = [0 for i in range(len(busStop))]\n",
    "final_score = calculate(busStop['승차건수_점수'], busStop['운행노선_점수'], busStop['유동인구_점수'], busStop['교통량_점수'])\n",
    "final_score = final_score*100"
   ]
  },
  {
   "cell_type": "code",
   "execution_count": null,
   "metadata": {},
   "outputs": [],
   "source": [
    "final = busStop.assign(최종점수 = final_score)"
   ]
  },
  {
   "cell_type": "code",
   "execution_count": null,
   "metadata": {},
   "outputs": [],
   "source": [
    "final = final.sort_values(by='최종점수' ,ascending=False)"
   ]
  },
  {
   "cell_type": "code",
   "execution_count": null,
   "metadata": {},
   "outputs": [],
   "source": [
    "df = final.head(30)"
   ]
  },
  {
   "cell_type": "code",
   "execution_count": null,
   "metadata": {},
   "outputs": [],
   "source": [
    "df = df.reset_index(drop=True)\n",
    "import import_ipynb\n",
    "from AdTarget import AdTarget"
   ]
  },
  {
   "cell_type": "code",
   "execution_count": null,
   "metadata": {},
   "outputs": [],
   "source": [
    "adTarget = AdTarget()\n",
    "adTarget.arrangeData()"
   ]
  },
  {
   "cell_type": "code",
   "execution_count": null,
   "metadata": {},
   "outputs": [],
   "source": [
    "target = []\n",
    "for i in range(len(df)):\n",
    "    target.append(adTarget.getAdTarget(df['lon'][i], df['lat'][i]))\n",
    "df = df.assign(광고_타겟층 = target)\n",
    "df2 = df[['정류장ID', '정류장명', 'lon', 'lat', '광고_타겟층']]\n",
    "df2"
   ]
  }
 ],
 "metadata": {
  "kernelspec": {
   "display_name": "Python 3",
   "language": "python",
   "name": "python3"
  },
  "language_info": {
   "codemirror_mode": {
    "name": "ipython",
    "version": 3
   },
   "file_extension": ".py",
   "mimetype": "text/x-python",
   "name": "python",
   "nbconvert_exporter": "python",
   "pygments_lexer": "ipython3",
   "version": "3.8.5"
  }
 },
 "nbformat": 4,
 "nbformat_minor": 5
}
