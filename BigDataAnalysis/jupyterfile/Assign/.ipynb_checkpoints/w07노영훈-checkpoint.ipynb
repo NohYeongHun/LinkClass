{
 "cells": [
  {
   "cell_type": "markdown",
   "metadata": {},
   "source": [
    "# 크롤링"
   ]
  },
  {
   "cell_type": "code",
   "execution_count": 1,
   "metadata": {},
   "outputs": [],
   "source": [
    "# from selenium import webdriver\n",
    "# driver = webdriver.Chrome('chromedriver.exe')"
   ]
  },
  {
   "cell_type": "code",
   "execution_count": 2,
   "metadata": {},
   "outputs": [],
   "source": [
    "# url = 'https://www.daum.net/'\n",
    "# driver.get(url)"
   ]
  },
  {
   "cell_type": "code",
   "execution_count": 3,
   "metadata": {},
   "outputs": [],
   "source": [
    "# html = driver.page_source"
   ]
  },
  {
   "cell_type": "code",
   "execution_count": 4,
   "metadata": {},
   "outputs": [],
   "source": [
    "from selenium import webdriver"
   ]
  },
  {
   "cell_type": "code",
   "execution_count": 5,
   "metadata": {},
   "outputs": [],
   "source": [
    "html ='''\n",
    "<html>\n",
    "    <head>\n",
    "    </head>\n",
    "    <body>\n",
    "        <h1> 우리동네시장</h1>\n",
    "            <div class = 'sale'>\n",
    "                <p id='fruits1' class='fruits'>\n",
    "                    <span class = 'name'> 바나나 </span>\n",
    "                    <span class = 'price'> 3000원 </span>\n",
    "                    <span class = 'inventory'> 500개 </span>\n",
    "                    <span class = 'store'> 가나다상회 </span>\n",
    "                    <a href = 'https://map.kakao.com/' > 홈페이지 </a>\n",
    "                </p>\n",
    "            </div>\n",
    "            <div class = 'prepare'>\n",
    "                <p id='fruits2' class='fruits'>\n",
    "                    <span class ='name'> 파인애플 </span>\n",
    "                </p>\n",
    "            </div>\n",
    "    </body>\n",
    "</html>\n",
    "'''"
   ]
  },
  {
   "cell_type": "code",
   "execution_count": 6,
   "metadata": {
    "scrolled": true
   },
   "outputs": [
    {
     "name": "stdout",
     "output_type": "stream",
     "text": [
      "\n",
      "<html>\n",
      "    <head>\n",
      "    </head>\n",
      "    <body>\n",
      "        <h1> 우리동네시장</h1>\n",
      "            <div class = 'sale'>\n",
      "                <p id='fruits1' class='fruits'>\n",
      "                    <span class = 'name'> 바나나 </span>\n",
      "                    <span class = 'price'> 3000원 </span>\n",
      "                    <span class = 'inventory'> 500개 </span>\n",
      "                    <span class = 'store'> 가나다상회 </span>\n",
      "                    <a href = 'https://map.kakao.com/' > 홈페이지 </a>\n",
      "                </p>\n",
      "            </div>\n",
      "            <div class = 'prepare'>\n",
      "                <p id='fruits2' class='fruits'>\n",
      "                    <span class ='name'> 파인애플 </span>\n",
      "                </p>\n",
      "            </div>\n",
      "    </body>\n",
      "</html>\n",
      "\n"
     ]
    }
   ],
   "source": [
    "print(html)"
   ]
  },
  {
   "cell_type": "code",
   "execution_count": 7,
   "metadata": {},
   "outputs": [],
   "source": [
    "from bs4 import BeautifulSoup"
   ]
  },
  {
   "cell_type": "code",
   "execution_count": 8,
   "metadata": {},
   "outputs": [],
   "source": [
    "soup = BeautifulSoup(html, 'html.parser')"
   ]
  },
  {
   "cell_type": "code",
   "execution_count": 9,
   "metadata": {},
   "outputs": [
    {
     "name": "stdout",
     "output_type": "stream",
     "text": [
      "[<span class=\"name\"> 바나나 </span>, <span class=\"price\"> 3000원 </span>, <span class=\"inventory\"> 500개 </span>, <span class=\"store\"> 가나다상회 </span>, <span class=\"name\"> 파인애플 </span>]\n"
     ]
    }
   ],
   "source": [
    "tags_span = soup.select('span')\n",
    "print(tags_span)"
   ]
  },
  {
   "cell_type": "code",
   "execution_count": 10,
   "metadata": {},
   "outputs": [
    {
     "name": "stdout",
     "output_type": "stream",
     "text": [
      "[<p class=\"fruits\" id=\"fruits1\">\n",
      "<span class=\"name\"> 바나나 </span>\n",
      "<span class=\"price\"> 3000원 </span>\n",
      "<span class=\"inventory\"> 500개 </span>\n",
      "<span class=\"store\"> 가나다상회 </span>\n",
      "<a href=\"https://map.kakao.com/\"> 홈페이지 </a>\n",
      "</p>, <p class=\"fruits\" id=\"fruits2\">\n",
      "<span class=\"name\"> 파인애플 </span>\n",
      "</p>]\n"
     ]
    }
   ],
   "source": [
    "tags_p = soup.select('p')\n",
    "print(tags_p)"
   ]
  },
  {
   "cell_type": "code",
   "execution_count": 11,
   "metadata": {},
   "outputs": [
    {
     "name": "stdout",
     "output_type": "stream",
     "text": [
      "[<p class=\"fruits\" id=\"fruits1\">\n",
      "<span class=\"name\"> 바나나 </span>\n",
      "<span class=\"price\"> 3000원 </span>\n",
      "<span class=\"inventory\"> 500개 </span>\n",
      "<span class=\"store\"> 가나다상회 </span>\n",
      "<a href=\"https://map.kakao.com/\"> 홈페이지 </a>\n",
      "</p>]\n"
     ]
    }
   ],
   "source": [
    "ids_fruits1 = soup.select('#fruits1')\n",
    "print(ids_fruits1)"
   ]
  },
  {
   "cell_type": "code",
   "execution_count": 12,
   "metadata": {},
   "outputs": [
    {
     "name": "stdout",
     "output_type": "stream",
     "text": [
      "[<span class=\"price\"> 3000원 </span>]\n"
     ]
    }
   ],
   "source": [
    "class_price = soup.select('.price')\n",
    "print(class_price)"
   ]
  },
  {
   "cell_type": "code",
   "execution_count": 13,
   "metadata": {},
   "outputs": [
    {
     "name": "stdout",
     "output_type": "stream",
     "text": [
      "[<span class=\"name\"> 바나나 </span>, <span class=\"name\"> 파인애플 </span>]\n"
     ]
    }
   ],
   "source": [
    "tags_name = soup.select('span.name')\n",
    "print(tags_name)"
   ]
  },
  {
   "cell_type": "code",
   "execution_count": 14,
   "metadata": {},
   "outputs": [],
   "source": [
    "tags_banana1 = soup.select('#fruits1 > span.name')"
   ]
  },
  {
   "cell_type": "code",
   "execution_count": 15,
   "metadata": {},
   "outputs": [
    {
     "name": "stdout",
     "output_type": "stream",
     "text": [
      "[<span class=\"name\"> 바나나 </span>]\n",
      "[<span class=\"name\"> 바나나 </span>]\n"
     ]
    }
   ],
   "source": [
    "tags_banana2 = soup.select('div.sale>#fruits1>span.name')\n",
    "tags_banana3 = soup.select('div.sale span.name')\n",
    "print(tags_banana2)\n",
    "print(tags_banana3)"
   ]
  },
  {
   "cell_type": "code",
   "execution_count": 16,
   "metadata": {},
   "outputs": [],
   "source": [
    "driver = webdriver.Chrome('chromedriver.exe')"
   ]
  },
  {
   "cell_type": "code",
   "execution_count": 17,
   "metadata": {},
   "outputs": [],
   "source": [
    "url = 'http://www.melon.com/chart/index.htm'\n",
    "driver.get(url)"
   ]
  },
  {
   "cell_type": "code",
   "execution_count": 18,
   "metadata": {},
   "outputs": [],
   "source": [
    "html = driver.page_source\n",
    "soup = BeautifulSoup(html, 'html.parser')"
   ]
  },
  {
   "cell_type": "code",
   "execution_count": 19,
   "metadata": {},
   "outputs": [
    {
     "name": "stdout",
     "output_type": "stream",
     "text": [
      "101\n"
     ]
    }
   ],
   "source": [
    "songs = soup.select('tr')\n",
    "print(len(songs))"
   ]
  },
  {
   "cell_type": "code",
   "execution_count": 20,
   "metadata": {},
   "outputs": [
    {
     "name": "stdout",
     "output_type": "stream",
     "text": [
      "100\n"
     ]
    }
   ],
   "source": [
    "songs = soup.select('tbody > tr')\n",
    "print(len(songs))"
   ]
  },
  {
   "cell_type": "code",
   "execution_count": 21,
   "metadata": {},
   "outputs": [
    {
     "name": "stdout",
     "output_type": "stream",
     "text": [
      "<tr data-song-no=\"30287019\">\n",
      "<td><div class=\"wrap t_right\"><input class=\"input_check\" name=\"input_check\" title=\"롤린 (Rollin') 곡 선택\" type=\"checkbox\" value=\"30287019\"/></div></td>\n",
      "<td><div class=\"wrap\">\n",
      "<a class=\"image_typeAll\" href=\"javascript:melon.link.goAlbumDetail('10043575');\" title=\"Rollin'\">\n",
      "<img alt=\"Rollin' - 페이지 이동\" height=\"60\" onerror=\"WEBPOCIMG.defaultAlbumImg(this);\" src=\"https://cdnimg.melon.co.kr/cm2/album/images/100/43/575/10043575_20210302112520_500.jpg/melon/resize/120/quality/80/optimize\" width=\"60\"/>\n",
      "<span class=\"bg_album_frame\"></span>\n",
      "</a>\n",
      "</div></td>\n",
      "<td><div class=\"wrap\">\n",
      "<a class=\"btn button_icons type03 song_info\" href=\"javascript:melon.link.goSongDetail('30287019');\" title=\"롤린 (Rollin') 곡정보\"><span class=\"none\">곡정보</span></a>\n",
      "</div></td>\n",
      "<td><div class=\"wrap\">\n",
      "<div class=\"wrap_song_info\">\n",
      "<div class=\"ellipsis rank01\"><span>\n",
      "<a href=\"javascript:melon.play.playSong('19030101',30287019);\" title=\"롤린 (Rollin') 재생\">롤린 (Rollin')</a>\n",
      "</span></div>\n",
      "<br/>\n",
      "<div class=\"ellipsis rank02\">\n",
      "<a href=\"javascript:melon.link.goArtistDetail('531700');\" title=\"브레이브걸스 - 페이지 이동\">브레이브걸스</a><span class=\"checkEllipsis\" style=\"display: none;\"><a href=\"javascript:melon.link.goArtistDetail('531700');\" title=\"브레이브걸스 - 페이지 이동\">브레이브걸스</a></span>\n",
      "</div>\n",
      "</div>\n",
      "</div></td>\n",
      "<td><div class=\"wrap\">\n",
      "<div class=\"wrap_song_info\">\n",
      "<div class=\"ellipsis rank03\">\n",
      "<a href=\"javascript:melon.link.goAlbumDetail('10043575');\" title=\"Rollin' - 페이지 이동\">Rollin'</a>\n",
      "</div>\n",
      "</div>\n",
      "</div></td>\n",
      "<td><div class=\"wrap\">\n",
      "<button class=\"button_etc like\" data-song-menuid=\"19030101\" data-song-no=\"30287019\" title=\"롤린 (Rollin') 좋아요\" type=\"button\"><span class=\"odd_span\">좋아요</span>\n",
      "<span class=\"cnt\">\n",
      "<span class=\"none\">총건수</span>\n",
      "248,071</span></button>\n",
      "</div></td>\n",
      "<td><div class=\"wrap t_center\">\n",
      "<button class=\"button_icons play\" onclick=\"melon.play.playSong('19030101',30287019);\" title=\"듣기\" type=\"button\"><span class=\"none\">듣기</span></button>\n",
      "</div></td>\n",
      "<td><div class=\"wrap t_center\">\n",
      "<button class=\"button_icons scrap\" onclick=\"melon.play.addPlayList('30287019');\" title=\"담기\" type=\"button\"><span class=\"none\">담기</span></button>\n",
      "</div></td>\n",
      "<td><div class=\"wrap t_center\">\n",
      "<button class=\"button_icons download\" onclick=\"melon.buy.goBuyProduct('frm', '30287019', '3C0001', '','0', '19030101');\" title=\"다운로드\" type=\"button\"><span class=\"none\">다운로드</span></button>\n",
      "</div></td>\n",
      "<td><div class=\"wrap t_center\">\n",
      "<button class=\"button_icons video\" onclick=\"melon.link.goMvDetail('19030101', '30287019','song');\" title=\"뮤직비디오\" type=\"button\"><span class=\"none\">뮤직비디오</span></button>\n",
      "</div></td>\n",
      "</tr>\n"
     ]
    }
   ],
   "source": [
    "print(songs[0])"
   ]
  },
  {
   "cell_type": "code",
   "execution_count": 22,
   "metadata": {},
   "outputs": [],
   "source": [
    "song = songs[0]"
   ]
  },
  {
   "cell_type": "code",
   "execution_count": 23,
   "metadata": {},
   "outputs": [
    {
     "data": {
      "text/plain": [
       "6"
      ]
     },
     "execution_count": 23,
     "metadata": {},
     "output_type": "execute_result"
    }
   ],
   "source": [
    "title = song.select('a')\n",
    "len(title)"
   ]
  },
  {
   "cell_type": "code",
   "execution_count": 24,
   "metadata": {},
   "outputs": [
    {
     "data": {
      "text/plain": [
       "2"
      ]
     },
     "execution_count": 24,
     "metadata": {},
     "output_type": "execute_result"
    }
   ],
   "source": [
    "title = song.select('span > a')\n",
    "len(title)"
   ]
  },
  {
   "cell_type": "code",
   "execution_count": 25,
   "metadata": {},
   "outputs": [
    {
     "data": {
      "text/plain": [
       "1"
      ]
     },
     "execution_count": 25,
     "metadata": {},
     "output_type": "execute_result"
    }
   ],
   "source": [
    "title = song.select('div.ellipsis.rank01 > span > a')\n",
    "len(title)"
   ]
  },
  {
   "cell_type": "code",
   "execution_count": 26,
   "metadata": {},
   "outputs": [
    {
     "data": {
      "text/plain": [
       "\"롤린 (Rollin')\""
      ]
     },
     "execution_count": 26,
     "metadata": {},
     "output_type": "execute_result"
    }
   ],
   "source": [
    "title = song.select('div.ellipsis.rank01 > span >a')[0].text\n",
    "title"
   ]
  },
  {
   "cell_type": "code",
   "execution_count": 27,
   "metadata": {},
   "outputs": [
    {
     "data": {
      "text/plain": [
       "1"
      ]
     },
     "execution_count": 27,
     "metadata": {},
     "output_type": "execute_result"
    }
   ],
   "source": [
    "singer = song.select('div.ellipsis.rank02 > a')\n",
    "len(singer)"
   ]
  },
  {
   "cell_type": "code",
   "execution_count": 28,
   "metadata": {},
   "outputs": [
    {
     "data": {
      "text/plain": [
       "'브레이브걸스'"
      ]
     },
     "execution_count": 28,
     "metadata": {},
     "output_type": "execute_result"
    }
   ],
   "source": [
    "singer = song.select('div.ellipsis.rank02 > a')[0].text\n",
    "singer"
   ]
  },
  {
   "cell_type": "code",
   "execution_count": 29,
   "metadata": {},
   "outputs": [
    {
     "name": "stdout",
     "output_type": "stream",
     "text": [
      "롤린 (Rollin') | 브레이브걸스\n",
      "라일락 | 아이유\n",
      "Peaches (Feat. Daniel Caesar & Giveon) | Justin Bieber\n",
      "Celebrity | 아이유\n",
      "운전만해 (We Ride) | 브레이브걸스\n",
      "Timeless | SG 워너비\n",
      "라라라 | SG 워너비\n",
      "내사람 | SG 워너비\n",
      "Coin | 아이유\n",
      "내 손을 잡아 | 아이유\n",
      "Dynamite | 방탄소년단\n",
      "On The Ground | 로제 (ROSÉ)\n",
      "LOVE DAY (2021) (바른연애 길잡이 X 양요섭, 정은지) | 양요섭\n",
      "밝게 빛나는 별이 되어 비춰줄게 | 송이한\n",
      "밤하늘의 별을(2020) | 경서\n",
      "그냥 안아달란 말야 | 다비치\n",
      "살다가 | SG 워너비\n",
      "잠이 오질 않네요 | 장범준\n",
      "Blueming | 아이유\n",
      "에잇(Prod.&Feat. SUGA of BTS) | 아이유\n",
      "취기를 빌려 (취향저격 그녀 X 산들) | 산들\n",
      "VVS (Feat. JUSTHIS) (Prod. GroovyRoom) | 미란이 (Mirani)\n",
      "어푸 (Ah puh) | 아이유\n",
      "Lovesick Girls | BLACKPINK\n",
      "나랑 같이 걸을래 (바른연애 길잡이 X 적재) | 적재\n",
      "멜로디 | ASH ISLAND\n",
      "흔들리는 꽃들 속에서 네 샴푸향이 느껴진거야 | 장범준\n",
      "너의 발걸음에 빛을 비춰줄게 (Prod. 조영수) | 케이시 (Kassy)\n",
      "이 밤을 빌려 말해요 (바른연애 길잡이 X 10CM) | 10CM\n",
      "봄 안녕 봄 | 아이유\n",
      "12:45 (Stripped) | Etham\n",
      "그날에 나는 맘이 편했을까 | 이예준\n",
      "어떻게 이별까지 사랑하겠어, 널 사랑하는 거지 | AKMU (악동뮤지션)\n",
      "추억은 만남보다 이별에 남아 | 정동하\n",
      "오래된 노래 | 스탠딩 에그\n",
      "Savage Love (Laxed - Siren Beat) (BTS Remix) | Jawsh 685\n",
      "기다릴게 | 하동균\n",
      "아이와 나의 바다 | 아이유\n",
      "METEOR | 창모 (CHANGMO)\n",
      "Dolphin | 오마이걸 (OH MY GIRL)\n",
      "힘든 건 사랑이 아니다 | 임창정\n",
      "2002 | Anne-Marie\n",
      "Flu | 아이유\n",
      "모든 날, 모든 순간 (Every day, Every Moment) | 폴킴\n",
      "사실 나는 (Feat.전건호) | 경서예지\n",
      "사이렌 Remix (Feat. UNEDUCATED KID, Paul Blanco) | 호미들\n",
      "아로하 | 조정석\n",
      "봄날 | 방탄소년단\n",
      "어떻게 지내 (Prod. By VAN.C) | 오반 (OVAN)\n",
      "Life Goes On | 방탄소년단\n",
      "너의 번호를 누르고 (Prod. 영화처럼) | #안녕\n",
      "오늘도 빛나는 너에게 (To You My Light) (Feat.이라온) | 마크툽 (MAKTUB)\n",
      "작은 것들을 위한 시 (Boy With Luv) (Feat. Halsey) | 방탄소년단\n",
      "늦은 밤 너의 집 앞 골목길에서 | 노을\n",
      "How You Like That | BLACKPINK\n",
      "죄와벌 | SG 워너비\n",
      "돌림노래 (Feat. DEAN) | 아이유\n",
      "고백 (바른연애 길잡이 X 허각) | 허각\n",
      "Memories | Maroon 5\n",
      "내 마음이 움찔했던 순간 (취향저격 그녀 X 규현) | 규현 (KYUHYUN)\n",
      "마음을 드려요 | 아이유\n",
      "살짝 설렜어 (Nonstop) | 오마이걸 (OH MY GIRL)\n",
      "함께 했는데 이별은 나 혼자인 거야 | 소정 (레이디스 코드)\n",
      "이제 나만 믿어요 | 임영웅\n",
      "이렇게 좋아해 본 적이 없어요 | CHEEZE (치즈)\n",
      "Dance Monkey | Tones And I\n",
      "Love poem | 아이유\n",
      "Gone | 로제 (ROSÉ)\n",
      "When We Disco (Duet with 선미) | 박진영\n",
      "아리랑 | SG 워너비\n",
      "되풀이 | 임창정\n",
      "ASAP | STAYC(스테이씨)\n",
      "너를 만나 | 폴킴\n",
      "에필로그 | 아이유\n",
      "혼술하고 싶은 밤 | 벤\n",
      "시작 | 가호 (Gaho)\n",
      "내일이 오면 (Feat. 기리보이, BIG Naughty (서동현)) | 릴보이 (lIlBOI)\n",
      "우린 어쩌다 헤어진 걸까 | 허각\n",
      "우리 왜 헤어져야 해 | 신예영\n",
      "Paris In The Rain | Lauv\n",
      "서면역에서 | 순순희\n",
      "Don't Start Now | Dua Lipa\n",
      "안녕 | 폴킴\n",
      "거짓말이라도 해서 널 보고싶어 | 백지영\n",
      "Downtown Baby | 블루 (BLOO)\n",
      "그 한마디 (바른연애 길잡이 X 이하이) | 이하이\n",
      "I'm Not Cool | 현아\n",
      "Maniac | Conan Gray\n",
      "술 한잔 해요 | 경서 (경서예지)\n",
      "딩가딩가 (Dingga) | 마마무 (Mamamoo)\n",
      "안녕이란 (Two Letters) | 황치열\n",
      "마리아 (Maria) | 화사 (Hwa Sa)\n",
      "Don't Call Me | SHINee (샤이니)\n",
      "사랑은 지날수록 더욱 선명하게 남아 | 전상근\n",
      "서른 밤째 (바른연애 길잡이 X 윤하 (YOUNHA)) | 윤하 (YOUNHA)\n",
      "빈 컵 (Empty Cup) | 아이유\n",
      "Panorama | IZ*ONE (아이즈원)\n",
      "다시 만날까 봐 (Prod.V.O.S) | 이예준\n",
      "어떤X (What Type of X) | 제시 (Jessi)\n",
      "꼬리 (TAIL) | 선미\n"
     ]
    }
   ],
   "source": [
    "# 멜론 100위 노래순위 정보 검색.\n",
    "for song in songs:\n",
    "    title = song.select('div.ellipsis.rank01 > span >a')[0].text\n",
    "    singer = song.select('div.ellipsis.rank02 > span >a')[0].text\n",
    "    print(title, singer, sep =' | ')"
   ]
  },
  {
   "cell_type": "code",
   "execution_count": 30,
   "metadata": {
    "scrolled": true
   },
   "outputs": [
    {
     "name": "stdout",
     "output_type": "stream",
     "text": [
      "롤린 (Rollin') | 브레이브걸스\n",
      "라일락 | 아이유\n",
      "Peaches (Feat. Daniel Caesar & Giveon) | Justin Bieber\n",
      "Celebrity | 아이유\n",
      "운전만해 (We Ride) | 브레이브걸스\n",
      "Timeless | SG 워너비\n",
      "라라라 | SG 워너비\n",
      "내사람 | SG 워너비\n",
      "Coin | 아이유\n",
      "내 손을 잡아 | 아이유\n",
      "Dynamite | 방탄소년단\n",
      "On The Ground | 로제 (ROSÉ)\n",
      "LOVE DAY (2021) (바른연애 길잡이 X 양요섭, 정은지) | 양요섭\n",
      "밝게 빛나는 별이 되어 비춰줄게 | 송이한\n",
      "밤하늘의 별을(2020) | 경서\n",
      "그냥 안아달란 말야 | 다비치\n",
      "살다가 | SG 워너비\n",
      "잠이 오질 않네요 | 장범준\n",
      "Blueming | 아이유\n",
      "에잇(Prod.&Feat. SUGA of BTS) | 아이유\n",
      "취기를 빌려 (취향저격 그녀 X 산들) | 산들\n",
      "VVS (Feat. JUSTHIS) (Prod. GroovyRoom) | 미란이 (Mirani)\n",
      "어푸 (Ah puh) | 아이유\n",
      "Lovesick Girls | BLACKPINK\n",
      "나랑 같이 걸을래 (바른연애 길잡이 X 적재) | 적재\n",
      "멜로디 | ASH ISLAND\n",
      "흔들리는 꽃들 속에서 네 샴푸향이 느껴진거야 | 장범준\n",
      "너의 발걸음에 빛을 비춰줄게 (Prod. 조영수) | 케이시 (Kassy)\n",
      "이 밤을 빌려 말해요 (바른연애 길잡이 X 10CM) | 10CM\n",
      "봄 안녕 봄 | 아이유\n",
      "12:45 (Stripped) | Etham\n",
      "그날에 나는 맘이 편했을까 | 이예준\n",
      "어떻게 이별까지 사랑하겠어, 널 사랑하는 거지 | AKMU (악동뮤지션)\n",
      "추억은 만남보다 이별에 남아 | 정동하\n",
      "오래된 노래 | 스탠딩 에그\n",
      "Savage Love (Laxed - Siren Beat) (BTS Remix) | Jawsh 685\n",
      "기다릴게 | 하동균\n",
      "아이와 나의 바다 | 아이유\n",
      "METEOR | 창모 (CHANGMO)\n",
      "Dolphin | 오마이걸 (OH MY GIRL)\n",
      "힘든 건 사랑이 아니다 | 임창정\n",
      "2002 | Anne-Marie\n",
      "Flu | 아이유\n",
      "모든 날, 모든 순간 (Every day, Every Moment) | 폴킴\n",
      "사실 나는 (Feat.전건호) | 경서예지\n",
      "사이렌 Remix (Feat. UNEDUCATED KID, Paul Blanco) | 호미들\n",
      "아로하 | 조정석\n",
      "봄날 | 방탄소년단\n",
      "어떻게 지내 (Prod. By VAN.C) | 오반 (OVAN)\n",
      "Life Goes On | 방탄소년단\n",
      "너의 번호를 누르고 (Prod. 영화처럼) | #안녕\n",
      "오늘도 빛나는 너에게 (To You My Light) (Feat.이라온) | 마크툽 (MAKTUB)\n",
      "작은 것들을 위한 시 (Boy With Luv) (Feat. Halsey) | 방탄소년단\n",
      "늦은 밤 너의 집 앞 골목길에서 | 노을\n",
      "How You Like That | BLACKPINK\n",
      "죄와벌 | SG 워너비\n",
      "돌림노래 (Feat. DEAN) | 아이유\n",
      "고백 (바른연애 길잡이 X 허각) | 허각\n",
      "Memories | Maroon 5\n",
      "내 마음이 움찔했던 순간 (취향저격 그녀 X 규현) | 규현 (KYUHYUN)\n",
      "마음을 드려요 | 아이유\n",
      "살짝 설렜어 (Nonstop) | 오마이걸 (OH MY GIRL)\n",
      "함께 했는데 이별은 나 혼자인 거야 | 소정 (레이디스 코드)\n",
      "이제 나만 믿어요 | 임영웅\n",
      "이렇게 좋아해 본 적이 없어요 | CHEEZE (치즈)\n",
      "Dance Monkey | Tones And I\n",
      "Love poem | 아이유\n",
      "Gone | 로제 (ROSÉ)\n",
      "When We Disco (Duet with 선미) | 박진영\n",
      "아리랑 | SG 워너비\n",
      "되풀이 | 임창정\n",
      "ASAP | STAYC(스테이씨)\n",
      "너를 만나 | 폴킴\n",
      "에필로그 | 아이유\n",
      "혼술하고 싶은 밤 | 벤\n",
      "시작 | 가호 (Gaho)\n",
      "내일이 오면 (Feat. 기리보이, BIG Naughty (서동현)) | 릴보이 (lIlBOI)\n",
      "우린 어쩌다 헤어진 걸까 | 허각\n",
      "우리 왜 헤어져야 해 | 신예영\n",
      "Paris In The Rain | Lauv\n",
      "서면역에서 | 순순희\n",
      "Don't Start Now | Dua Lipa\n",
      "안녕 | 폴킴\n",
      "거짓말이라도 해서 널 보고싶어 | 백지영\n",
      "Downtown Baby | 블루 (BLOO)\n",
      "그 한마디 (바른연애 길잡이 X 이하이) | 이하이\n",
      "I'm Not Cool | 현아\n",
      "Maniac | Conan Gray\n",
      "술 한잔 해요 | 경서 (경서예지)\n",
      "딩가딩가 (Dingga) | 마마무 (Mamamoo)\n",
      "안녕이란 (Two Letters) | 황치열\n",
      "마리아 (Maria) | 화사 (Hwa Sa)\n",
      "Don't Call Me | SHINee (샤이니)\n",
      "사랑은 지날수록 더욱 선명하게 남아 | 전상근\n",
      "서른 밤째 (바른연애 길잡이 X 윤하 (YOUNHA)) | 윤하 (YOUNHA)\n",
      "빈 컵 (Empty Cup) | 아이유\n",
      "Panorama | IZ*ONE (아이즈원)\n",
      "다시 만날까 봐 (Prod.V.O.S) | 이예준\n",
      "어떤X (What Type of X) | 제시 (Jessi)\n",
      "꼬리 (TAIL) | 선미\n"
     ]
    }
   ],
   "source": [
    "driver = webdriver.Chrome('chromedriver.exe')\n",
    "\n",
    "url = 'http://www.melon.com/chart/index.htm'\n",
    "driver.get(url)\n",
    "\n",
    "# from bs4 import BeautifulSoup\n",
    "html = driver.page_source\n",
    "soup = BeautifulSoup(html, 'html.parser')\n",
    "\n",
    "songs = soup.select('tbody > tr')\n",
    "\n",
    "for song in songs:\n",
    "    title = song.select('div.ellipsis.rank01 > span >a')[0].text\n",
    "    singer = song.select('div.ellipsis.rank02 > span >a')[0].text\n",
    "    print(title, singer, sep =' | ')"
   ]
  },
  {
   "cell_type": "code",
   "execution_count": 31,
   "metadata": {},
   "outputs": [
    {
     "name": "stdout",
     "output_type": "stream",
     "text": [
      "롤린 (Rollin') | 브레이브걸스\n",
      "라일락 | 아이유\n",
      "Peaches (Feat. Daniel Caesar & Giveon) | Justin Bieber\n",
      "Celebrity | 아이유\n",
      "운전만해 (We Ride) | 브레이브걸스\n",
      "Timeless | SG 워너비\n",
      "라라라 | SG 워너비\n",
      "내사람 | SG 워너비\n",
      "Coin | 아이유\n",
      "내 손을 잡아 | 아이유\n",
      "Dynamite | 방탄소년단\n",
      "On The Ground | 로제 (ROSÉ)\n",
      "LOVE DAY (2021) (바른연애 길잡이 X 양요섭, 정은지) | 양요섭\n",
      "밝게 빛나는 별이 되어 비춰줄게 | 송이한\n",
      "밤하늘의 별을(2020) | 경서\n",
      "그냥 안아달란 말야 | 다비치\n",
      "살다가 | SG 워너비\n",
      "잠이 오질 않네요 | 장범준\n",
      "Blueming | 아이유\n",
      "에잇(Prod.&Feat. SUGA of BTS) | 아이유\n",
      "취기를 빌려 (취향저격 그녀 X 산들) | 산들\n",
      "VVS (Feat. JUSTHIS) (Prod. GroovyRoom) | 미란이 (Mirani)\n",
      "어푸 (Ah puh) | 아이유\n",
      "Lovesick Girls | BLACKPINK\n",
      "나랑 같이 걸을래 (바른연애 길잡이 X 적재) | 적재\n",
      "멜로디 | ASH ISLAND\n",
      "흔들리는 꽃들 속에서 네 샴푸향이 느껴진거야 | 장범준\n",
      "너의 발걸음에 빛을 비춰줄게 (Prod. 조영수) | 케이시 (Kassy)\n",
      "이 밤을 빌려 말해요 (바른연애 길잡이 X 10CM) | 10CM\n",
      "봄 안녕 봄 | 아이유\n",
      "12:45 (Stripped) | Etham\n",
      "그날에 나는 맘이 편했을까 | 이예준\n",
      "어떻게 이별까지 사랑하겠어, 널 사랑하는 거지 | AKMU (악동뮤지션)\n",
      "추억은 만남보다 이별에 남아 | 정동하\n",
      "오래된 노래 | 스탠딩 에그\n",
      "Savage Love (Laxed - Siren Beat) (BTS Remix) | Jawsh 685\n",
      "기다릴게 | 하동균\n",
      "아이와 나의 바다 | 아이유\n",
      "METEOR | 창모 (CHANGMO)\n",
      "Dolphin | 오마이걸 (OH MY GIRL)\n",
      "힘든 건 사랑이 아니다 | 임창정\n",
      "2002 | Anne-Marie\n",
      "Flu | 아이유\n",
      "모든 날, 모든 순간 (Every day, Every Moment) | 폴킴\n",
      "사실 나는 (Feat.전건호) | 경서예지\n",
      "사이렌 Remix (Feat. UNEDUCATED KID, Paul Blanco) | 호미들\n",
      "아로하 | 조정석\n",
      "봄날 | 방탄소년단\n",
      "어떻게 지내 (Prod. By VAN.C) | 오반 (OVAN)\n",
      "Life Goes On | 방탄소년단\n",
      "너의 번호를 누르고 (Prod. 영화처럼) | #안녕\n",
      "오늘도 빛나는 너에게 (To You My Light) (Feat.이라온) | 마크툽 (MAKTUB)\n",
      "작은 것들을 위한 시 (Boy With Luv) (Feat. Halsey) | 방탄소년단\n",
      "늦은 밤 너의 집 앞 골목길에서 | 노을\n",
      "How You Like That | BLACKPINK\n",
      "죄와벌 | SG 워너비\n",
      "돌림노래 (Feat. DEAN) | 아이유\n",
      "고백 (바른연애 길잡이 X 허각) | 허각\n",
      "Memories | Maroon 5\n",
      "내 마음이 움찔했던 순간 (취향저격 그녀 X 규현) | 규현 (KYUHYUN)\n",
      "마음을 드려요 | 아이유\n",
      "살짝 설렜어 (Nonstop) | 오마이걸 (OH MY GIRL)\n",
      "함께 했는데 이별은 나 혼자인 거야 | 소정 (레이디스 코드)\n",
      "이제 나만 믿어요 | 임영웅\n",
      "이렇게 좋아해 본 적이 없어요 | CHEEZE (치즈)\n",
      "Dance Monkey | Tones And I\n",
      "Love poem | 아이유\n",
      "Gone | 로제 (ROSÉ)\n",
      "When We Disco (Duet with 선미) | 박진영\n",
      "아리랑 | SG 워너비\n",
      "되풀이 | 임창정\n",
      "ASAP | STAYC(스테이씨)\n",
      "너를 만나 | 폴킴\n",
      "에필로그 | 아이유\n",
      "혼술하고 싶은 밤 | 벤\n",
      "시작 | 가호 (Gaho)\n",
      "내일이 오면 (Feat. 기리보이, BIG Naughty (서동현)) | 릴보이 (lIlBOI)\n",
      "우린 어쩌다 헤어진 걸까 | 허각\n",
      "우리 왜 헤어져야 해 | 신예영\n",
      "Paris In The Rain | Lauv\n",
      "서면역에서 | 순순희\n",
      "Don't Start Now | Dua Lipa\n",
      "안녕 | 폴킴\n",
      "거짓말이라도 해서 널 보고싶어 | 백지영\n",
      "Downtown Baby | 블루 (BLOO)\n",
      "그 한마디 (바른연애 길잡이 X 이하이) | 이하이\n",
      "I'm Not Cool | 현아\n",
      "Maniac | Conan Gray\n",
      "술 한잔 해요 | 경서 (경서예지)\n",
      "딩가딩가 (Dingga) | 마마무 (Mamamoo)\n",
      "안녕이란 (Two Letters) | 황치열\n",
      "마리아 (Maria) | 화사 (Hwa Sa)\n",
      "Don't Call Me | SHINee (샤이니)\n",
      "사랑은 지날수록 더욱 선명하게 남아 | 전상근\n",
      "서른 밤째 (바른연애 길잡이 X 윤하 (YOUNHA)) | 윤하 (YOUNHA)\n",
      "빈 컵 (Empty Cup) | 아이유\n",
      "Panorama | IZ*ONE (아이즈원)\n",
      "다시 만날까 봐 (Prod.V.O.S) | 이예준\n",
      "어떤X (What Type of X) | 제시 (Jessi)\n",
      "꼬리 (TAIL) | 선미\n"
     ]
    }
   ],
   "source": [
    "url = 'http://www.melon.com/chart/index.htm'\n",
    "driver.get(url)\n",
    "songs = driver.find_elements_by_css_selector('tbody > tr')\n",
    "for song in songs: \n",
    "    title = song.find_elements_by_css_selector('div.ellipsis.rank01 > span > a')[0].text\n",
    "    singer = song.find_elements_by_css_selector('div.ellipsis.rank02 > a')[0].text  \n",
    "    print(title, singer, sep = ' | ')"
   ]
  },
  {
   "cell_type": "markdown",
   "metadata": {},
   "source": [
    "# 여러 음원 서비스 순위 수집 및 정리\n",
    "- 멜론, 벅스, 지니에서 제공하는 인기차트 상위 곡 정보 크롤링\n",
    "- 크롤리한 결과를 엑셀로 저장\n",
    "- 각 음원 서비스 별로 저장한 엑셀 파일 통합\n",
    "- 총 250곡 정보 수집 후 엑셀 저장"
   ]
  },
  {
   "cell_type": "code",
   "execution_count": 32,
   "metadata": {},
   "outputs": [],
   "source": [
    "song_data = []\n",
    "rank =1\n",
    "songs = soup.select('tbody > tr')\n",
    "for song in songs:\n",
    "    title = song.select('div.ellipsis.rank01 > span > a')[0].text\n",
    "    singer = song.select('div.ellipsis.rank02 > a')[0].text\n",
    "    song_data.append(['Melon', rank, title, singer])\n",
    "    rank = rank +1"
   ]
  },
  {
   "cell_type": "code",
   "execution_count": 33,
   "metadata": {},
   "outputs": [
    {
     "data": {
      "text/plain": [
       "[['Melon', 1, \"롤린 (Rollin')\", '브레이브걸스'],\n",
       " ['Melon', 2, '라일락', '아이유'],\n",
       " ['Melon', 3, 'Peaches (Feat. Daniel Caesar & Giveon)', 'Justin Bieber'],\n",
       " ['Melon', 4, 'Celebrity', '아이유'],\n",
       " ['Melon', 5, '운전만해 (We Ride)', '브레이브걸스'],\n",
       " ['Melon', 6, 'Timeless', 'SG 워너비'],\n",
       " ['Melon', 7, '라라라', 'SG 워너비'],\n",
       " ['Melon', 8, '내사람', 'SG 워너비'],\n",
       " ['Melon', 9, 'Coin', '아이유'],\n",
       " ['Melon', 10, '내 손을 잡아', '아이유'],\n",
       " ['Melon', 11, 'Dynamite', '방탄소년단'],\n",
       " ['Melon', 12, 'On The Ground', '로제 (ROSÉ)'],\n",
       " ['Melon', 13, 'LOVE DAY (2021) (바른연애 길잡이 X 양요섭, 정은지)', '양요섭'],\n",
       " ['Melon', 14, '밝게 빛나는 별이 되어 비춰줄게', '송이한'],\n",
       " ['Melon', 15, '밤하늘의 별을(2020)', '경서'],\n",
       " ['Melon', 16, '그냥 안아달란 말야', '다비치'],\n",
       " ['Melon', 17, '살다가', 'SG 워너비'],\n",
       " ['Melon', 18, '잠이 오질 않네요', '장범준'],\n",
       " ['Melon', 19, 'Blueming', '아이유'],\n",
       " ['Melon', 20, '에잇(Prod.&Feat. SUGA of BTS)', '아이유'],\n",
       " ['Melon', 21, '취기를 빌려 (취향저격 그녀 X 산들)', '산들'],\n",
       " ['Melon', 22, 'VVS (Feat. JUSTHIS) (Prod. GroovyRoom)', '미란이 (Mirani)'],\n",
       " ['Melon', 23, '어푸 (Ah puh)', '아이유'],\n",
       " ['Melon', 24, 'Lovesick Girls', 'BLACKPINK'],\n",
       " ['Melon', 25, '나랑 같이 걸을래 (바른연애 길잡이 X 적재)', '적재'],\n",
       " ['Melon', 26, '멜로디', 'ASH ISLAND'],\n",
       " ['Melon', 27, '흔들리는 꽃들 속에서 네 샴푸향이 느껴진거야', '장범준'],\n",
       " ['Melon', 28, '너의 발걸음에 빛을 비춰줄게 (Prod. 조영수)', '케이시 (Kassy)'],\n",
       " ['Melon', 29, '이 밤을 빌려 말해요 (바른연애 길잡이 X 10CM)', '10CM'],\n",
       " ['Melon', 30, '봄 안녕 봄', '아이유'],\n",
       " ['Melon', 31, '12:45 (Stripped)', 'Etham'],\n",
       " ['Melon', 32, '그날에 나는 맘이 편했을까', '이예준'],\n",
       " ['Melon', 33, '어떻게 이별까지 사랑하겠어, 널 사랑하는 거지', 'AKMU (악동뮤지션)'],\n",
       " ['Melon', 34, '추억은 만남보다 이별에 남아', '정동하'],\n",
       " ['Melon', 35, '오래된 노래', '스탠딩 에그'],\n",
       " ['Melon', 36, 'Savage Love (Laxed - Siren Beat) (BTS Remix)', 'Jawsh 685'],\n",
       " ['Melon', 37, '기다릴게', '하동균'],\n",
       " ['Melon', 38, '아이와 나의 바다', '아이유'],\n",
       " ['Melon', 39, 'METEOR', '창모 (CHANGMO)'],\n",
       " ['Melon', 40, 'Dolphin', '오마이걸 (OH MY GIRL)'],\n",
       " ['Melon', 41, '힘든 건 사랑이 아니다', '임창정'],\n",
       " ['Melon', 42, '2002', 'Anne-Marie'],\n",
       " ['Melon', 43, 'Flu', '아이유'],\n",
       " ['Melon', 44, '모든 날, 모든 순간 (Every day, Every Moment)', '폴킴'],\n",
       " ['Melon', 45, '사실 나는 (Feat.전건호)', '경서예지'],\n",
       " ['Melon', 46, '사이렌 Remix (Feat. UNEDUCATED KID, Paul Blanco)', '호미들'],\n",
       " ['Melon', 47, '아로하', '조정석'],\n",
       " ['Melon', 48, '봄날', '방탄소년단'],\n",
       " ['Melon', 49, '어떻게 지내 (Prod. By VAN.C)', '오반 (OVAN)'],\n",
       " ['Melon', 50, 'Life Goes On', '방탄소년단'],\n",
       " ['Melon', 51, '너의 번호를 누르고 (Prod. 영화처럼)', '#안녕'],\n",
       " ['Melon', 52, '오늘도 빛나는 너에게 (To You My Light) (Feat.이라온)', '마크툽 (MAKTUB)'],\n",
       " ['Melon', 53, '작은 것들을 위한 시 (Boy With Luv) (Feat. Halsey)', '방탄소년단'],\n",
       " ['Melon', 54, '늦은 밤 너의 집 앞 골목길에서', '노을'],\n",
       " ['Melon', 55, 'How You Like That', 'BLACKPINK'],\n",
       " ['Melon', 56, '죄와벌', 'SG 워너비'],\n",
       " ['Melon', 57, '돌림노래 (Feat. DEAN)', '아이유'],\n",
       " ['Melon', 58, '고백 (바른연애 길잡이 X 허각)', '허각'],\n",
       " ['Melon', 59, 'Memories', 'Maroon 5'],\n",
       " ['Melon', 60, '내 마음이 움찔했던 순간 (취향저격 그녀 X 규현)', '규현 (KYUHYUN)'],\n",
       " ['Melon', 61, '마음을 드려요', '아이유'],\n",
       " ['Melon', 62, '살짝 설렜어 (Nonstop)', '오마이걸 (OH MY GIRL)'],\n",
       " ['Melon', 63, '함께 했는데 이별은 나 혼자인 거야', '소정 (레이디스 코드)'],\n",
       " ['Melon', 64, '이제 나만 믿어요', '임영웅'],\n",
       " ['Melon', 65, '이렇게 좋아해 본 적이 없어요', 'CHEEZE (치즈)'],\n",
       " ['Melon', 66, 'Dance Monkey', 'Tones And I'],\n",
       " ['Melon', 67, 'Love poem', '아이유'],\n",
       " ['Melon', 68, 'Gone', '로제 (ROSÉ)'],\n",
       " ['Melon', 69, 'When We Disco (Duet with 선미)', '박진영'],\n",
       " ['Melon', 70, '아리랑', 'SG 워너비'],\n",
       " ['Melon', 71, '되풀이', '임창정'],\n",
       " ['Melon', 72, 'ASAP', 'STAYC(스테이씨)'],\n",
       " ['Melon', 73, '너를 만나', '폴킴'],\n",
       " ['Melon', 74, '에필로그', '아이유'],\n",
       " ['Melon', 75, '혼술하고 싶은 밤', '벤'],\n",
       " ['Melon', 76, '시작', '가호 (Gaho)'],\n",
       " ['Melon', 77, '내일이 오면 (Feat. 기리보이, BIG Naughty (서동현))', '릴보이 (lIlBOI)'],\n",
       " ['Melon', 78, '우린 어쩌다 헤어진 걸까', '허각'],\n",
       " ['Melon', 79, '우리 왜 헤어져야 해', '신예영'],\n",
       " ['Melon', 80, 'Paris In The Rain', 'Lauv'],\n",
       " ['Melon', 81, '서면역에서', '순순희'],\n",
       " ['Melon', 82, \"Don't Start Now\", 'Dua Lipa'],\n",
       " ['Melon', 83, '안녕', '폴킴'],\n",
       " ['Melon', 84, '거짓말이라도 해서 널 보고싶어', '백지영'],\n",
       " ['Melon', 85, 'Downtown Baby', '블루 (BLOO)'],\n",
       " ['Melon', 86, '그 한마디 (바른연애 길잡이 X 이하이)', '이하이'],\n",
       " ['Melon', 87, \"I'm Not Cool\", '현아'],\n",
       " ['Melon', 88, 'Maniac', 'Conan Gray'],\n",
       " ['Melon', 89, '술 한잔 해요', '경서 (경서예지)'],\n",
       " ['Melon', 90, '딩가딩가 (Dingga)', '마마무 (Mamamoo)'],\n",
       " ['Melon', 91, '안녕이란 (Two Letters)', '황치열'],\n",
       " ['Melon', 92, '마리아 (Maria)', '화사 (Hwa Sa)'],\n",
       " ['Melon', 93, \"Don't Call Me\", 'SHINee (샤이니)'],\n",
       " ['Melon', 94, '사랑은 지날수록 더욱 선명하게 남아', '전상근'],\n",
       " ['Melon', 95, '서른 밤째 (바른연애 길잡이 X 윤하 (YOUNHA))', '윤하 (YOUNHA)'],\n",
       " ['Melon', 96, '빈 컵 (Empty Cup)', '아이유'],\n",
       " ['Melon', 97, 'Panorama', 'IZ*ONE (아이즈원)'],\n",
       " ['Melon', 98, '다시 만날까 봐 (Prod.V.O.S)', '이예준'],\n",
       " ['Melon', 99, '어떤X (What Type of X)', '제시 (Jessi)'],\n",
       " ['Melon', 100, '꼬리 (TAIL)', '선미']]"
      ]
     },
     "execution_count": 33,
     "metadata": {},
     "output_type": "execute_result"
    }
   ],
   "source": [
    "song_data"
   ]
  },
  {
   "cell_type": "code",
   "execution_count": 34,
   "metadata": {},
   "outputs": [],
   "source": [
    "import pandas as pd"
   ]
  },
  {
   "cell_type": "code",
   "execution_count": 35,
   "metadata": {},
   "outputs": [],
   "source": [
    "columns = ['서비스', '순위', '타이틀', '가수']"
   ]
  },
  {
   "cell_type": "code",
   "execution_count": 36,
   "metadata": {},
   "outputs": [
    {
     "data": {
      "text/html": [
       "<div>\n",
       "<style scoped>\n",
       "    .dataframe tbody tr th:only-of-type {\n",
       "        vertical-align: middle;\n",
       "    }\n",
       "\n",
       "    .dataframe tbody tr th {\n",
       "        vertical-align: top;\n",
       "    }\n",
       "\n",
       "    .dataframe thead th {\n",
       "        text-align: right;\n",
       "    }\n",
       "</style>\n",
       "<table border=\"1\" class=\"dataframe\">\n",
       "  <thead>\n",
       "    <tr style=\"text-align: right;\">\n",
       "      <th></th>\n",
       "      <th>서비스</th>\n",
       "      <th>순위</th>\n",
       "      <th>타이틀</th>\n",
       "      <th>가수</th>\n",
       "    </tr>\n",
       "  </thead>\n",
       "  <tbody>\n",
       "    <tr>\n",
       "      <th>0</th>\n",
       "      <td>Melon</td>\n",
       "      <td>1</td>\n",
       "      <td>롤린 (Rollin')</td>\n",
       "      <td>브레이브걸스</td>\n",
       "    </tr>\n",
       "    <tr>\n",
       "      <th>1</th>\n",
       "      <td>Melon</td>\n",
       "      <td>2</td>\n",
       "      <td>라일락</td>\n",
       "      <td>아이유</td>\n",
       "    </tr>\n",
       "    <tr>\n",
       "      <th>2</th>\n",
       "      <td>Melon</td>\n",
       "      <td>3</td>\n",
       "      <td>Peaches (Feat. Daniel Caesar &amp; Giveon)</td>\n",
       "      <td>Justin Bieber</td>\n",
       "    </tr>\n",
       "    <tr>\n",
       "      <th>3</th>\n",
       "      <td>Melon</td>\n",
       "      <td>4</td>\n",
       "      <td>Celebrity</td>\n",
       "      <td>아이유</td>\n",
       "    </tr>\n",
       "    <tr>\n",
       "      <th>4</th>\n",
       "      <td>Melon</td>\n",
       "      <td>5</td>\n",
       "      <td>운전만해 (We Ride)</td>\n",
       "      <td>브레이브걸스</td>\n",
       "    </tr>\n",
       "  </tbody>\n",
       "</table>\n",
       "</div>"
      ],
      "text/plain": [
       "     서비스  순위                                     타이틀             가수\n",
       "0  Melon   1                            롤린 (Rollin')         브레이브걸스\n",
       "1  Melon   2                                     라일락            아이유\n",
       "2  Melon   3  Peaches (Feat. Daniel Caesar & Giveon)  Justin Bieber\n",
       "3  Melon   4                               Celebrity            아이유\n",
       "4  Melon   5                          운전만해 (We Ride)         브레이브걸스"
      ]
     },
     "execution_count": 36,
     "metadata": {},
     "output_type": "execute_result"
    }
   ],
   "source": [
    "pd_data = pd.DataFrame(song_data, columns=columns)\n",
    "pd_data.head()"
   ]
  },
  {
   "cell_type": "code",
   "execution_count": 37,
   "metadata": {},
   "outputs": [],
   "source": [
    "pd_data.to_excel('melon20210413.xlsx', index=False)"
   ]
  },
  {
   "cell_type": "code",
   "execution_count": 38,
   "metadata": {},
   "outputs": [],
   "source": [
    "url = 'https://music.bugs.co.kr/chart'\n",
    "driver.get(url)\n",
    "html = driver.page_source\n",
    "soup = BeautifulSoup(html, 'html.parser')"
   ]
  },
  {
   "cell_type": "code",
   "execution_count": 39,
   "metadata": {},
   "outputs": [
    {
     "name": "stdout",
     "output_type": "stream",
     "text": [
      "100\n"
     ]
    }
   ],
   "source": [
    "songs = soup.select('table.byChart>tbody>tr')\n",
    "print(len(songs))"
   ]
  },
  {
   "cell_type": "code",
   "execution_count": 40,
   "metadata": {},
   "outputs": [
    {
     "data": {
      "text/plain": [
       "11"
      ]
     },
     "execution_count": 40,
     "metadata": {},
     "output_type": "execute_result"
    }
   ],
   "source": [
    "song = songs[0]\n",
    "title = song.select('a')\n",
    "len(title)"
   ]
  },
  {
   "cell_type": "code",
   "execution_count": 41,
   "metadata": {},
   "outputs": [
    {
     "data": {
      "text/plain": [
       "2"
      ]
     },
     "execution_count": 41,
     "metadata": {},
     "output_type": "execute_result"
    }
   ],
   "source": [
    "title = song.select('p > a')\n",
    "len(title)"
   ]
  },
  {
   "cell_type": "code",
   "execution_count": 42,
   "metadata": {},
   "outputs": [
    {
     "data": {
      "text/plain": [
       "1"
      ]
     },
     "execution_count": 42,
     "metadata": {},
     "output_type": "execute_result"
    }
   ],
   "source": [
    "title = song.select('p.title > a')\n",
    "len(title)"
   ]
  },
  {
   "cell_type": "code",
   "execution_count": 43,
   "metadata": {},
   "outputs": [
    {
     "data": {
      "text/plain": [
       "'선미'"
      ]
     },
     "execution_count": 43,
     "metadata": {},
     "output_type": "execute_result"
    }
   ],
   "source": [
    "title = song.select('p.artist > a')[0].text\n",
    "singer"
   ]
  },
  {
   "cell_type": "code",
   "execution_count": 44,
   "metadata": {
    "scrolled": true
   },
   "outputs": [],
   "source": [
    "song_data = []\n",
    "rank =1\n",
    "songs = soup.select('table.byChart>tbody>tr')\n",
    "for song in songs:\n",
    "    title = song.select('p.title > a')[0].text\n",
    "    singer = song.select('p.artist > a')[0].text\n",
    "    song_data.append(['Bugs', rank, title, singer])\n",
    "    rank = rank +1 "
   ]
  },
  {
   "cell_type": "code",
   "execution_count": 45,
   "metadata": {},
   "outputs": [
    {
     "data": {
      "text/plain": [
       "[['Bugs', 1, '안녕이란 (Two Letters)', '황치열'],\n",
       " ['Bugs', 2, 'Timeless', 'SG워너비'],\n",
       " ['Bugs', 3, \"롤린 (Rollin')\", '브레이브걸스(Brave Girls)'],\n",
       " ['Bugs', 4, '라일락', '아이유(IU)'],\n",
       " ['Bugs', 5, '운전만해 (We Ride)', '브레이브걸스(Brave Girls)'],\n",
       " ['Bugs', 6, 'Peaches (feat. Daniel Caesar, Giveon)', 'Justin Bieber(저스틴 비버)'],\n",
       " ['Bugs', 7, '라라라', 'SG워너비'],\n",
       " ['Bugs', 8, 'Celebrity', '아이유(IU)'],\n",
       " ['Bugs', 9, 'ASAP', 'STAYC(스테이씨)'],\n",
       " ['Bugs', 10, '내사람: Partner For Life', 'SG워너비'],\n",
       " ['Bugs', 11, 'Coin', '아이유(IU)'],\n",
       " ['Bugs', 12, '어푸 (Ah puh)', '아이유(IU)'],\n",
       " ['Bugs', 13, '그냥 안아달란 말야', '다비치'],\n",
       " ['Bugs', 14, '내 손을 잡아', '아이유(IU)'],\n",
       " ['Bugs', 15, '너의 발걸음에 빛을 비춰줄게 (Prod. 조영수)', '케이시'],\n",
       " ['Bugs', 16, 'Dynamite', '방탄소년단'],\n",
       " ['Bugs', 17, '살다가', 'SG워너비'],\n",
       " ['Bugs', 18, '아리랑', 'SG워너비'],\n",
       " ['Bugs', 19, '아이와 나의 바다', '아이유(IU)'],\n",
       " ['Bugs', 20, '돌림노래 (Feat. DEAN)', '아이유(IU)'],\n",
       " ['Bugs', 21, 'Flu', '아이유(IU)'],\n",
       " ['Bugs', 22, '죄와 벌', 'SG워너비'],\n",
       " ['Bugs', 23, 'LOVE DAY (2021) (바른연애 길잡이 X 양요섭, 정은지)', '양요섭'],\n",
       " ['Bugs', 24, '봄 안녕 봄', '아이유(IU)'],\n",
       " ['Bugs', 25, 'On The Ground', '로제(ROSÉ)'],\n",
       " ['Bugs', 26, '에필로그', '아이유(IU)'],\n",
       " ['Bugs', 27, 'Leave The Door Open', 'Bruno Mars(브루노 마스)'],\n",
       " ['Bugs', 28, 'INSIDE OUT', '뉴이스트'],\n",
       " ['Bugs', 29, 'Kiss Me More (feat. SZA)', 'Doja Cat(도자 캣)'],\n",
       " ['Bugs', 30, '멜로디', 'ASH ISLAND'],\n",
       " ['Bugs', 31, 'At My Worst', 'Pink Sweat$'],\n",
       " ['Bugs', 32, 'Beautiful Mistakes', 'Maroon 5(마룬 파이브)'],\n",
       " ['Bugs', 33, 'Like 1999', 'Valley'],\n",
       " ['Bugs', 34, 'parachute', 'John K'],\n",
       " ['Bugs', 35, '에잇(Prod.&Feat. SUGA of BTS)', '아이유(IU)'],\n",
       " ['Bugs', 36, '빈 컵 (Empty Cup)', '아이유(IU)'],\n",
       " ['Bugs', 37, 'Off My Face', 'Justin Bieber(저스틴 비버)'],\n",
       " ['Bugs', 38, 'Blueming', '아이유(IU)'],\n",
       " ['Bugs', 39, '해바라기', 'SG워너비'],\n",
       " ['Bugs', 40, '흔들리는 꽃들 속에서 네 샴푸향이 느껴진거야', '장범준'],\n",
       " ['Bugs', 41, 'Daisy (Feat. pH-1)', '미란이'],\n",
       " ['Bugs', 42, 'UNNATURAL', '우주소녀'],\n",
       " ['Bugs', 43, '사랑하길 정말 잘했어요', 'SG워너비'],\n",
       " ['Bugs', 44, '사이렌 Remix (Feat. UNEDUCATED KID, Paul Blanco)', '호미들'],\n",
       " ['Bugs', 45, '이 밤을 빌려 말해요 (바른연애 길잡이 X 10CM)', '10CM'],\n",
       " ['Bugs', 46, '춤춰 (Ugly Dance)', '온앤오프(ONF)'],\n",
       " ['Bugs', 47, 'Lovesick Girls', 'BLACKPINK'],\n",
       " ['Bugs', 48, 'Dolphin', '오마이걸(OH MY GIRL)'],\n",
       " ['Bugs', 49, 'You make Me', 'DAY6 (데이식스)'],\n",
       " ['Bugs', 50, '밤하늘의 별을(2020)', '경서'],\n",
       " ['Bugs', 51, 'water color', '휘인(Whee In)'],\n",
       " ['Bugs', 52, 'Life Goes On', '방탄소년단'],\n",
       " ['Bugs', 53, \"Don't Call Me\", 'SHINee (샤이니)'],\n",
       " ['Bugs', 54, '기다릴게', '하동균'],\n",
       " ['Bugs', 55, 'Atlantis', 'SHINee (샤이니)'],\n",
       " ['Bugs', 56, 'BAD SAD AND MAD', '비비(BIBI)'],\n",
       " ['Bugs', 57, '오래된 노래', '스탠딩 에그(Standing Egg)'],\n",
       " ['Bugs', 58, '가슴 뛰도록', 'SG워너비'],\n",
       " ['Bugs', 59, '광(狂)', 'SG워너비'],\n",
       " ['Bugs', 60, 'Like Water', '웬디(WENDY)'],\n",
       " ['Bugs', 61, '한여름날의 꿈 (duet with 옥주현)', 'SG워너비'],\n",
       " ['Bugs', 62, 'Savage Love (Laxed - Siren Beat) (BTS Remix)', 'Jawsh 685'],\n",
       " ['Bugs', 63, 'Bang!', 'AJR'],\n",
       " ['Bugs', 64, '어떻게 이별까지 사랑하겠어, 널 사랑하는 거지', 'AKMU (악동뮤지션)'],\n",
       " ['Bugs', 65, '내사랑 울보', 'SG워너비'],\n",
       " ['Bugs', 66, '2002', 'Anne-Marie(앤 마리)'],\n",
       " ['Bugs', 67, '나랑 같이 걸을래 (바른연애 길잡이 X 적재)', '적재'],\n",
       " ['Bugs', 68, '12:45 (Stripped)', 'Etham'],\n",
       " ['Bugs', 69, '모든 날, 모든 순간 (Every day, Every Moment)', '폴킴(Paul Kim)'],\n",
       " ['Bugs', 70, '상상더하기', '라붐(LABOUM)'],\n",
       " ['Bugs', 71, '오늘도 난 봄을 기다려', '케이시'],\n",
       " ['Bugs', 72, '꼬리 (TAIL)', '선미'],\n",
       " ['Bugs', 73, '취기를 빌려 (취향저격 그녀 X 산들)', '산들'],\n",
       " ['Bugs', 74, 'Gone', '로제(ROSÉ)'],\n",
       " ['Bugs', 75, '밤편지', '아이유(IU)'],\n",
       " ['Bugs', 76, '밝게 빛나는 별이 되어 비춰줄게', '송이한'],\n",
       " ['Bugs', 77, '작은 것들을 위한 시 (Boy With Luv) (Feat. Halsey)', '방탄소년단'],\n",
       " ['Bugs', 78, '사랑하는 당신께', '폴킴(Paul Kim)'],\n",
       " ['Bugs', 79, '잠이 오질 않네요', '장범준'],\n",
       " ['Bugs', 80, '서른 밤째 (바른연애 길잡이 X 윤하 (YOUNHA))', '윤하(Younha/ユンナ)'],\n",
       " ['Bugs', 81, '내 루돌프', '매드몬스터(MAD MONSTER)'],\n",
       " ['Bugs', 82, 'VVS (Feat. JUSTHIS) (Prod. GroovyRoom)', '미란이'],\n",
       " ['Bugs', 83, '살짝 설렜어 (Nonstop)', '오마이걸(OH MY GIRL)'],\n",
       " ['Bugs', 84, 'METEOR', '창모(CHANGMO)'],\n",
       " ['Bugs', 85, '하이힐', '브레이브걸스(Brave Girls)'],\n",
       " ['Bugs', 86, '이렇게 좋아해 본 적이 없어요', 'CHEEZE(치즈)'],\n",
       " ['Bugs', 87, 'The Dreamer', '온앤오프(ONF)'],\n",
       " ['Bugs', 88, 'My Genesis (Übermensch)', '온앤오프(ONF)'],\n",
       " ['Bugs', 89, 'Healer', 'DAY6 (데이식스)'],\n",
       " ['Bugs', 90, '마음을 드려요', '아이유(IU)'],\n",
       " ['Bugs', 91, '바람만바람만', '김종국'],\n",
       " ['Bugs', 92, '그 한마디 (바른연애 길잡이 X 이하이)', '이하이'],\n",
       " ['Bugs', 93, 'Love poem', '아이유(IU)'],\n",
       " ['Bugs', 94, '어떤X (What Type of X)', '제시(Jessi)'],\n",
       " ['Bugs', 95, \"그대가 사라진다 (She's Gone)\", '황치열'],\n",
       " ['Bugs', 96, 'You', 'Regard'],\n",
       " ['Bugs', 97, '별빛 같은 나의 사랑아', '임영웅'],\n",
       " ['Bugs', 98, '이제 나만 믿어요', '임영웅'],\n",
       " ['Bugs', 99, '안녕', '폴킴(Paul Kim)'],\n",
       " ['Bugs', 100, '인생은 나쁜X', '비비(BIBI)']]"
      ]
     },
     "execution_count": 45,
     "metadata": {},
     "output_type": "execute_result"
    }
   ],
   "source": [
    "song_data"
   ]
  },
  {
   "cell_type": "code",
   "execution_count": 46,
   "metadata": {},
   "outputs": [
    {
     "data": {
      "text/html": [
       "<div>\n",
       "<style scoped>\n",
       "    .dataframe tbody tr th:only-of-type {\n",
       "        vertical-align: middle;\n",
       "    }\n",
       "\n",
       "    .dataframe tbody tr th {\n",
       "        vertical-align: top;\n",
       "    }\n",
       "\n",
       "    .dataframe thead th {\n",
       "        text-align: right;\n",
       "    }\n",
       "</style>\n",
       "<table border=\"1\" class=\"dataframe\">\n",
       "  <thead>\n",
       "    <tr style=\"text-align: right;\">\n",
       "      <th></th>\n",
       "      <th>서비스</th>\n",
       "      <th>순위</th>\n",
       "      <th>타이틀</th>\n",
       "      <th>가수</th>\n",
       "    </tr>\n",
       "  </thead>\n",
       "  <tbody>\n",
       "    <tr>\n",
       "      <th>0</th>\n",
       "      <td>Bugs</td>\n",
       "      <td>1</td>\n",
       "      <td>안녕이란 (Two Letters)</td>\n",
       "      <td>황치열</td>\n",
       "    </tr>\n",
       "    <tr>\n",
       "      <th>1</th>\n",
       "      <td>Bugs</td>\n",
       "      <td>2</td>\n",
       "      <td>Timeless</td>\n",
       "      <td>SG워너비</td>\n",
       "    </tr>\n",
       "    <tr>\n",
       "      <th>2</th>\n",
       "      <td>Bugs</td>\n",
       "      <td>3</td>\n",
       "      <td>롤린 (Rollin')</td>\n",
       "      <td>브레이브걸스(Brave Girls)</td>\n",
       "    </tr>\n",
       "    <tr>\n",
       "      <th>3</th>\n",
       "      <td>Bugs</td>\n",
       "      <td>4</td>\n",
       "      <td>라일락</td>\n",
       "      <td>아이유(IU)</td>\n",
       "    </tr>\n",
       "    <tr>\n",
       "      <th>4</th>\n",
       "      <td>Bugs</td>\n",
       "      <td>5</td>\n",
       "      <td>운전만해 (We Ride)</td>\n",
       "      <td>브레이브걸스(Brave Girls)</td>\n",
       "    </tr>\n",
       "  </tbody>\n",
       "</table>\n",
       "</div>"
      ],
      "text/plain": [
       "    서비스  순위                 타이틀                   가수\n",
       "0  Bugs   1  안녕이란 (Two Letters)                  황치열\n",
       "1  Bugs   2            Timeless                SG워너비\n",
       "2  Bugs   3        롤린 (Rollin')  브레이브걸스(Brave Girls)\n",
       "3  Bugs   4                 라일락              아이유(IU)\n",
       "4  Bugs   5      운전만해 (We Ride)  브레이브걸스(Brave Girls)"
      ]
     },
     "execution_count": 46,
     "metadata": {},
     "output_type": "execute_result"
    }
   ],
   "source": [
    "pd_data = pd.DataFrame(song_data, columns = columns)\n",
    "pd_data.head()"
   ]
  },
  {
   "cell_type": "code",
   "execution_count": 47,
   "metadata": {},
   "outputs": [],
   "source": [
    "pd_data.to_excel('bugs.xlsx', index=False)"
   ]
  },
  {
   "cell_type": "code",
   "execution_count": 48,
   "metadata": {},
   "outputs": [],
   "source": [
    "url = 'https://www.genie.co.kr/chart/top200'\n",
    "driver.get(url)\n",
    "html = driver.page_source\n",
    "soup = BeautifulSoup(html, 'html.parser')"
   ]
  },
  {
   "cell_type": "code",
   "execution_count": 49,
   "metadata": {},
   "outputs": [],
   "source": [
    "songs = soup.select('table.list-wrap>tbody')"
   ]
  },
  {
   "cell_type": "code",
   "execution_count": 50,
   "metadata": {},
   "outputs": [],
   "source": [
    "song = songs[0]"
   ]
  },
  {
   "cell_type": "code",
   "execution_count": 51,
   "metadata": {},
   "outputs": [
    {
     "name": "stdout",
     "output_type": "stream",
     "text": [
      "50\n"
     ]
    }
   ],
   "source": [
    "# tbody > tr 은 50개\n",
    "title = song.select('a.title')\n",
    "print(len(title))"
   ]
  },
  {
   "cell_type": "code",
   "execution_count": 52,
   "metadata": {},
   "outputs": [
    {
     "name": "stdout",
     "output_type": "stream",
     "text": [
      "Timeless\n"
     ]
    }
   ],
   "source": [
    "title = song.select('a.title')[0].text.strip()\n",
    "print(title)"
   ]
  },
  {
   "cell_type": "code",
   "execution_count": 53,
   "metadata": {},
   "outputs": [
    {
     "data": {
      "text/plain": [
       "50"
      ]
     },
     "execution_count": 53,
     "metadata": {},
     "output_type": "execute_result"
    }
   ],
   "source": [
    "singer = song.select('a.artist')\n",
    "len(singer)"
   ]
  },
  {
   "cell_type": "code",
   "execution_count": 54,
   "metadata": {},
   "outputs": [],
   "source": [
    "song_data = []\n",
    "rank =1\n",
    "songs = soup.select('tbody >tr')\n",
    "for song in songs:\n",
    "    title = song.select('a.title')[0].text.strip()\n",
    "    singer = song.select('a.artist')[0].text\n",
    "    song_data.append(['Genie', rank, title, singer])\n",
    "    rank = rank + 1"
   ]
  },
  {
   "cell_type": "code",
   "execution_count": 55,
   "metadata": {},
   "outputs": [
    {
     "data": {
      "text/plain": [
       "[['Genie', 1, 'Timeless', 'SG워너비'],\n",
       " ['Genie', 2, \"롤린 (Rollin')\", '브레이브걸스 (Brave girls)'],\n",
       " ['Genie', 3, '라일락', '아이유 (IU)'],\n",
       " ['Genie', 4, 'Peaches (Feat. Daniel Caesar & Giveon)', 'Justin Bieber'],\n",
       " ['Genie', 5, '운전만해 (We Ride)', '브레이브걸스 (Brave girls)'],\n",
       " ['Genie', 6, 'Celebrity', '아이유 (IU)'],\n",
       " ['Genie', 7, '라라라', 'SG워너비'],\n",
       " ['Genie', 8, '너의 발걸음에 빛을 비춰줄게 (Prod. by 조영수)', '케이시 (Kassy)'],\n",
       " ['Genie', 9, '춤춰 (Ugly Dance)', '온앤오프 (ONF)'],\n",
       " ['Genie', 10, '내사람 : Partner For Life', 'SG워너비'],\n",
       " ['Genie', 11, '그냥 안아달란 말야', '다비치'],\n",
       " ['Genie', 12, '이제 나만 믿어요', '임영웅'],\n",
       " ['Genie', 13, 'Coin', '아이유 (IU)'],\n",
       " ['Genie', 14, '살다가', 'SG워너비'],\n",
       " ['Genie', 15, 'LOVE DAY (2021) (바른연애 길잡이 X 양요섭, 정은지)', '양요섭 & 정은지'],\n",
       " ['Genie', 16, 'Dynamite', '방탄소년단'],\n",
       " ['Genie', 17, 'At My Worst', 'Pink Sweat$'],\n",
       " ['Genie', 18, '내 손을 잡아', '아이유 (IU)'],\n",
       " ['Genie', 19, '죄와 벌 (罪와 罰)', 'SG워너비'],\n",
       " ['Genie', 20, '별빛 같은 나의 사랑아', '임영웅'],\n",
       " ['Genie', 21, '기다릴게', '하동균 & 봉구 (길구봉구)'],\n",
       " ['Genie', 22, 'HERO', '임영웅'],\n",
       " ['Genie', 23, 'On The Ground', '로제 (ROSE)'],\n",
       " ['Genie', 24, '어푸 (Ah puh)', '아이유 (IU)'],\n",
       " ['Genie', 25, '흔들리는 꽃들 속에서 네 샴푸향이 느껴진거야', '장범준'],\n",
       " ['Genie', 26, 'Blueming', '아이유 (IU)'],\n",
       " ['Genie', 27, '에잇 (Prod. & Feat. SUGA of BTS)', '아이유 (IU)'],\n",
       " ['Genie', 28, '내사람', 'SG워너비'],\n",
       " ['Genie', 29, '12 : 45 (Stripped)', 'etham'],\n",
       " ['Genie', 30, '계단말고 엘리베이터', '임영웅'],\n",
       " ['Genie', 31, '밝게 빛나는 별이 되어 비춰줄게', '송이한'],\n",
       " ['Genie', 32, '미워요', '임영웅'],\n",
       " ['Genie', 33, 'ASAP', 'STAYC (스테이씨)'],\n",
       " ['Genie', 34, '소나기', '임영웅'],\n",
       " ['Genie', 35, '봄봄봄', '임영웅'],\n",
       " ['Genie', 36, '후', '임영웅'],\n",
       " ['Genie', 37, '신 사랑고개', '임영웅'],\n",
       " ['Genie', 38, '봄 안녕 봄', '아이유 (IU)'],\n",
       " ['Genie',\n",
       "  39,\n",
       "  'Savage Love (Laxed - Siren Beat) (BTS Remix)',\n",
       "  'Jawsh 685 & Jason Derulo & 방탄소년단'],\n",
       " ['Genie', 40, '2002', 'Anne-Marie'],\n",
       " ['Genie', 41, '아리랑', 'SG워너비'],\n",
       " ['Genie', 42, 'Q', '임영웅'],\n",
       " ['Genie', 43, '잠이 오질 않네요', '장범준'],\n",
       " ['Genie', 44, '걷고 싶다', '임영웅'],\n",
       " ['Genie', 45, '뭣이중헌디', '임영웅'],\n",
       " ['Genie',\n",
       "  46,\n",
       "  'VVS (Feat. JUSTHIS) (Prod. by GroovyRoom)',\n",
       "  '미란이 (Mirani) & 먼치맨 (MUNCHMAN) & Khundi Panda & 머쉬베놈 (MUSHVENOM)'],\n",
       " ['Genie', 47, '밤하늘의 별을 (2020)', '경서'],\n",
       " ['Genie', 48, '멜로디', 'ASH ISLAND'],\n",
       " ['Genie', 49, 'Flu', '아이유 (IU)'],\n",
       " ['Genie', 50, '아이와 나의 바다', '아이유 (IU)']]"
      ]
     },
     "execution_count": 55,
     "metadata": {},
     "output_type": "execute_result"
    }
   ],
   "source": [
    "song_data"
   ]
  },
  {
   "cell_type": "code",
   "execution_count": 56,
   "metadata": {},
   "outputs": [
    {
     "data": {
      "text/html": [
       "<div>\n",
       "<style scoped>\n",
       "    .dataframe tbody tr th:only-of-type {\n",
       "        vertical-align: middle;\n",
       "    }\n",
       "\n",
       "    .dataframe tbody tr th {\n",
       "        vertical-align: top;\n",
       "    }\n",
       "\n",
       "    .dataframe thead th {\n",
       "        text-align: right;\n",
       "    }\n",
       "</style>\n",
       "<table border=\"1\" class=\"dataframe\">\n",
       "  <thead>\n",
       "    <tr style=\"text-align: right;\">\n",
       "      <th></th>\n",
       "      <th>서비스</th>\n",
       "      <th>순위</th>\n",
       "      <th>타이틀</th>\n",
       "      <th>가수</th>\n",
       "    </tr>\n",
       "  </thead>\n",
       "  <tbody>\n",
       "    <tr>\n",
       "      <th>0</th>\n",
       "      <td>Bugs</td>\n",
       "      <td>1</td>\n",
       "      <td>안녕이란 (Two Letters)</td>\n",
       "      <td>황치열</td>\n",
       "    </tr>\n",
       "    <tr>\n",
       "      <th>1</th>\n",
       "      <td>Bugs</td>\n",
       "      <td>2</td>\n",
       "      <td>Timeless</td>\n",
       "      <td>SG워너비</td>\n",
       "    </tr>\n",
       "    <tr>\n",
       "      <th>2</th>\n",
       "      <td>Bugs</td>\n",
       "      <td>3</td>\n",
       "      <td>롤린 (Rollin')</td>\n",
       "      <td>브레이브걸스(Brave Girls)</td>\n",
       "    </tr>\n",
       "    <tr>\n",
       "      <th>3</th>\n",
       "      <td>Bugs</td>\n",
       "      <td>4</td>\n",
       "      <td>라일락</td>\n",
       "      <td>아이유(IU)</td>\n",
       "    </tr>\n",
       "    <tr>\n",
       "      <th>4</th>\n",
       "      <td>Bugs</td>\n",
       "      <td>5</td>\n",
       "      <td>운전만해 (We Ride)</td>\n",
       "      <td>브레이브걸스(Brave Girls)</td>\n",
       "    </tr>\n",
       "  </tbody>\n",
       "</table>\n",
       "</div>"
      ],
      "text/plain": [
       "    서비스  순위                 타이틀                   가수\n",
       "0  Bugs   1  안녕이란 (Two Letters)                  황치열\n",
       "1  Bugs   2            Timeless                SG워너비\n",
       "2  Bugs   3        롤린 (Rollin')  브레이브걸스(Brave Girls)\n",
       "3  Bugs   4                 라일락              아이유(IU)\n",
       "4  Bugs   5      운전만해 (We Ride)  브레이브걸스(Brave Girls)"
      ]
     },
     "execution_count": 56,
     "metadata": {},
     "output_type": "execute_result"
    }
   ],
   "source": [
    "pd.data = pd.DataFrame(song_data, columns=columns)\n",
    "pd_data.head()"
   ]
  },
  {
   "cell_type": "code",
   "execution_count": 57,
   "metadata": {},
   "outputs": [],
   "source": [
    "pd_data.to_excel('genie.xls',index=False)"
   ]
  },
  {
   "cell_type": "markdown",
   "metadata": {},
   "source": [
    "# 유튜브 뮤직 통계\n",
    "- 노래 이름\n",
    "- 가수 이름"
   ]
  },
  {
   "cell_type": "code",
   "execution_count": 58,
   "metadata": {},
   "outputs": [],
   "source": [
    "from selenium import webdriver\n",
    "def getData():\n",
    "    driver = webdriver.Chrome('chromedriver.exe')\n",
    "    url = 'https://www.youtube.com/playlist?list=PL4fGSI1pDJn6jXS_Tv_N9B8Z0HTRVJE0m'\n",
    "    driver.get(url)\n",
    "    html = driver.page_source\n",
    "    soup = BeautifulSoup(html, 'html.parser')\n",
    "    return soup"
   ]
  },
  {
   "cell_type": "code",
   "execution_count": 59,
   "metadata": {},
   "outputs": [],
   "source": [
    "soup = getData()"
   ]
  },
  {
   "cell_type": "code",
   "execution_count": 60,
   "metadata": {},
   "outputs": [],
   "source": [
    "songs = soup.select('#video-title')\n",
    "sing = soup.select('#text > a')"
   ]
  },
  {
   "cell_type": "code",
   "execution_count": 61,
   "metadata": {},
   "outputs": [
    {
     "data": {
      "text/plain": [
       "'YouTube Music Global Charts'"
      ]
     },
     "execution_count": 61,
     "metadata": {},
     "output_type": "execute_result"
    }
   ],
   "source": [
    "sing[0].text.strip()"
   ]
  },
  {
   "cell_type": "code",
   "execution_count": 62,
   "metadata": {},
   "outputs": [
    {
     "data": {
      "text/plain": [
       "\"[ENG SUB] [놀면 뭐하니? 후공개] SG 워너비 - '내 사람' 풀영상 (Hangout with Yoo - MSG Wannabe YooYaHo)\""
      ]
     },
     "execution_count": 62,
     "metadata": {},
     "output_type": "execute_result"
    }
   ],
   "source": [
    "songs[0].text.strip()"
   ]
  },
  {
   "cell_type": "code",
   "execution_count": 63,
   "metadata": {},
   "outputs": [
    {
     "data": {
      "text/plain": [
       "100"
      ]
     },
     "execution_count": 63,
     "metadata": {},
     "output_type": "execute_result"
    }
   ],
   "source": [
    "len(songs)"
   ]
  },
  {
   "cell_type": "code",
   "execution_count": 64,
   "metadata": {},
   "outputs": [
    {
     "data": {
      "text/plain": [
       "101"
      ]
     },
     "execution_count": 64,
     "metadata": {},
     "output_type": "execute_result"
    }
   ],
   "source": [
    "len(sing)"
   ]
  },
  {
   "cell_type": "code",
   "execution_count": 65,
   "metadata": {},
   "outputs": [
    {
     "data": {
      "text/plain": [
       "<a class=\"yt-simple-endpoint style-scope yt-formatted-string\" dir=\"auto\" href=\"/channel/UCrKZcyOJVWnJ60zM1XWllNw\" spellcheck=\"false\">YouTube Music Global Charts</a>"
      ]
     },
     "execution_count": 65,
     "metadata": {},
     "output_type": "execute_result"
    }
   ],
   "source": [
    "sing[0]"
   ]
  },
  {
   "cell_type": "code",
   "execution_count": 68,
   "metadata": {},
   "outputs": [],
   "source": [
    "def return_music(songs,sing):\n",
    "    del sing[0]\n",
    "    song_data =[]\n",
    "    rank = 1\n",
    "    for i in range(len(songs)):\n",
    "        song = songs[i].text.strip()\n",
    "        singer = sing[i].text.strip()\n",
    "        song_data.append(['YouTube',rank,song,singer])\n",
    "        rank = rank+1\n",
    "    return song_data"
   ]
  },
  {
   "cell_type": "code",
   "execution_count": 69,
   "metadata": {},
   "outputs": [
    {
     "data": {
      "text/plain": [
       "[['YouTube',\n",
       "  1,\n",
       "  \"[ENG SUB] [놀면 뭐하니? 후공개] SG 워너비 - '내 사람' 풀영상 (Hangout with Yoo - MSG Wannabe YooYaHo)\",\n",
       "  'YouTube Music Global Charts'],\n",
       " ['YouTube',\n",
       "  2,\n",
       "  \"[ENG SUB] [놀면 뭐하니? 후공개] SG워너비 - '살다가' 풀영상 (Hangout with Yoo - MSG Wannabe YooYaHo)\",\n",
       "  '놀면 뭐하니?'],\n",
       " ['YouTube', 3, \"롤린 (Rollin')\", '놀면 뭐하니?'],\n",
       " ['YouTube', 4, 'Peaches', '브레이브걸스 - Topic'],\n",
       " ['YouTube', 5, 'LILAC (라일락)', 'Justin Bieber'],\n",
       " ['YouTube', 6, 'We Ride (운전만해 (We Ride))', '이지금 [IU Official]'],\n",
       " ['YouTube', 7, 'Dynamite', '브레이브걸스 - Topic'],\n",
       " ['YouTube', 8, 'My Starry Love (별빛 같은 나의 사랑아)', 'BANGTANTV'],\n",
       " ['YouTube', 9, 'Celebrity (Celebrity)', '임영웅'],\n",
       " ['YouTube', 10, '사이렌', '이지금 [IU Official]'],\n",
       " ['YouTube', 11, 'ASAP (ASAP)', 'Homies - Topic'],\n",
       " ['YouTube', 12, 'Coin (Coin)', 'STAYC'],\n",
       " ['YouTube',\n",
       "  13,\n",
       "  'LOVE DAY (2021) (Romance 101 X Yang Yoseop, Jeong Eun Ji) (LOVE DAY (2021) (바른연애...',\n",
       "  '이지금 [IU Official]'],\n",
       " ['YouTube', 14, 'Lovesick Girls', 'Yang Yoseop - Topic'],\n",
       " ['YouTube', 15, 'On The Ground', 'BLACKPINK'],\n",
       " ['YouTube', 16, 'MELODY', 'ROSÉ - Topic'],\n",
       " ['YouTube',\n",
       "  17,\n",
       "  '[ENG] [고등래퍼4/8회 풀버전] Cold (Feat. 수퍼비) (Prod. Way Ched) - 김우림 @세미파이널 full ver.',\n",
       "  'ASH ISLAND - Topic'],\n",
       " ['YouTube', 18, 'Leave The Door Open', 'Mnet Official'],\n",
       " ['YouTube', 19, 'Panorama', 'Bruno Mars'],\n",
       " ['YouTube', 20, 'Ah puh (어푸 (Ah puh))', 'official IZ*ONE'],\n",
       " ['YouTube', 21, 'Atlantis', '이지금 [IU Official]'],\n",
       " ['YouTube', 22, 'Just hug me', 'SHINee'],\n",
       " ['YouTube', 23, 'My sea (아이와 나의 바다)', '다비치 DAVICHI'],\n",
       " ['YouTube', 24, '하이힐', '이지금 [IU Official]'],\n",
       " ['YouTube', 25, 'Kiss Me More', '브레이브걸스 - Topic'],\n",
       " ['YouTube', 26, 'Timeless', 'Doja Cat'],\n",
       " ['YouTube', 27, 'TAIL (꼬리 (TAIL))', 'SG Wannabe - Topic'],\n",
       " ['YouTube', 28, 'Nonstop', '선미'],\n",
       " ['YouTube', 29, 'Why Not? (Why Not?)', 'OH MY GIRL'],\n",
       " ['YouTube', 30, 'How You Like That', 'loonatheworld'],\n",
       " ['YouTube', 31, 'Epilogue (에필로그)', 'BLACKPINK'],\n",
       " ['YouTube',\n",
       "  32,\n",
       "  'eight (Prod. & Feat. SUGA of BTS) (에잇(Prod. & Feat. SUGA of BTS))',\n",
       "  '이지금 [IU Official]'],\n",
       " ['YouTube', 33, 'Black Mamba', '이지금 [IU Official]'],\n",
       " ['YouTube', 34, 'Gone', 'aespa'],\n",
       " ['YouTube', 35, \"Don't Call Me\", 'ROSÉ - Topic'],\n",
       " ['YouTube', 36, 'water color (water color)', 'SHINee'],\n",
       " ['YouTube', 37, \"I CAN'T STOP ME\", 'Whee In - Topic'],\n",
       " ['YouTube', 38, 'Ashes', 'TWICE'],\n",
       " ['YouTube', 39, 'Burn the House Down', 'Stellar'],\n",
       " ['YouTube', 40, 'Hi spring Bye (봄 안녕 봄)', 'AJR'],\n",
       " ['YouTube', 41, 'Antidote', '이지금 [IU Official]'],\n",
       " ['YouTube', 42, '상상더하기', 'Kang Daniel - Topic'],\n",
       " ['YouTube', 43, 'At My Worst', 'LABOUM - Topic'],\n",
       " ['YouTube', 44, 'UNNATURAL (UNNATURAL)', 'Pink Sweats'],\n",
       " ['YouTube',\n",
       "  45,\n",
       "  'Slightly Tipsy (She is My Type♡ X SANDEUL) (취기를 빌려 (취향저격 그녀 X 산들))',\n",
       "  '우주소녀 WJSN'],\n",
       " ['YouTube', 46, 'Everything Black (feat. Mike Taylor)', 'Sandeul - Topic'],\n",
       " ['YouTube', 47, \"can't sleep (잠이 오질 않네요)\", 'Unlike Pluto'],\n",
       " ['YouTube', 48, 'Flu (Flu)', '장범준'],\n",
       " ['YouTube', 49, 'You make Me', '이지금 [IU Official]'],\n",
       " ['YouTube', 50, '붐바야 (Boombayah)', 'DAY6'],\n",
       " ['YouTube', 51, 'Up', 'BLACKPINK'],\n",
       " ['YouTube', 52, '라라라 메달', 'Cardi B'],\n",
       " ['YouTube', 53, '어떤X (What Type of X)', 'SG Wannabe - Topic'],\n",
       " ['YouTube', 54, 'INSIDE OUT', 'Jessi'],\n",
       " ['YouTube', 55, 'Daisy (feat. pH-1)', \"NU'EST\"],\n",
       " ['YouTube',\n",
       "  56,\n",
       "  'I will be your shining star (밝게 빛나는 별이 되어 비춰줄게)',\n",
       "  'Mirani - Topic'],\n",
       " ['YouTube',\n",
       "  57,\n",
       "  'VVS (Feat. JUSTHIS) (Prod. GroovyRoom)',\n",
       "  'Song I Han - Topic'],\n",
       " ['YouTube', 58, 'After School (After School)', 'Miranni - Topic'],\n",
       " ['YouTube', 59, 'Coffee With Me (커피한잔할래요)', 'Weeekly - Topic'],\n",
       " ['YouTube', 60, 'Happy Face', '폴킴 - Paul Kim Official'],\n",
       " ['YouTube', 61, 'Levitating (feat. DaBaby)', 'Jagwar Twin'],\n",
       " ['YouTube', 62, '이렇게 좋아해 본 적이 없어요', 'Dua Lipa'],\n",
       " ['YouTube', 63, 'MAGO', '치즈 / CHEEZE'],\n",
       " ['YouTube', 64, 'HWAA (화(火花))', '여자친구 GFRIEND OFFICIAL'],\n",
       " ['YouTube',\n",
       "  65,\n",
       "  'Troll (Feat. DEAN) (돌림노래 (Feat. DEAN))',\n",
       "  '(G)I-DLE (여자)아이들 (Official YouTube Channel)'],\n",
       " ['YouTube', 66, 'I’m Not Cool', '이지금 [IU Official]'],\n",
       " ['YouTube', 67, 'View', 'HyunA'],\n",
       " ['YouTube', 68, 'On That Day (그날에 나는 맘이 편했을까)', 'SHINee'],\n",
       " ['YouTube',\n",
       "  69,\n",
       "  'John Cena (feat. Northfacegawd, JUSTHIS, Layone)',\n",
       "  'Lee Ye Joon - Topic'],\n",
       " ['YouTube', 70, 'Bambi', '염따'],\n",
       " ['YouTube', 71, 'I Still Love You (추억은 만남보다 이별에 남아)', 'BAEKHYUN - Topic'],\n",
       " ['YouTube', 72, 'In Dreams (너의 흔적)', 'Jung Dong Ha - Topic'],\n",
       " ['YouTube', 73, 'Mood', 'M.C the MAX Official'],\n",
       " ['YouTube',\n",
       "  74,\n",
       "  'Follow Me (Prod. by Young Tak) (따라따라와 (Prod. by 영탁))',\n",
       "  '24kGoldn'],\n",
       " ['YouTube', 75, 'pov', 'Kim Hee Jae - Topic'],\n",
       " ['YouTube', 76, 'Like Water', 'Ariana Grande'],\n",
       " ['YouTube', 77, '임영웅 [자랑] 뽕숭아학당 (ENG)', 'WENDY - Topic'],\n",
       " ['YouTube',\n",
       "  78,\n",
       "  'Borrow your night (Romance 101 X 10CM) (이 밤을 빌려 말해요 (바른연애 길잡이 X...',\n",
       "  '임영웅'],\n",
       " ['YouTube', 79, '07 Britney', '10CM_Official'],\n",
       " ['YouTube', 80, '한잔해', 'Chelsea Collins'],\n",
       " ['YouTube', 81, 'Killer', '박군 - Topic'],\n",
       " ['YouTube', 82, 'Sequence', 'Valerie Broussard'],\n",
       " ['YouTube', 83, 'Film out', 'official IZ*ONE'],\n",
       " ['YouTube', 84, '축가 Serenade', 'BANGTANTV'],\n",
       " ['YouTube', 85, 'STEP BY STEP', 'Jeon Woo Sung - Topic'],\n",
       " ['YouTube', 86, 'Savage Love (Laxed - Siren Beat)', 'OH MY GIRL'],\n",
       " ['YouTube', 87, 'Racks On Racks (사임쌓임)', 'Jawsh 685 [ L A S ]'],\n",
       " ['YouTube', 88, 'Dial Your Number', 'SUPERBEE - Topic'],\n",
       " ['YouTube', 89, '예뻤어 You Were Beautiful', '#An Nyeong - Topic'],\n",
       " ['YouTube', 90, 'PARTY', 'DAY6'],\n",
       " ['YouTube',\n",
       "  91,\n",
       "  'Warning (Feat. lIlBOI) (Warning (Feat. lIlBOI))',\n",
       "  \"GIRLS' GENERATION\"],\n",
       " ['YouTube', 92, 'Bicycle', 'SEJEONG - Topic'],\n",
       " ['YouTube', 93, 'Every End of the Day (하루 끝)', 'CHUNG HA_Official'],\n",
       " ['YouTube', 94, '어른 Grown Ups', '이지금 [IU Official]'],\n",
       " ['YouTube', 95, 'Sailing', 'Sondia - Topic'],\n",
       " ['YouTube', 96, 'Hold On', 'AHN YE EUN - Topic'],\n",
       " ['YouTube', 97, 'Beautiful Mistakes', 'Justin Bieber'],\n",
       " ['YouTube',\n",
       "  98,\n",
       "  'We Were (Prod. by Lee Chanhyuk of AKMU) (우린 (Prod. by 이찬혁 of AKMU))',\n",
       "  'Maroon 5'],\n",
       " ['YouTube', 99, '너 때문에 미쳐', 'Lee Seung-chul - Topic'],\n",
       " ['YouTube', 100, 'dlwlrma (이 지금)', 'ONE LOVE ASIA']]"
      ]
     },
     "execution_count": 69,
     "metadata": {},
     "output_type": "execute_result"
    }
   ],
   "source": [
    "df = return_music(songs,sing)\n",
    "df"
   ]
  },
  {
   "cell_type": "code",
   "execution_count": 70,
   "metadata": {},
   "outputs": [],
   "source": [
    "columns = ['서비스','순위','타이틀','가수']"
   ]
  },
  {
   "cell_type": "code",
   "execution_count": 71,
   "metadata": {},
   "outputs": [
    {
     "data": {
      "text/html": [
       "<div>\n",
       "<style scoped>\n",
       "    .dataframe tbody tr th:only-of-type {\n",
       "        vertical-align: middle;\n",
       "    }\n",
       "\n",
       "    .dataframe tbody tr th {\n",
       "        vertical-align: top;\n",
       "    }\n",
       "\n",
       "    .dataframe thead th {\n",
       "        text-align: right;\n",
       "    }\n",
       "</style>\n",
       "<table border=\"1\" class=\"dataframe\">\n",
       "  <thead>\n",
       "    <tr style=\"text-align: right;\">\n",
       "      <th></th>\n",
       "      <th>서비스</th>\n",
       "      <th>순위</th>\n",
       "      <th>타이틀</th>\n",
       "      <th>가수</th>\n",
       "    </tr>\n",
       "  </thead>\n",
       "  <tbody>\n",
       "    <tr>\n",
       "      <th>0</th>\n",
       "      <td>YouTube</td>\n",
       "      <td>1</td>\n",
       "      <td>[ENG SUB] [놀면 뭐하니? 후공개] SG 워너비 - '내 사람' 풀영상 (H...</td>\n",
       "      <td>YouTube Music Global Charts</td>\n",
       "    </tr>\n",
       "    <tr>\n",
       "      <th>1</th>\n",
       "      <td>YouTube</td>\n",
       "      <td>2</td>\n",
       "      <td>[ENG SUB] [놀면 뭐하니? 후공개] SG워너비 - '살다가' 풀영상 (Han...</td>\n",
       "      <td>놀면 뭐하니?</td>\n",
       "    </tr>\n",
       "    <tr>\n",
       "      <th>2</th>\n",
       "      <td>YouTube</td>\n",
       "      <td>3</td>\n",
       "      <td>롤린 (Rollin')</td>\n",
       "      <td>놀면 뭐하니?</td>\n",
       "    </tr>\n",
       "    <tr>\n",
       "      <th>3</th>\n",
       "      <td>YouTube</td>\n",
       "      <td>4</td>\n",
       "      <td>Peaches</td>\n",
       "      <td>브레이브걸스 - Topic</td>\n",
       "    </tr>\n",
       "    <tr>\n",
       "      <th>4</th>\n",
       "      <td>YouTube</td>\n",
       "      <td>5</td>\n",
       "      <td>LILAC (라일락)</td>\n",
       "      <td>Justin Bieber</td>\n",
       "    </tr>\n",
       "    <tr>\n",
       "      <th>...</th>\n",
       "      <td>...</td>\n",
       "      <td>...</td>\n",
       "      <td>...</td>\n",
       "      <td>...</td>\n",
       "    </tr>\n",
       "    <tr>\n",
       "      <th>95</th>\n",
       "      <td>YouTube</td>\n",
       "      <td>96</td>\n",
       "      <td>Hold On</td>\n",
       "      <td>AHN YE EUN - Topic</td>\n",
       "    </tr>\n",
       "    <tr>\n",
       "      <th>96</th>\n",
       "      <td>YouTube</td>\n",
       "      <td>97</td>\n",
       "      <td>Beautiful Mistakes</td>\n",
       "      <td>Justin Bieber</td>\n",
       "    </tr>\n",
       "    <tr>\n",
       "      <th>97</th>\n",
       "      <td>YouTube</td>\n",
       "      <td>98</td>\n",
       "      <td>We Were (Prod. by Lee Chanhyuk of AKMU) (우린 (P...</td>\n",
       "      <td>Maroon 5</td>\n",
       "    </tr>\n",
       "    <tr>\n",
       "      <th>98</th>\n",
       "      <td>YouTube</td>\n",
       "      <td>99</td>\n",
       "      <td>너 때문에 미쳐</td>\n",
       "      <td>Lee Seung-chul - Topic</td>\n",
       "    </tr>\n",
       "    <tr>\n",
       "      <th>99</th>\n",
       "      <td>YouTube</td>\n",
       "      <td>100</td>\n",
       "      <td>dlwlrma (이 지금)</td>\n",
       "      <td>ONE LOVE ASIA</td>\n",
       "    </tr>\n",
       "  </tbody>\n",
       "</table>\n",
       "<p>100 rows × 4 columns</p>\n",
       "</div>"
      ],
      "text/plain": [
       "        서비스   순위                                                타이틀  \\\n",
       "0   YouTube    1  [ENG SUB] [놀면 뭐하니? 후공개] SG 워너비 - '내 사람' 풀영상 (H...   \n",
       "1   YouTube    2  [ENG SUB] [놀면 뭐하니? 후공개] SG워너비 - '살다가' 풀영상 (Han...   \n",
       "2   YouTube    3                                       롤린 (Rollin')   \n",
       "3   YouTube    4                                            Peaches   \n",
       "4   YouTube    5                                        LILAC (라일락)   \n",
       "..      ...  ...                                                ...   \n",
       "95  YouTube   96                                            Hold On   \n",
       "96  YouTube   97                                 Beautiful Mistakes   \n",
       "97  YouTube   98  We Were (Prod. by Lee Chanhyuk of AKMU) (우린 (P...   \n",
       "98  YouTube   99                                           너 때문에 미쳐   \n",
       "99  YouTube  100                                     dlwlrma (이 지금)   \n",
       "\n",
       "                             가수  \n",
       "0   YouTube Music Global Charts  \n",
       "1                       놀면 뭐하니?  \n",
       "2                       놀면 뭐하니?  \n",
       "3                브레이브걸스 - Topic  \n",
       "4                 Justin Bieber  \n",
       "..                          ...  \n",
       "95           AHN YE EUN - Topic  \n",
       "96                Justin Bieber  \n",
       "97                     Maroon 5  \n",
       "98       Lee Seung-chul - Topic  \n",
       "99                ONE LOVE ASIA  \n",
       "\n",
       "[100 rows x 4 columns]"
      ]
     },
     "execution_count": 71,
     "metadata": {},
     "output_type": "execute_result"
    }
   ],
   "source": [
    "pd_data = pd.DataFrame(df, columns = columns)\n",
    "pd_data"
   ]
  }
 ],
 "metadata": {
  "kernelspec": {
   "display_name": "Python 3",
   "language": "python",
   "name": "python3"
  },
  "language_info": {
   "codemirror_mode": {
    "name": "ipython",
    "version": 3
   },
   "file_extension": ".py",
   "mimetype": "text/x-python",
   "name": "python",
   "nbconvert_exporter": "python",
   "pygments_lexer": "ipython3",
   "version": "3.8.5"
  }
 },
 "nbformat": 4,
 "nbformat_minor": 4
}
