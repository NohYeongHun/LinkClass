{
 "cells": [
  {
   "cell_type": "markdown",
   "metadata": {},
   "source": [
    "# 유튜브 뮤직 통계\n",
    "- 노래 이름\n",
    "- 가수 이름"
   ]
  },
  {
   "cell_type": "code",
   "execution_count": 1,
   "metadata": {},
   "outputs": [],
   "source": [
    "from selenium import webdriver\n",
    "from bs4 import BeautifulSoup\n",
    "import pandas as pd\n",
    "def getSoup():\n",
    "    driver = webdriver.Chrome('chromedriver.exe')\n",
    "    url = 'https://www.youtube.com/playlist?list=PL4fGSI1pDJn6jXS_Tv_N9B8Z0HTRVJE0m'\n",
    "    driver.get(url)\n",
    "    html = driver.page_source\n",
    "    soup = BeautifulSoup(html, 'html.parser')\n",
    "    return soup"
   ]
  },
  {
   "cell_type": "code",
   "execution_count": 2,
   "metadata": {},
   "outputs": [],
   "source": [
    "soup = getSoup()"
   ]
  },
  {
   "cell_type": "code",
   "execution_count": 3,
   "metadata": {},
   "outputs": [],
   "source": [
    "songs = soup.select('#video-title')\n",
    "sing = soup.select('#text > a')"
   ]
  },
  {
   "cell_type": "code",
   "execution_count": 4,
   "metadata": {},
   "outputs": [
    {
     "data": {
      "text/plain": [
       "'YouTube Music Global Charts'"
      ]
     },
     "execution_count": 4,
     "metadata": {},
     "output_type": "execute_result"
    }
   ],
   "source": [
    "sing[0].text.strip()"
   ]
  },
  {
   "cell_type": "code",
   "execution_count": 5,
   "metadata": {},
   "outputs": [
    {
     "data": {
      "text/plain": [
       "\"[ENG SUB] [놀면 뭐하니? 후공개] SG 워너비 - '내 사람' 풀영상 (Hangout with Yoo - MSG Wannabe YooYaHo)\""
      ]
     },
     "execution_count": 5,
     "metadata": {},
     "output_type": "execute_result"
    }
   ],
   "source": [
    "songs[0].text.strip()"
   ]
  },
  {
   "cell_type": "code",
   "execution_count": 6,
   "metadata": {},
   "outputs": [
    {
     "data": {
      "text/plain": [
       "101"
      ]
     },
     "execution_count": 6,
     "metadata": {},
     "output_type": "execute_result"
    }
   ],
   "source": [
    "len(sing)"
   ]
  },
  {
   "cell_type": "code",
   "execution_count": 7,
   "metadata": {},
   "outputs": [
    {
     "data": {
      "text/plain": [
       "100"
      ]
     },
     "execution_count": 7,
     "metadata": {},
     "output_type": "execute_result"
    }
   ],
   "source": [
    "len(songs)"
   ]
  },
  {
   "cell_type": "code",
   "execution_count": 8,
   "metadata": {},
   "outputs": [
    {
     "data": {
      "text/plain": [
       "<a class=\"yt-simple-endpoint style-scope yt-formatted-string\" dir=\"auto\" href=\"/channel/UCrKZcyOJVWnJ60zM1XWllNw\" spellcheck=\"false\">YouTube Music Global Charts</a>"
      ]
     },
     "execution_count": 8,
     "metadata": {},
     "output_type": "execute_result"
    }
   ],
   "source": [
    "sing[0]"
   ]
  },
  {
   "cell_type": "code",
   "execution_count": 9,
   "metadata": {},
   "outputs": [],
   "source": [
    "def return_music(songs,sing):\n",
    "    del sing[0]\n",
    "    song_data =[]\n",
    "    rank = 1\n",
    "    for i in range(len(songs)):\n",
    "        song = songs[i].text.strip()\n",
    "        singer = sing[i].text.strip()\n",
    "        song_data.append(['YouTube',rank,song,singer])\n",
    "        rank = rank+1\n",
    "    return song_data"
   ]
  },
  {
   "cell_type": "code",
   "execution_count": 10,
   "metadata": {},
   "outputs": [
    {
     "data": {
      "text/plain": [
       "[['YouTube',\n",
       "  1,\n",
       "  \"[ENG SUB] [놀면 뭐하니? 후공개] SG 워너비 - '내 사람' 풀영상 (Hangout with Yoo - MSG Wannabe YooYaHo)\",\n",
       "  '놀면 뭐하니?'],\n",
       " ['YouTube',\n",
       "  2,\n",
       "  \"[ENG SUB] [놀면 뭐하니? 후공개] SG워너비 - '살다가' 풀영상 (Hangout with Yoo - MSG Wannabe YooYaHo)\",\n",
       "  '놀면 뭐하니?'],\n",
       " ['YouTube', 3, \"롤린 (Rollin')\", '브레이브걸스 - Topic'],\n",
       " ['YouTube', 4, 'Peaches', 'Justin Bieber'],\n",
       " ['YouTube', 5, 'LILAC (라일락)', '이지금 [IU Official]'],\n",
       " ['YouTube', 6, 'We Ride (운전만해 (We Ride))', '브레이브걸스 - Topic'],\n",
       " ['YouTube', 7, 'Dynamite', 'BANGTANTV'],\n",
       " ['YouTube', 8, 'My Starry Love (별빛 같은 나의 사랑아)', '임영웅'],\n",
       " ['YouTube', 9, 'Celebrity (Celebrity)', '이지금 [IU Official]'],\n",
       " ['YouTube', 10, '사이렌', 'Homies - Topic'],\n",
       " ['YouTube', 11, 'ASAP (ASAP)', 'STAYC'],\n",
       " ['YouTube', 12, 'Coin (Coin)', '이지금 [IU Official]'],\n",
       " ['YouTube',\n",
       "  13,\n",
       "  'LOVE DAY (2021) (Romance 101 X Yang Yoseop, Jeong Eun Ji) (LOVE DAY (2021) (바른연애...',\n",
       "  'Yang Yoseop - Topic'],\n",
       " ['YouTube', 14, 'Lovesick Girls', 'BLACKPINK'],\n",
       " ['YouTube', 15, 'On The Ground', 'ROSÉ - Topic'],\n",
       " ['YouTube', 16, 'MELODY', 'ASH ISLAND - Topic'],\n",
       " ['YouTube',\n",
       "  17,\n",
       "  '[ENG] [고등래퍼4/8회 풀버전] Cold (Feat. 수퍼비) (Prod. Way Ched) - 김우림 @세미파이널 full ver.',\n",
       "  'Mnet Official'],\n",
       " ['YouTube', 18, 'Leave The Door Open', 'Bruno Mars'],\n",
       " ['YouTube', 19, 'Panorama', 'official IZ*ONE'],\n",
       " ['YouTube', 20, 'Ah puh (어푸 (Ah puh))', '이지금 [IU Official]'],\n",
       " ['YouTube', 21, 'Atlantis', 'SHINee'],\n",
       " ['YouTube', 22, 'Just hug me', '다비치 DAVICHI'],\n",
       " ['YouTube', 23, 'My sea (아이와 나의 바다)', '이지금 [IU Official]'],\n",
       " ['YouTube', 24, '하이힐', '브레이브걸스 - Topic'],\n",
       " ['YouTube', 25, 'Kiss Me More', 'Doja Cat'],\n",
       " ['YouTube', 26, 'Timeless', 'SG Wannabe - Topic'],\n",
       " ['YouTube', 27, 'TAIL (꼬리 (TAIL))', '선미'],\n",
       " ['YouTube', 28, 'Nonstop', 'OH MY GIRL'],\n",
       " ['YouTube', 29, 'Why Not? (Why Not?)', 'loonatheworld'],\n",
       " ['YouTube', 30, 'How You Like That', 'BLACKPINK'],\n",
       " ['YouTube', 31, 'Epilogue (에필로그)', '이지금 [IU Official]'],\n",
       " ['YouTube',\n",
       "  32,\n",
       "  'eight (Prod. & Feat. SUGA of BTS) (에잇(Prod. & Feat. SUGA of BTS))',\n",
       "  '이지금 [IU Official]'],\n",
       " ['YouTube', 33, 'Black Mamba', 'aespa'],\n",
       " ['YouTube', 34, 'Gone', 'ROSÉ - Topic'],\n",
       " ['YouTube', 35, \"Don't Call Me\", 'SHINee'],\n",
       " ['YouTube', 36, 'water color (water color)', 'Whee In - Topic'],\n",
       " ['YouTube', 37, \"I CAN'T STOP ME\", 'TWICE'],\n",
       " ['YouTube', 38, 'Ashes', 'Stellar'],\n",
       " ['YouTube', 39, 'Burn the House Down', 'AJR'],\n",
       " ['YouTube', 40, 'Hi spring Bye (봄 안녕 봄)', '이지금 [IU Official]'],\n",
       " ['YouTube', 41, 'Antidote', 'Kang Daniel - Topic'],\n",
       " ['YouTube', 42, '상상더하기', 'LABOUM - Topic'],\n",
       " ['YouTube', 43, 'At My Worst', 'Pink Sweats'],\n",
       " ['YouTube', 44, 'UNNATURAL (UNNATURAL)', '우주소녀 WJSN'],\n",
       " ['YouTube',\n",
       "  45,\n",
       "  'Slightly Tipsy (She is My Type♡ X SANDEUL) (취기를 빌려 (취향저격 그녀 X 산들))',\n",
       "  'Sandeul - Topic'],\n",
       " ['YouTube', 46, 'Everything Black (feat. Mike Taylor)', 'Unlike Pluto'],\n",
       " ['YouTube', 47, \"can't sleep (잠이 오질 않네요)\", '장범준'],\n",
       " ['YouTube', 48, 'Flu (Flu)', '이지금 [IU Official]'],\n",
       " ['YouTube', 49, 'You make Me', 'DAY6'],\n",
       " ['YouTube', 50, '붐바야 (Boombayah)', 'BLACKPINK'],\n",
       " ['YouTube', 51, 'Up', 'Cardi B'],\n",
       " ['YouTube', 52, '라라라 메달', 'SG Wannabe - Topic'],\n",
       " ['YouTube', 53, '어떤X (What Type of X)', 'Jessi'],\n",
       " ['YouTube', 54, 'INSIDE OUT', \"NU'EST\"],\n",
       " ['YouTube', 55, 'Daisy (feat. pH-1)', 'Mirani - Topic'],\n",
       " ['YouTube',\n",
       "  56,\n",
       "  'I will be your shining star (밝게 빛나는 별이 되어 비춰줄게)',\n",
       "  'Song I Han - Topic'],\n",
       " ['YouTube', 57, 'VVS (Feat. JUSTHIS) (Prod. GroovyRoom)', 'Miranni - Topic'],\n",
       " ['YouTube', 58, 'After School (After School)', 'Weeekly - Topic'],\n",
       " ['YouTube', 59, 'Coffee With Me (커피한잔할래요)', '폴킴 - Paul Kim Official'],\n",
       " ['YouTube', 60, 'Happy Face', 'Jagwar Twin'],\n",
       " ['YouTube', 61, 'Levitating (feat. DaBaby)', 'Dua Lipa'],\n",
       " ['YouTube', 62, '이렇게 좋아해 본 적이 없어요', '치즈 / CHEEZE'],\n",
       " ['YouTube', 63, 'MAGO', '여자친구 GFRIEND OFFICIAL'],\n",
       " ['YouTube',\n",
       "  64,\n",
       "  'HWAA (화(火花))',\n",
       "  '(G)I-DLE (여자)아이들 (Official YouTube Channel)'],\n",
       " ['YouTube',\n",
       "  65,\n",
       "  'Troll (Feat. DEAN) (돌림노래 (Feat. DEAN))',\n",
       "  '이지금 [IU Official]'],\n",
       " ['YouTube', 66, 'I’m Not Cool', 'HyunA'],\n",
       " ['YouTube', 67, 'View', 'SHINee'],\n",
       " ['YouTube', 68, 'On That Day (그날에 나는 맘이 편했을까)', 'Lee Ye Joon - Topic'],\n",
       " ['YouTube', 69, 'John Cena (feat. Northfacegawd, JUSTHIS, Layone)', '염따'],\n",
       " ['YouTube', 70, 'Bambi', 'BAEKHYUN - Topic'],\n",
       " ['YouTube', 71, 'I Still Love You (추억은 만남보다 이별에 남아)', 'Jung Dong Ha - Topic'],\n",
       " ['YouTube', 72, 'In Dreams (너의 흔적)', 'M.C the MAX Official'],\n",
       " ['YouTube', 73, 'Mood', '24kGoldn'],\n",
       " ['YouTube',\n",
       "  74,\n",
       "  'Follow Me (Prod. by Young Tak) (따라따라와 (Prod. by 영탁))',\n",
       "  'Kim Hee Jae - Topic'],\n",
       " ['YouTube', 75, 'pov', 'Ariana Grande'],\n",
       " ['YouTube', 76, 'Like Water', 'WENDY - Topic'],\n",
       " ['YouTube', 77, '임영웅 [자랑] 뽕숭아학당 (ENG)', '임영웅'],\n",
       " ['YouTube',\n",
       "  78,\n",
       "  'Borrow your night (Romance 101 X 10CM) (이 밤을 빌려 말해요 (바른연애 길잡이 X...',\n",
       "  '10CM_Official'],\n",
       " ['YouTube', 79, '07 Britney', 'Chelsea Collins'],\n",
       " ['YouTube', 80, '한잔해', '박군 - Topic'],\n",
       " ['YouTube', 81, 'Killer', 'Valerie Broussard'],\n",
       " ['YouTube', 82, 'Sequence', 'official IZ*ONE'],\n",
       " ['YouTube', 83, 'Film out', 'BANGTANTV'],\n",
       " ['YouTube', 84, '축가 Serenade', 'Jeon Woo Sung - Topic'],\n",
       " ['YouTube', 85, 'STEP BY STEP', 'OH MY GIRL'],\n",
       " ['YouTube', 86, 'Savage Love (Laxed - Siren Beat)', 'Jawsh 685 [ L A S ]'],\n",
       " ['YouTube', 87, 'Racks On Racks (사임쌓임)', 'SUPERBEE - Topic'],\n",
       " ['YouTube', 88, 'Dial Your Number', '#An Nyeong - Topic'],\n",
       " ['YouTube', 89, '예뻤어 You Were Beautiful', 'DAY6'],\n",
       " ['YouTube', 90, 'PARTY', \"GIRLS' GENERATION\"],\n",
       " ['YouTube',\n",
       "  91,\n",
       "  'Warning (Feat. lIlBOI) (Warning (Feat. lIlBOI))',\n",
       "  'SEJEONG - Topic'],\n",
       " ['YouTube', 92, 'Bicycle', 'CHUNG HA_Official'],\n",
       " ['YouTube', 93, 'Every End of the Day (하루 끝)', '이지금 [IU Official]'],\n",
       " ['YouTube', 94, '어른 Grown Ups', 'Sondia - Topic'],\n",
       " ['YouTube', 95, 'Sailing', 'AHN YE EUN - Topic'],\n",
       " ['YouTube', 96, 'Hold On', 'Justin Bieber'],\n",
       " ['YouTube', 97, 'Beautiful Mistakes', 'Maroon 5'],\n",
       " ['YouTube',\n",
       "  98,\n",
       "  'We Were (Prod. by Lee Chanhyuk of AKMU) (우린 (Prod. by 이찬혁 of AKMU))',\n",
       "  'Lee Seung-chul - Topic'],\n",
       " ['YouTube', 99, '너 때문에 미쳐', 'ONE LOVE ASIA'],\n",
       " ['YouTube', 100, 'dlwlrma (이 지금)', '이지금 [IU Official]']]"
      ]
     },
     "execution_count": 10,
     "metadata": {},
     "output_type": "execute_result"
    }
   ],
   "source": [
    "df = return_music(songs,sing)\n",
    "df"
   ]
  },
  {
   "cell_type": "code",
   "execution_count": 11,
   "metadata": {},
   "outputs": [],
   "source": [
    "columns = ['서비스','순위','타이틀','가수']"
   ]
  },
  {
   "cell_type": "code",
   "execution_count": 12,
   "metadata": {},
   "outputs": [
    {
     "data": {
      "text/html": [
       "<div>\n",
       "<style scoped>\n",
       "    .dataframe tbody tr th:only-of-type {\n",
       "        vertical-align: middle;\n",
       "    }\n",
       "\n",
       "    .dataframe tbody tr th {\n",
       "        vertical-align: top;\n",
       "    }\n",
       "\n",
       "    .dataframe thead th {\n",
       "        text-align: right;\n",
       "    }\n",
       "</style>\n",
       "<table border=\"1\" class=\"dataframe\">\n",
       "  <thead>\n",
       "    <tr style=\"text-align: right;\">\n",
       "      <th></th>\n",
       "      <th>서비스</th>\n",
       "      <th>순위</th>\n",
       "      <th>타이틀</th>\n",
       "      <th>가수</th>\n",
       "    </tr>\n",
       "  </thead>\n",
       "  <tbody>\n",
       "    <tr>\n",
       "      <th>0</th>\n",
       "      <td>YouTube</td>\n",
       "      <td>1</td>\n",
       "      <td>[ENG SUB] [놀면 뭐하니? 후공개] SG 워너비 - '내 사람' 풀영상 (H...</td>\n",
       "      <td>놀면 뭐하니?</td>\n",
       "    </tr>\n",
       "    <tr>\n",
       "      <th>1</th>\n",
       "      <td>YouTube</td>\n",
       "      <td>2</td>\n",
       "      <td>[ENG SUB] [놀면 뭐하니? 후공개] SG워너비 - '살다가' 풀영상 (Han...</td>\n",
       "      <td>놀면 뭐하니?</td>\n",
       "    </tr>\n",
       "    <tr>\n",
       "      <th>2</th>\n",
       "      <td>YouTube</td>\n",
       "      <td>3</td>\n",
       "      <td>롤린 (Rollin')</td>\n",
       "      <td>브레이브걸스 - Topic</td>\n",
       "    </tr>\n",
       "    <tr>\n",
       "      <th>3</th>\n",
       "      <td>YouTube</td>\n",
       "      <td>4</td>\n",
       "      <td>Peaches</td>\n",
       "      <td>Justin Bieber</td>\n",
       "    </tr>\n",
       "    <tr>\n",
       "      <th>4</th>\n",
       "      <td>YouTube</td>\n",
       "      <td>5</td>\n",
       "      <td>LILAC (라일락)</td>\n",
       "      <td>이지금 [IU Official]</td>\n",
       "    </tr>\n",
       "    <tr>\n",
       "      <th>...</th>\n",
       "      <td>...</td>\n",
       "      <td>...</td>\n",
       "      <td>...</td>\n",
       "      <td>...</td>\n",
       "    </tr>\n",
       "    <tr>\n",
       "      <th>95</th>\n",
       "      <td>YouTube</td>\n",
       "      <td>96</td>\n",
       "      <td>Hold On</td>\n",
       "      <td>Justin Bieber</td>\n",
       "    </tr>\n",
       "    <tr>\n",
       "      <th>96</th>\n",
       "      <td>YouTube</td>\n",
       "      <td>97</td>\n",
       "      <td>Beautiful Mistakes</td>\n",
       "      <td>Maroon 5</td>\n",
       "    </tr>\n",
       "    <tr>\n",
       "      <th>97</th>\n",
       "      <td>YouTube</td>\n",
       "      <td>98</td>\n",
       "      <td>We Were (Prod. by Lee Chanhyuk of AKMU) (우린 (P...</td>\n",
       "      <td>Lee Seung-chul - Topic</td>\n",
       "    </tr>\n",
       "    <tr>\n",
       "      <th>98</th>\n",
       "      <td>YouTube</td>\n",
       "      <td>99</td>\n",
       "      <td>너 때문에 미쳐</td>\n",
       "      <td>ONE LOVE ASIA</td>\n",
       "    </tr>\n",
       "    <tr>\n",
       "      <th>99</th>\n",
       "      <td>YouTube</td>\n",
       "      <td>100</td>\n",
       "      <td>dlwlrma (이 지금)</td>\n",
       "      <td>이지금 [IU Official]</td>\n",
       "    </tr>\n",
       "  </tbody>\n",
       "</table>\n",
       "<p>100 rows × 4 columns</p>\n",
       "</div>"
      ],
      "text/plain": [
       "        서비스   순위                                                타이틀  \\\n",
       "0   YouTube    1  [ENG SUB] [놀면 뭐하니? 후공개] SG 워너비 - '내 사람' 풀영상 (H...   \n",
       "1   YouTube    2  [ENG SUB] [놀면 뭐하니? 후공개] SG워너비 - '살다가' 풀영상 (Han...   \n",
       "2   YouTube    3                                       롤린 (Rollin')   \n",
       "3   YouTube    4                                            Peaches   \n",
       "4   YouTube    5                                        LILAC (라일락)   \n",
       "..      ...  ...                                                ...   \n",
       "95  YouTube   96                                            Hold On   \n",
       "96  YouTube   97                                 Beautiful Mistakes   \n",
       "97  YouTube   98  We Were (Prod. by Lee Chanhyuk of AKMU) (우린 (P...   \n",
       "98  YouTube   99                                           너 때문에 미쳐   \n",
       "99  YouTube  100                                     dlwlrma (이 지금)   \n",
       "\n",
       "                        가수  \n",
       "0                  놀면 뭐하니?  \n",
       "1                  놀면 뭐하니?  \n",
       "2           브레이브걸스 - Topic  \n",
       "3            Justin Bieber  \n",
       "4        이지금 [IU Official]  \n",
       "..                     ...  \n",
       "95           Justin Bieber  \n",
       "96                Maroon 5  \n",
       "97  Lee Seung-chul - Topic  \n",
       "98           ONE LOVE ASIA  \n",
       "99       이지금 [IU Official]  \n",
       "\n",
       "[100 rows x 4 columns]"
      ]
     },
     "execution_count": 12,
     "metadata": {},
     "output_type": "execute_result"
    }
   ],
   "source": [
    "pd_data = pd.DataFrame(df, columns = columns)\n",
    "pd_data"
   ]
  },
  {
   "cell_type": "markdown",
   "metadata": {},
   "source": [
    "## 국적별 파일 생성"
   ]
  },
  {
   "cell_type": "code",
   "execution_count": 13,
   "metadata": {},
   "outputs": [],
   "source": [
    "def create_kto_data(yy, mm):\n",
    "    #1. 불러올 Excel 파일 경로를 지정해주기\n",
    "    file_path = 'w09_/up_files/kto_{}{}.xlsx'.format(yy, mm)  \n",
    "    \n",
    "    # 2. Excel 파일 불러오기 \n",
    "    df = pd.read_excel(file_path, header=1, skipfooter=4, usecols='A:G')\n",
    "    \n",
    "    # 3. \"기준년월\" 컬럼 추가하기 \n",
    "    df['기준년월'] = '{}-{}'.format(yy, mm) \n",
    "    \n",
    "    # 4. \"국적\" 컬럼에서 대륙 제거하고 국가만 남기기 \n",
    "    ignore_list = ['아시아주', '미주', '구주', '대양주', '아프리카주', '기타대륙', '교포소계']    # 제거할 대륙명 선정하기 \n",
    "    condition = (df['국적'].isin(ignore_list) == False)    # 대륙 미포함 조건 \n",
    "    df_country = df[condition].reset_index(drop=True) \n",
    "    \n",
    "    # 5. \"대륙\" 컬럼 추가하기 \n",
    "    continents = ['아시아']*25 + ['아메리카']*5 + ['유럽']*23 + ['대양주']*3 + ['아프리카']*2 + ['기타대륙'] + ['교포']    # 대륙 컬럼 생성을 위한 목록 만들어 놓기 \n",
    "    df_country['대륙'] = continents   \n",
    "                       \n",
    "    # 6. 국가별 \"관광객비율(%)\" 컬럼 추가하기 \n",
    "    df_country['관광객비율(%)'] = round(df_country.관광 / df_country.계 * 100, 1) \n",
    "                       \n",
    "    # 7. \"전체비율(%)\" 컬럼 추가하기 \n",
    "    tourist_sum = sum(df_country['관광'])\n",
    "    df_country['전체비율(%)'] = round(df_country['관광'] / tourist_sum * 100, 1)\n",
    "    \n",
    "    # 8. 결과 출력하기 \n",
    "    return(df_country)"
   ]
  },
  {
   "cell_type": "code",
   "execution_count": 14,
   "metadata": {},
   "outputs": [
    {
     "data": {
      "text/html": [
       "<div>\n",
       "<style scoped>\n",
       "    .dataframe tbody tr th:only-of-type {\n",
       "        vertical-align: middle;\n",
       "    }\n",
       "\n",
       "    .dataframe tbody tr th {\n",
       "        vertical-align: top;\n",
       "    }\n",
       "\n",
       "    .dataframe thead th {\n",
       "        text-align: right;\n",
       "    }\n",
       "</style>\n",
       "<table border=\"1\" class=\"dataframe\">\n",
       "  <thead>\n",
       "    <tr style=\"text-align: right;\">\n",
       "      <th></th>\n",
       "      <th>국적</th>\n",
       "      <th>관광</th>\n",
       "      <th>상용</th>\n",
       "      <th>공용</th>\n",
       "      <th>유학/연수</th>\n",
       "      <th>기타</th>\n",
       "      <th>계</th>\n",
       "      <th>기준년월</th>\n",
       "      <th>대륙</th>\n",
       "      <th>관광객비율(%)</th>\n",
       "      <th>전체비율(%)</th>\n",
       "    </tr>\n",
       "  </thead>\n",
       "  <tbody>\n",
       "    <tr>\n",
       "      <th>0</th>\n",
       "      <td>일본</td>\n",
       "      <td>252461</td>\n",
       "      <td>1698</td>\n",
       "      <td>161</td>\n",
       "      <td>608</td>\n",
       "      <td>3593</td>\n",
       "      <td>258521</td>\n",
       "      <td>2018-12</td>\n",
       "      <td>아시아</td>\n",
       "      <td>97.7</td>\n",
       "      <td>22.7</td>\n",
       "    </tr>\n",
       "    <tr>\n",
       "      <th>1</th>\n",
       "      <td>대만</td>\n",
       "      <td>85697</td>\n",
       "      <td>71</td>\n",
       "      <td>22</td>\n",
       "      <td>266</td>\n",
       "      <td>1252</td>\n",
       "      <td>87308</td>\n",
       "      <td>2018-12</td>\n",
       "      <td>아시아</td>\n",
       "      <td>98.2</td>\n",
       "      <td>7.7</td>\n",
       "    </tr>\n",
       "    <tr>\n",
       "      <th>2</th>\n",
       "      <td>홍콩</td>\n",
       "      <td>58355</td>\n",
       "      <td>41</td>\n",
       "      <td>3</td>\n",
       "      <td>208</td>\n",
       "      <td>939</td>\n",
       "      <td>59546</td>\n",
       "      <td>2018-12</td>\n",
       "      <td>아시아</td>\n",
       "      <td>98.0</td>\n",
       "      <td>5.2</td>\n",
       "    </tr>\n",
       "    <tr>\n",
       "      <th>3</th>\n",
       "      <td>마카오</td>\n",
       "      <td>6766</td>\n",
       "      <td>0</td>\n",
       "      <td>1</td>\n",
       "      <td>20</td>\n",
       "      <td>36</td>\n",
       "      <td>6823</td>\n",
       "      <td>2018-12</td>\n",
       "      <td>아시아</td>\n",
       "      <td>99.2</td>\n",
       "      <td>0.6</td>\n",
       "    </tr>\n",
       "    <tr>\n",
       "      <th>4</th>\n",
       "      <td>태국</td>\n",
       "      <td>47242</td>\n",
       "      <td>42</td>\n",
       "      <td>302</td>\n",
       "      <td>58</td>\n",
       "      <td>6382</td>\n",
       "      <td>54026</td>\n",
       "      <td>2018-12</td>\n",
       "      <td>아시아</td>\n",
       "      <td>87.4</td>\n",
       "      <td>4.2</td>\n",
       "    </tr>\n",
       "  </tbody>\n",
       "</table>\n",
       "</div>"
      ],
      "text/plain": [
       "    국적      관광    상용   공용  유학/연수    기타       계     기준년월   대륙  관광객비율(%)  \\\n",
       "0   일본  252461  1698  161    608  3593  258521  2018-12  아시아      97.7   \n",
       "1   대만   85697    71   22    266  1252   87308  2018-12  아시아      98.2   \n",
       "2   홍콩   58355    41    3    208   939   59546  2018-12  아시아      98.0   \n",
       "3  마카오    6766     0    1     20    36    6823  2018-12  아시아      99.2   \n",
       "4   태국   47242    42  302     58  6382   54026  2018-12  아시아      87.4   \n",
       "\n",
       "   전체비율(%)  \n",
       "0     22.7  \n",
       "1      7.7  \n",
       "2      5.2  \n",
       "3      0.6  \n",
       "4      4.2  "
      ]
     },
     "execution_count": 14,
     "metadata": {},
     "output_type": "execute_result"
    }
   ],
   "source": [
    "kto_test = create_kto_data(2018, 12)\n",
    "kto_test.head()"
   ]
  },
  {
   "cell_type": "code",
   "execution_count": 15,
   "metadata": {},
   "outputs": [],
   "source": [
    "cntry_list = kto_test['국적']"
   ]
  },
  {
   "cell_type": "code",
   "execution_count": 16,
   "metadata": {},
   "outputs": [
    {
     "name": "stdout",
     "output_type": "stream",
     "text": [
      "60\n",
      "교포\n"
     ]
    }
   ],
   "source": [
    "print(len(cntry_list))\n",
    "print(kto_test['국적'][59])\n"
   ]
  },
  {
   "cell_type": "code",
   "execution_count": 17,
   "metadata": {},
   "outputs": [
    {
     "ename": "FileNotFoundError",
     "evalue": "[Errno 2] No such file or directory: 'w09_/up_files/kto_202006.xlsx'",
     "output_type": "error",
     "traceback": [
      "\u001b[1;31m---------------------------------------------------------------------------\u001b[0m",
      "\u001b[1;31mFileNotFoundError\u001b[0m                         Traceback (most recent call last)",
      "\u001b[1;32m<ipython-input-17-ae11816042d5>\u001b[0m in \u001b[0;36m<module>\u001b[1;34m\u001b[0m\n\u001b[0;32m      7\u001b[0m \u001b[1;32mfor\u001b[0m \u001b[0myy\u001b[0m \u001b[1;32min\u001b[0m \u001b[0mrange\u001b[0m\u001b[1;33m(\u001b[0m\u001b[1;36m2010\u001b[0m\u001b[1;33m,\u001b[0m \u001b[1;36m2021\u001b[0m\u001b[1;33m)\u001b[0m\u001b[1;33m:\u001b[0m\u001b[1;33m\u001b[0m\u001b[1;33m\u001b[0m\u001b[0m\n\u001b[0;32m      8\u001b[0m     \u001b[1;32mfor\u001b[0m \u001b[0mmm\u001b[0m \u001b[1;32min\u001b[0m \u001b[0mrange\u001b[0m\u001b[1;33m(\u001b[0m\u001b[1;36m1\u001b[0m\u001b[1;33m,\u001b[0m \u001b[1;36m13\u001b[0m\u001b[1;33m)\u001b[0m\u001b[1;33m:\u001b[0m\u001b[1;33m\u001b[0m\u001b[1;33m\u001b[0m\u001b[0m\n\u001b[1;32m----> 9\u001b[1;33m         \u001b[0mtemp\u001b[0m \u001b[1;33m=\u001b[0m \u001b[0mcreate_kto_data\u001b[0m\u001b[1;33m(\u001b[0m\u001b[0mstr\u001b[0m\u001b[1;33m(\u001b[0m\u001b[0myy\u001b[0m\u001b[1;33m)\u001b[0m\u001b[1;33m,\u001b[0m \u001b[0mstr\u001b[0m\u001b[1;33m(\u001b[0m\u001b[0mmm\u001b[0m\u001b[1;33m)\u001b[0m\u001b[1;33m.\u001b[0m\u001b[0mzfill\u001b[0m\u001b[1;33m(\u001b[0m\u001b[1;36m2\u001b[0m\u001b[1;33m)\u001b[0m\u001b[1;33m)\u001b[0m\u001b[1;33m\u001b[0m\u001b[1;33m\u001b[0m\u001b[0m\n\u001b[0m\u001b[0;32m     10\u001b[0m         \u001b[0mdf\u001b[0m \u001b[1;33m=\u001b[0m \u001b[0mdf\u001b[0m\u001b[1;33m.\u001b[0m\u001b[0mappend\u001b[0m\u001b[1;33m(\u001b[0m\u001b[0mtemp\u001b[0m\u001b[1;33m,\u001b[0m \u001b[0mignore_index\u001b[0m\u001b[1;33m=\u001b[0m\u001b[1;32mTrue\u001b[0m\u001b[1;33m)\u001b[0m\u001b[1;33m\u001b[0m\u001b[1;33m\u001b[0m\u001b[0m\n",
      "\u001b[1;32m<ipython-input-13-9106106d7095>\u001b[0m in \u001b[0;36mcreate_kto_data\u001b[1;34m(yy, mm)\u001b[0m\n\u001b[0;32m      4\u001b[0m \u001b[1;33m\u001b[0m\u001b[0m\n\u001b[0;32m      5\u001b[0m     \u001b[1;31m# 2. Excel 파일 불러오기\u001b[0m\u001b[1;33m\u001b[0m\u001b[1;33m\u001b[0m\u001b[1;33m\u001b[0m\u001b[0m\n\u001b[1;32m----> 6\u001b[1;33m     \u001b[0mdf\u001b[0m \u001b[1;33m=\u001b[0m \u001b[0mpd\u001b[0m\u001b[1;33m.\u001b[0m\u001b[0mread_excel\u001b[0m\u001b[1;33m(\u001b[0m\u001b[0mfile_path\u001b[0m\u001b[1;33m,\u001b[0m \u001b[0mheader\u001b[0m\u001b[1;33m=\u001b[0m\u001b[1;36m1\u001b[0m\u001b[1;33m,\u001b[0m \u001b[0mskipfooter\u001b[0m\u001b[1;33m=\u001b[0m\u001b[1;36m4\u001b[0m\u001b[1;33m,\u001b[0m \u001b[0musecols\u001b[0m\u001b[1;33m=\u001b[0m\u001b[1;34m'A:G'\u001b[0m\u001b[1;33m)\u001b[0m\u001b[1;33m\u001b[0m\u001b[1;33m\u001b[0m\u001b[0m\n\u001b[0m\u001b[0;32m      7\u001b[0m \u001b[1;33m\u001b[0m\u001b[0m\n\u001b[0;32m      8\u001b[0m     \u001b[1;31m# 3. \"기준년월\" 컬럼 추가하기\u001b[0m\u001b[1;33m\u001b[0m\u001b[1;33m\u001b[0m\u001b[1;33m\u001b[0m\u001b[0m\n",
      "\u001b[1;32m~\\anaconda3\\lib\\site-packages\\pandas\\util\\_decorators.py\u001b[0m in \u001b[0;36mwrapper\u001b[1;34m(*args, **kwargs)\u001b[0m\n\u001b[0;32m    294\u001b[0m                 )\n\u001b[0;32m    295\u001b[0m                 \u001b[0mwarnings\u001b[0m\u001b[1;33m.\u001b[0m\u001b[0mwarn\u001b[0m\u001b[1;33m(\u001b[0m\u001b[0mmsg\u001b[0m\u001b[1;33m,\u001b[0m \u001b[0mFutureWarning\u001b[0m\u001b[1;33m,\u001b[0m \u001b[0mstacklevel\u001b[0m\u001b[1;33m=\u001b[0m\u001b[0mstacklevel\u001b[0m\u001b[1;33m)\u001b[0m\u001b[1;33m\u001b[0m\u001b[1;33m\u001b[0m\u001b[0m\n\u001b[1;32m--> 296\u001b[1;33m             \u001b[1;32mreturn\u001b[0m \u001b[0mfunc\u001b[0m\u001b[1;33m(\u001b[0m\u001b[1;33m*\u001b[0m\u001b[0margs\u001b[0m\u001b[1;33m,\u001b[0m \u001b[1;33m**\u001b[0m\u001b[0mkwargs\u001b[0m\u001b[1;33m)\u001b[0m\u001b[1;33m\u001b[0m\u001b[1;33m\u001b[0m\u001b[0m\n\u001b[0m\u001b[0;32m    297\u001b[0m \u001b[1;33m\u001b[0m\u001b[0m\n\u001b[0;32m    298\u001b[0m         \u001b[1;32mreturn\u001b[0m \u001b[0mwrapper\u001b[0m\u001b[1;33m\u001b[0m\u001b[1;33m\u001b[0m\u001b[0m\n",
      "\u001b[1;32m~\\anaconda3\\lib\\site-packages\\pandas\\io\\excel\\_base.py\u001b[0m in \u001b[0;36mread_excel\u001b[1;34m(io, sheet_name, header, names, index_col, usecols, squeeze, dtype, engine, converters, true_values, false_values, skiprows, nrows, na_values, keep_default_na, na_filter, verbose, parse_dates, date_parser, thousands, comment, skipfooter, convert_float, mangle_dupe_cols)\u001b[0m\n\u001b[0;32m    302\u001b[0m \u001b[1;33m\u001b[0m\u001b[0m\n\u001b[0;32m    303\u001b[0m     \u001b[1;32mif\u001b[0m \u001b[1;32mnot\u001b[0m \u001b[0misinstance\u001b[0m\u001b[1;33m(\u001b[0m\u001b[0mio\u001b[0m\u001b[1;33m,\u001b[0m \u001b[0mExcelFile\u001b[0m\u001b[1;33m)\u001b[0m\u001b[1;33m:\u001b[0m\u001b[1;33m\u001b[0m\u001b[1;33m\u001b[0m\u001b[0m\n\u001b[1;32m--> 304\u001b[1;33m         \u001b[0mio\u001b[0m \u001b[1;33m=\u001b[0m \u001b[0mExcelFile\u001b[0m\u001b[1;33m(\u001b[0m\u001b[0mio\u001b[0m\u001b[1;33m,\u001b[0m \u001b[0mengine\u001b[0m\u001b[1;33m=\u001b[0m\u001b[0mengine\u001b[0m\u001b[1;33m)\u001b[0m\u001b[1;33m\u001b[0m\u001b[1;33m\u001b[0m\u001b[0m\n\u001b[0m\u001b[0;32m    305\u001b[0m     \u001b[1;32melif\u001b[0m \u001b[0mengine\u001b[0m \u001b[1;32mand\u001b[0m \u001b[0mengine\u001b[0m \u001b[1;33m!=\u001b[0m \u001b[0mio\u001b[0m\u001b[1;33m.\u001b[0m\u001b[0mengine\u001b[0m\u001b[1;33m:\u001b[0m\u001b[1;33m\u001b[0m\u001b[1;33m\u001b[0m\u001b[0m\n\u001b[0;32m    306\u001b[0m         raise ValueError(\n",
      "\u001b[1;32m~\\anaconda3\\lib\\site-packages\\pandas\\io\\excel\\_base.py\u001b[0m in \u001b[0;36m__init__\u001b[1;34m(self, path_or_buffer, engine)\u001b[0m\n\u001b[0;32m    865\u001b[0m         \u001b[0mself\u001b[0m\u001b[1;33m.\u001b[0m\u001b[0m_io\u001b[0m \u001b[1;33m=\u001b[0m \u001b[0mstringify_path\u001b[0m\u001b[1;33m(\u001b[0m\u001b[0mpath_or_buffer\u001b[0m\u001b[1;33m)\u001b[0m\u001b[1;33m\u001b[0m\u001b[1;33m\u001b[0m\u001b[0m\n\u001b[0;32m    866\u001b[0m \u001b[1;33m\u001b[0m\u001b[0m\n\u001b[1;32m--> 867\u001b[1;33m         \u001b[0mself\u001b[0m\u001b[1;33m.\u001b[0m\u001b[0m_reader\u001b[0m \u001b[1;33m=\u001b[0m \u001b[0mself\u001b[0m\u001b[1;33m.\u001b[0m\u001b[0m_engines\u001b[0m\u001b[1;33m[\u001b[0m\u001b[0mengine\u001b[0m\u001b[1;33m]\u001b[0m\u001b[1;33m(\u001b[0m\u001b[0mself\u001b[0m\u001b[1;33m.\u001b[0m\u001b[0m_io\u001b[0m\u001b[1;33m)\u001b[0m\u001b[1;33m\u001b[0m\u001b[1;33m\u001b[0m\u001b[0m\n\u001b[0m\u001b[0;32m    868\u001b[0m \u001b[1;33m\u001b[0m\u001b[0m\n\u001b[0;32m    869\u001b[0m     \u001b[1;32mdef\u001b[0m \u001b[0m__fspath__\u001b[0m\u001b[1;33m(\u001b[0m\u001b[0mself\u001b[0m\u001b[1;33m)\u001b[0m\u001b[1;33m:\u001b[0m\u001b[1;33m\u001b[0m\u001b[1;33m\u001b[0m\u001b[0m\n",
      "\u001b[1;32m~\\anaconda3\\lib\\site-packages\\pandas\\io\\excel\\_xlrd.py\u001b[0m in \u001b[0;36m__init__\u001b[1;34m(self, filepath_or_buffer)\u001b[0m\n\u001b[0;32m     20\u001b[0m         \u001b[0merr_msg\u001b[0m \u001b[1;33m=\u001b[0m \u001b[1;34m\"Install xlrd >= 1.0.0 for Excel support\"\u001b[0m\u001b[1;33m\u001b[0m\u001b[1;33m\u001b[0m\u001b[0m\n\u001b[0;32m     21\u001b[0m         \u001b[0mimport_optional_dependency\u001b[0m\u001b[1;33m(\u001b[0m\u001b[1;34m\"xlrd\"\u001b[0m\u001b[1;33m,\u001b[0m \u001b[0mextra\u001b[0m\u001b[1;33m=\u001b[0m\u001b[0merr_msg\u001b[0m\u001b[1;33m)\u001b[0m\u001b[1;33m\u001b[0m\u001b[1;33m\u001b[0m\u001b[0m\n\u001b[1;32m---> 22\u001b[1;33m         \u001b[0msuper\u001b[0m\u001b[1;33m(\u001b[0m\u001b[1;33m)\u001b[0m\u001b[1;33m.\u001b[0m\u001b[0m__init__\u001b[0m\u001b[1;33m(\u001b[0m\u001b[0mfilepath_or_buffer\u001b[0m\u001b[1;33m)\u001b[0m\u001b[1;33m\u001b[0m\u001b[1;33m\u001b[0m\u001b[0m\n\u001b[0m\u001b[0;32m     23\u001b[0m \u001b[1;33m\u001b[0m\u001b[0m\n\u001b[0;32m     24\u001b[0m     \u001b[1;33m@\u001b[0m\u001b[0mproperty\u001b[0m\u001b[1;33m\u001b[0m\u001b[1;33m\u001b[0m\u001b[0m\n",
      "\u001b[1;32m~\\anaconda3\\lib\\site-packages\\pandas\\io\\excel\\_base.py\u001b[0m in \u001b[0;36m__init__\u001b[1;34m(self, filepath_or_buffer)\u001b[0m\n\u001b[0;32m    351\u001b[0m             \u001b[0mself\u001b[0m\u001b[1;33m.\u001b[0m\u001b[0mbook\u001b[0m \u001b[1;33m=\u001b[0m \u001b[0mself\u001b[0m\u001b[1;33m.\u001b[0m\u001b[0mload_workbook\u001b[0m\u001b[1;33m(\u001b[0m\u001b[0mfilepath_or_buffer\u001b[0m\u001b[1;33m)\u001b[0m\u001b[1;33m\u001b[0m\u001b[1;33m\u001b[0m\u001b[0m\n\u001b[0;32m    352\u001b[0m         \u001b[1;32melif\u001b[0m \u001b[0misinstance\u001b[0m\u001b[1;33m(\u001b[0m\u001b[0mfilepath_or_buffer\u001b[0m\u001b[1;33m,\u001b[0m \u001b[0mstr\u001b[0m\u001b[1;33m)\u001b[0m\u001b[1;33m:\u001b[0m\u001b[1;33m\u001b[0m\u001b[1;33m\u001b[0m\u001b[0m\n\u001b[1;32m--> 353\u001b[1;33m             \u001b[0mself\u001b[0m\u001b[1;33m.\u001b[0m\u001b[0mbook\u001b[0m \u001b[1;33m=\u001b[0m \u001b[0mself\u001b[0m\u001b[1;33m.\u001b[0m\u001b[0mload_workbook\u001b[0m\u001b[1;33m(\u001b[0m\u001b[0mfilepath_or_buffer\u001b[0m\u001b[1;33m)\u001b[0m\u001b[1;33m\u001b[0m\u001b[1;33m\u001b[0m\u001b[0m\n\u001b[0m\u001b[0;32m    354\u001b[0m         \u001b[1;32melif\u001b[0m \u001b[0misinstance\u001b[0m\u001b[1;33m(\u001b[0m\u001b[0mfilepath_or_buffer\u001b[0m\u001b[1;33m,\u001b[0m \u001b[0mbytes\u001b[0m\u001b[1;33m)\u001b[0m\u001b[1;33m:\u001b[0m\u001b[1;33m\u001b[0m\u001b[1;33m\u001b[0m\u001b[0m\n\u001b[0;32m    355\u001b[0m             \u001b[0mself\u001b[0m\u001b[1;33m.\u001b[0m\u001b[0mbook\u001b[0m \u001b[1;33m=\u001b[0m \u001b[0mself\u001b[0m\u001b[1;33m.\u001b[0m\u001b[0mload_workbook\u001b[0m\u001b[1;33m(\u001b[0m\u001b[0mBytesIO\u001b[0m\u001b[1;33m(\u001b[0m\u001b[0mfilepath_or_buffer\u001b[0m\u001b[1;33m)\u001b[0m\u001b[1;33m)\u001b[0m\u001b[1;33m\u001b[0m\u001b[1;33m\u001b[0m\u001b[0m\n",
      "\u001b[1;32m~\\anaconda3\\lib\\site-packages\\pandas\\io\\excel\\_xlrd.py\u001b[0m in \u001b[0;36mload_workbook\u001b[1;34m(self, filepath_or_buffer)\u001b[0m\n\u001b[0;32m     35\u001b[0m             \u001b[1;32mreturn\u001b[0m \u001b[0mopen_workbook\u001b[0m\u001b[1;33m(\u001b[0m\u001b[0mfile_contents\u001b[0m\u001b[1;33m=\u001b[0m\u001b[0mdata\u001b[0m\u001b[1;33m)\u001b[0m\u001b[1;33m\u001b[0m\u001b[1;33m\u001b[0m\u001b[0m\n\u001b[0;32m     36\u001b[0m         \u001b[1;32melse\u001b[0m\u001b[1;33m:\u001b[0m\u001b[1;33m\u001b[0m\u001b[1;33m\u001b[0m\u001b[0m\n\u001b[1;32m---> 37\u001b[1;33m             \u001b[1;32mreturn\u001b[0m \u001b[0mopen_workbook\u001b[0m\u001b[1;33m(\u001b[0m\u001b[0mfilepath_or_buffer\u001b[0m\u001b[1;33m)\u001b[0m\u001b[1;33m\u001b[0m\u001b[1;33m\u001b[0m\u001b[0m\n\u001b[0m\u001b[0;32m     38\u001b[0m \u001b[1;33m\u001b[0m\u001b[0m\n\u001b[0;32m     39\u001b[0m     \u001b[1;33m@\u001b[0m\u001b[0mproperty\u001b[0m\u001b[1;33m\u001b[0m\u001b[1;33m\u001b[0m\u001b[0m\n",
      "\u001b[1;32m~\\anaconda3\\lib\\site-packages\\xlrd\\__init__.py\u001b[0m in \u001b[0;36mopen_workbook\u001b[1;34m(filename, logfile, verbosity, use_mmap, file_contents, encoding_override, formatting_info, on_demand, ragged_rows)\u001b[0m\n\u001b[0;32m    109\u001b[0m     \u001b[1;32melse\u001b[0m\u001b[1;33m:\u001b[0m\u001b[1;33m\u001b[0m\u001b[1;33m\u001b[0m\u001b[0m\n\u001b[0;32m    110\u001b[0m         \u001b[0mfilename\u001b[0m \u001b[1;33m=\u001b[0m \u001b[0mos\u001b[0m\u001b[1;33m.\u001b[0m\u001b[0mpath\u001b[0m\u001b[1;33m.\u001b[0m\u001b[0mexpanduser\u001b[0m\u001b[1;33m(\u001b[0m\u001b[0mfilename\u001b[0m\u001b[1;33m)\u001b[0m\u001b[1;33m\u001b[0m\u001b[1;33m\u001b[0m\u001b[0m\n\u001b[1;32m--> 111\u001b[1;33m         \u001b[1;32mwith\u001b[0m \u001b[0mopen\u001b[0m\u001b[1;33m(\u001b[0m\u001b[0mfilename\u001b[0m\u001b[1;33m,\u001b[0m \u001b[1;34m\"rb\"\u001b[0m\u001b[1;33m)\u001b[0m \u001b[1;32mas\u001b[0m \u001b[0mf\u001b[0m\u001b[1;33m:\u001b[0m\u001b[1;33m\u001b[0m\u001b[1;33m\u001b[0m\u001b[0m\n\u001b[0m\u001b[0;32m    112\u001b[0m             \u001b[0mpeek\u001b[0m \u001b[1;33m=\u001b[0m \u001b[0mf\u001b[0m\u001b[1;33m.\u001b[0m\u001b[0mread\u001b[0m\u001b[1;33m(\u001b[0m\u001b[0mpeeksz\u001b[0m\u001b[1;33m)\u001b[0m\u001b[1;33m\u001b[0m\u001b[1;33m\u001b[0m\u001b[0m\n\u001b[0;32m    113\u001b[0m     \u001b[1;32mif\u001b[0m \u001b[0mpeek\u001b[0m \u001b[1;33m==\u001b[0m \u001b[1;34mb\"PK\\x03\\x04\"\u001b[0m\u001b[1;33m:\u001b[0m \u001b[1;31m# a ZIP file\u001b[0m\u001b[1;33m\u001b[0m\u001b[1;33m\u001b[0m\u001b[0m\n",
      "\u001b[1;31mFileNotFoundError\u001b[0m: [Errno 2] No such file or directory: 'w09_/up_files/kto_202006.xlsx'"
     ]
    }
   ],
   "source": [
    "#-------------------------------\n",
    "# 각 파일을 합해 새 파일 만들기 위한 작업 필요\n",
    "df = pd.DataFrame()\n",
    "\n",
    "#-------------------------------\n",
    "# 엑셀 파일 불러와서 합하기\n",
    "for yy in range(2010, 2021):\n",
    "    for mm in range(1, 13):\n",
    "        temp = create_kto_data(str(yy), str(mm).zfill(2))\n",
    "        df = df.append(temp, ignore_index=True)"
   ]
  },
  {
   "cell_type": "code",
   "execution_count": 18,
   "metadata": {},
   "outputs": [],
   "source": [
    "# test\n",
    "country='china'\n",
    "file_path = 'kto_{}.xlsx'.format(country)\n",
    "df.to_excel(file_path,index = False)"
   ]
  },
  {
   "cell_type": "code",
   "execution_count": 19,
   "metadata": {},
   "outputs": [
    {
     "data": {
      "text/html": [
       "<div>\n",
       "<style scoped>\n",
       "    .dataframe tbody tr th:only-of-type {\n",
       "        vertical-align: middle;\n",
       "    }\n",
       "\n",
       "    .dataframe tbody tr th {\n",
       "        vertical-align: top;\n",
       "    }\n",
       "\n",
       "    .dataframe thead th {\n",
       "        text-align: right;\n",
       "    }\n",
       "</style>\n",
       "<table border=\"1\" class=\"dataframe\">\n",
       "  <thead>\n",
       "    <tr style=\"text-align: right;\">\n",
       "      <th></th>\n",
       "      <th>국적</th>\n",
       "      <th>관광</th>\n",
       "      <th>상용</th>\n",
       "      <th>공용</th>\n",
       "      <th>유학/연수</th>\n",
       "      <th>기타</th>\n",
       "      <th>계</th>\n",
       "      <th>기준년월</th>\n",
       "      <th>대륙</th>\n",
       "      <th>관광객비율(%)</th>\n",
       "      <th>전체비율(%)</th>\n",
       "    </tr>\n",
       "  </thead>\n",
       "  <tbody>\n",
       "    <tr>\n",
       "      <th>17</th>\n",
       "      <td>중국</td>\n",
       "      <td>40425</td>\n",
       "      <td>11930</td>\n",
       "      <td>55</td>\n",
       "      <td>2751</td>\n",
       "      <td>36091</td>\n",
       "      <td>91252</td>\n",
       "      <td>2010-01</td>\n",
       "      <td>아시아</td>\n",
       "      <td>44.3</td>\n",
       "      <td>10.1</td>\n",
       "    </tr>\n",
       "    <tr>\n",
       "      <th>77</th>\n",
       "      <td>중국</td>\n",
       "      <td>60590</td>\n",
       "      <td>7907</td>\n",
       "      <td>68</td>\n",
       "      <td>29546</td>\n",
       "      <td>42460</td>\n",
       "      <td>140571</td>\n",
       "      <td>2010-02</td>\n",
       "      <td>아시아</td>\n",
       "      <td>43.1</td>\n",
       "      <td>13.6</td>\n",
       "    </tr>\n",
       "    <tr>\n",
       "      <th>137</th>\n",
       "      <td>중국</td>\n",
       "      <td>50330</td>\n",
       "      <td>13549</td>\n",
       "      <td>174</td>\n",
       "      <td>14924</td>\n",
       "      <td>62480</td>\n",
       "      <td>141457</td>\n",
       "      <td>2010-03</td>\n",
       "      <td>아시아</td>\n",
       "      <td>35.6</td>\n",
       "      <td>9.2</td>\n",
       "    </tr>\n",
       "    <tr>\n",
       "      <th>197</th>\n",
       "      <td>중국</td>\n",
       "      <td>84252</td>\n",
       "      <td>13306</td>\n",
       "      <td>212</td>\n",
       "      <td>2199</td>\n",
       "      <td>47711</td>\n",
       "      <td>147680</td>\n",
       "      <td>2010-04</td>\n",
       "      <td>아시아</td>\n",
       "      <td>57.1</td>\n",
       "      <td>15.5</td>\n",
       "    </tr>\n",
       "    <tr>\n",
       "      <th>257</th>\n",
       "      <td>중국</td>\n",
       "      <td>89056</td>\n",
       "      <td>12325</td>\n",
       "      <td>360</td>\n",
       "      <td>2931</td>\n",
       "      <td>49394</td>\n",
       "      <td>154066</td>\n",
       "      <td>2010-05</td>\n",
       "      <td>아시아</td>\n",
       "      <td>57.8</td>\n",
       "      <td>17.0</td>\n",
       "    </tr>\n",
       "    <tr>\n",
       "      <th>...</th>\n",
       "      <td>...</td>\n",
       "      <td>...</td>\n",
       "      <td>...</td>\n",
       "      <td>...</td>\n",
       "      <td>...</td>\n",
       "      <td>...</td>\n",
       "      <td>...</td>\n",
       "      <td>...</td>\n",
       "      <td>...</td>\n",
       "      <td>...</td>\n",
       "      <td>...</td>\n",
       "    </tr>\n",
       "    <tr>\n",
       "      <th>7217</th>\n",
       "      <td>중국</td>\n",
       "      <td>393336</td>\n",
       "      <td>2813</td>\n",
       "      <td>99</td>\n",
       "      <td>10433</td>\n",
       "      <td>75000</td>\n",
       "      <td>481681</td>\n",
       "      <td>2020-01</td>\n",
       "      <td>아시아</td>\n",
       "      <td>81.7</td>\n",
       "      <td>38.2</td>\n",
       "    </tr>\n",
       "    <tr>\n",
       "      <th>7277</th>\n",
       "      <td>중국</td>\n",
       "      <td>49520</td>\n",
       "      <td>715</td>\n",
       "      <td>11</td>\n",
       "      <td>20753</td>\n",
       "      <td>33087</td>\n",
       "      <td>104086</td>\n",
       "      <td>2020-02</td>\n",
       "      <td>아시아</td>\n",
       "      <td>47.6</td>\n",
       "      <td>9.8</td>\n",
       "    </tr>\n",
       "    <tr>\n",
       "      <th>7337</th>\n",
       "      <td>중국</td>\n",
       "      <td>5040</td>\n",
       "      <td>115</td>\n",
       "      <td>2</td>\n",
       "      <td>7388</td>\n",
       "      <td>4050</td>\n",
       "      <td>16595</td>\n",
       "      <td>2020-03</td>\n",
       "      <td>아시아</td>\n",
       "      <td>30.4</td>\n",
       "      <td>16.0</td>\n",
       "    </tr>\n",
       "    <tr>\n",
       "      <th>7397</th>\n",
       "      <td>중국</td>\n",
       "      <td>522</td>\n",
       "      <td>71</td>\n",
       "      <td>0</td>\n",
       "      <td>1112</td>\n",
       "      <td>2230</td>\n",
       "      <td>3935</td>\n",
       "      <td>2020-04</td>\n",
       "      <td>아시아</td>\n",
       "      <td>13.3</td>\n",
       "      <td>10.2</td>\n",
       "    </tr>\n",
       "    <tr>\n",
       "      <th>7457</th>\n",
       "      <td>중국</td>\n",
       "      <td>179</td>\n",
       "      <td>70</td>\n",
       "      <td>2</td>\n",
       "      <td>1189</td>\n",
       "      <td>3684</td>\n",
       "      <td>5124</td>\n",
       "      <td>2020-05</td>\n",
       "      <td>아시아</td>\n",
       "      <td>3.5</td>\n",
       "      <td>2.9</td>\n",
       "    </tr>\n",
       "  </tbody>\n",
       "</table>\n",
       "<p>125 rows × 11 columns</p>\n",
       "</div>"
      ],
      "text/plain": [
       "      국적      관광     상용   공용  유학/연수     기타       계     기준년월   대륙  관광객비율(%)  \\\n",
       "17    중국   40425  11930   55   2751  36091   91252  2010-01  아시아      44.3   \n",
       "77    중국   60590   7907   68  29546  42460  140571  2010-02  아시아      43.1   \n",
       "137   중국   50330  13549  174  14924  62480  141457  2010-03  아시아      35.6   \n",
       "197   중국   84252  13306  212   2199  47711  147680  2010-04  아시아      57.1   \n",
       "257   중국   89056  12325  360   2931  49394  154066  2010-05  아시아      57.8   \n",
       "...   ..     ...    ...  ...    ...    ...     ...      ...  ...       ...   \n",
       "7217  중국  393336   2813   99  10433  75000  481681  2020-01  아시아      81.7   \n",
       "7277  중국   49520    715   11  20753  33087  104086  2020-02  아시아      47.6   \n",
       "7337  중국    5040    115    2   7388   4050   16595  2020-03  아시아      30.4   \n",
       "7397  중국     522     71    0   1112   2230    3935  2020-04  아시아      13.3   \n",
       "7457  중국     179     70    2   1189   3684    5124  2020-05  아시아       3.5   \n",
       "\n",
       "      전체비율(%)  \n",
       "17       10.1  \n",
       "77       13.6  \n",
       "137       9.2  \n",
       "197      15.5  \n",
       "257      17.0  \n",
       "...       ...  \n",
       "7217     38.2  \n",
       "7277      9.8  \n",
       "7337     16.0  \n",
       "7397     10.2  \n",
       "7457      2.9  \n",
       "\n",
       "[125 rows x 11 columns]"
      ]
     },
     "execution_count": 19,
     "metadata": {},
     "output_type": "execute_result"
    }
   ],
   "source": [
    "condition = (df['국적']=='중국')\n",
    "df_filter = df[condition]\n",
    "df_filter"
   ]
  },
  {
   "cell_type": "code",
   "execution_count": 20,
   "metadata": {},
   "outputs": [
    {
     "data": {
      "text/plain": [
       "7500"
      ]
     },
     "execution_count": 20,
     "metadata": {},
     "output_type": "execute_result"
    }
   ],
   "source": [
    "len(df['국적'])"
   ]
  },
  {
   "cell_type": "code",
   "execution_count": 21,
   "metadata": {},
   "outputs": [],
   "source": [
    "cntry_list = kto_test['국적']"
   ]
  },
  {
   "cell_type": "code",
   "execution_count": 22,
   "metadata": {},
   "outputs": [
    {
     "data": {
      "text/plain": [
       "0           일본\n",
       "1           대만\n",
       "2           홍콩\n",
       "3          마카오\n",
       "4           태국\n",
       "5        말레이시아\n",
       "6          필리핀\n",
       "7        인도네시아\n",
       "8         싱가포르\n",
       "9          미얀마\n",
       "10         베트남\n",
       "11          인도\n",
       "12        스리랑카\n",
       "13        파키스탄\n",
       "14       방글라데시\n",
       "15        캄보디아\n",
       "16          몽골\n",
       "17          중국\n",
       "18          이란\n",
       "19        이스라엘\n",
       "20          터키\n",
       "21      우즈베키스탄\n",
       "22       카자흐스탄\n",
       "23         GCC\n",
       "24      아시아 기타\n",
       "25          미국\n",
       "26         캐나다\n",
       "27         멕시코\n",
       "28         브라질\n",
       "29       미주 기타\n",
       "30          영국\n",
       "31          독일\n",
       "32         프랑스\n",
       "33        네덜란드\n",
       "34         스웨덴\n",
       "35         스위스\n",
       "36        이탈리아\n",
       "37         덴마크\n",
       "38        노르웨이\n",
       "39         벨기에\n",
       "40       오스트리아\n",
       "41         스페인\n",
       "42         그리스\n",
       "43        포르투갈\n",
       "44         핀란드\n",
       "45        아일랜드\n",
       "46       우크라이나\n",
       "47         러시아\n",
       "48       크로아티아\n",
       "49        루마니아\n",
       "50        불가리아\n",
       "51         폴란드\n",
       "52       구주 기타\n",
       "53     오스트레일리아\n",
       "54        뉴질랜드\n",
       "55      대양주 기타\n",
       "56    남아프리카공화국\n",
       "57     아프리카 기타\n",
       "58        국적미상\n",
       "59          교포\n",
       "Name: 국적, dtype: object"
      ]
     },
     "execution_count": 22,
     "metadata": {},
     "output_type": "execute_result"
    }
   ],
   "source": [
    "cntry_list"
   ]
  },
  {
   "cell_type": "code",
   "execution_count": 23,
   "metadata": {},
   "outputs": [
    {
     "data": {
      "text/plain": [
       "0        True\n",
       "1       False\n",
       "2       False\n",
       "3       False\n",
       "4       False\n",
       "        ...  \n",
       "7495    False\n",
       "7496    False\n",
       "7497    False\n",
       "7498    False\n",
       "7499    False\n",
       "Name: 국적, Length: 7500, dtype: bool"
      ]
     },
     "execution_count": 23,
     "metadata": {},
     "output_type": "execute_result"
    }
   ],
   "source": [
    "condition = (df['국적']==cntry_list[0])\n",
    "condition"
   ]
  },
  {
   "cell_type": "code",
   "execution_count": 24,
   "metadata": {},
   "outputs": [],
   "source": [
    "for country in cntry_list:\n",
    "    file_path = 'kto_{}.xlsx'.format(country)\n",
    "    condition = (df['국적']==country)\n",
    "    df_filter = df[condition]\n",
    "    df_filter.to_excel(file_path,index = False)"
   ]
  },
  {
   "cell_type": "markdown",
   "metadata": {},
   "source": [
    "## 실습 종료후 인스타그램 아이디"
   ]
  },
  {
   "cell_type": "markdown",
   "metadata": {},
   "source": [
    "- 프로필 : dkzndk1400\n",
    "- 캡스톤 주제 :\n",
    "- 조원 이름 : 노영훈, 이승엽"
   ]
  },
  {
   "cell_type": "code",
   "execution_count": null,
   "metadata": {},
   "outputs": [],
   "source": []
  }
 ],
 "metadata": {
  "kernelspec": {
   "display_name": "Python 3",
   "language": "python",
   "name": "python3"
  },
  "language_info": {
   "codemirror_mode": {
    "name": "ipython",
    "version": 3
   },
   "file_extension": ".py",
   "mimetype": "text/x-python",
   "name": "python",
   "nbconvert_exporter": "python",
   "pygments_lexer": "ipython3",
   "version": "3.8.5"
  }
 },
 "nbformat": 4,
 "nbformat_minor": 4
}
