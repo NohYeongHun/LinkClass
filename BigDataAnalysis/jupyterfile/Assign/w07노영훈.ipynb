{
 "cells": [
  {
   "cell_type": "markdown",
   "metadata": {},
   "source": [
    "# 크롤링"
   ]
  },
  {
   "cell_type": "code",
   "execution_count": 17,
   "metadata": {},
   "outputs": [],
   "source": [
    "# from selenium import webdriver\n",
    "# driver = webdriver.Chrome('chromedriver.exe')"
   ]
  },
  {
   "cell_type": "code",
   "execution_count": 18,
   "metadata": {},
   "outputs": [],
   "source": [
    "# url = 'https://www.daum.net/'\n",
    "# driver.get(url)"
   ]
  },
  {
   "cell_type": "code",
   "execution_count": 19,
   "metadata": {},
   "outputs": [],
   "source": [
    "# html = driver.page_source"
   ]
  },
  {
   "cell_type": "code",
   "execution_count": 20,
   "metadata": {},
   "outputs": [],
   "source": [
    "from selenium import webdriver"
   ]
  },
  {
   "cell_type": "code",
   "execution_count": 21,
   "metadata": {},
   "outputs": [],
   "source": [
    "html ='''\n",
    "<html>\n",
    "    <head>\n",
    "    </head>\n",
    "    <body>\n",
    "        <h1> 우리동네시장</h1>\n",
    "            <div class = 'sale'>\n",
    "                <p id='fruits1' class='fruits'>\n",
    "                    <span class = 'name'> 바나나 </span>\n",
    "                    <span class = 'price'> 3000원 </span>\n",
    "                    <span class = 'inventory'> 500개 </span>\n",
    "                    <span class = 'store'> 가나다상회 </span>\n",
    "                    <a href = 'https://map.kakao.com/' > 홈페이지 </a>\n",
    "                </p>\n",
    "            </div>\n",
    "            <div class = 'prepare'>\n",
    "                <p id='fruits2' class='fruits'>\n",
    "                    <span class ='name'> 파인애플 </span>\n",
    "                </p>\n",
    "            </div>\n",
    "    </body>\n",
    "</html>\n",
    "'''"
   ]
  },
  {
   "cell_type": "code",
   "execution_count": 22,
   "metadata": {
    "scrolled": true
   },
   "outputs": [
    {
     "name": "stdout",
     "output_type": "stream",
     "text": [
      "\n",
      "<html>\n",
      "    <head>\n",
      "    </head>\n",
      "    <body>\n",
      "        <h1> 우리동네시장</h1>\n",
      "            <div class = 'sale'>\n",
      "                <p id='fruits1' class='fruits'>\n",
      "                    <span class = 'name'> 바나나 </span>\n",
      "                    <span class = 'price'> 3000원 </span>\n",
      "                    <span class = 'inventory'> 500개 </span>\n",
      "                    <span class = 'store'> 가나다상회 </span>\n",
      "                    <a href = 'https://map.kakao.com/' > 홈페이지 </a>\n",
      "                </p>\n",
      "            </div>\n",
      "            <div class = 'prepare'>\n",
      "                <p id='fruits2' class='fruits'>\n",
      "                    <span class ='name'> 파인애플 </span>\n",
      "                </p>\n",
      "            </div>\n",
      "    </body>\n",
      "</html>\n",
      "\n"
     ]
    }
   ],
   "source": [
    "print(html)"
   ]
  },
  {
   "cell_type": "code",
   "execution_count": 23,
   "metadata": {},
   "outputs": [],
   "source": [
    "from bs4 import BeautifulSoup"
   ]
  },
  {
   "cell_type": "code",
   "execution_count": 24,
   "metadata": {},
   "outputs": [],
   "source": [
    "soup = BeautifulSoup(html, 'html.parser')"
   ]
  },
  {
   "cell_type": "code",
   "execution_count": 25,
   "metadata": {},
   "outputs": [
    {
     "name": "stdout",
     "output_type": "stream",
     "text": [
      "[<span class=\"name\"> 바나나 </span>, <span class=\"price\"> 3000원 </span>, <span class=\"inventory\"> 500개 </span>, <span class=\"store\"> 가나다상회 </span>, <span class=\"name\"> 파인애플 </span>]\n"
     ]
    }
   ],
   "source": [
    "tags_span = soup.select('span')\n",
    "print(tags_span)"
   ]
  },
  {
   "cell_type": "code",
   "execution_count": 26,
   "metadata": {},
   "outputs": [
    {
     "name": "stdout",
     "output_type": "stream",
     "text": [
      "[<p class=\"fruits\" id=\"fruits1\">\n",
      "<span class=\"name\"> 바나나 </span>\n",
      "<span class=\"price\"> 3000원 </span>\n",
      "<span class=\"inventory\"> 500개 </span>\n",
      "<span class=\"store\"> 가나다상회 </span>\n",
      "<a href=\"https://map.kakao.com/\"> 홈페이지 </a>\n",
      "</p>, <p class=\"fruits\" id=\"fruits2\">\n",
      "<span class=\"name\"> 파인애플 </span>\n",
      "</p>]\n"
     ]
    }
   ],
   "source": [
    "tags_p = soup.select('p')\n",
    "print(tags_p)"
   ]
  },
  {
   "cell_type": "code",
   "execution_count": 27,
   "metadata": {},
   "outputs": [
    {
     "name": "stdout",
     "output_type": "stream",
     "text": [
      "[<p class=\"fruits\" id=\"fruits1\">\n",
      "<span class=\"name\"> 바나나 </span>\n",
      "<span class=\"price\"> 3000원 </span>\n",
      "<span class=\"inventory\"> 500개 </span>\n",
      "<span class=\"store\"> 가나다상회 </span>\n",
      "<a href=\"https://map.kakao.com/\"> 홈페이지 </a>\n",
      "</p>]\n"
     ]
    }
   ],
   "source": [
    "ids_fruits1 = soup.select('#fruits1')\n",
    "print(ids_fruits1)"
   ]
  },
  {
   "cell_type": "code",
   "execution_count": 28,
   "metadata": {},
   "outputs": [
    {
     "name": "stdout",
     "output_type": "stream",
     "text": [
      "[<span class=\"price\"> 3000원 </span>]\n"
     ]
    }
   ],
   "source": [
    "class_price = soup.select('.price')\n",
    "print(class_price)"
   ]
  },
  {
   "cell_type": "code",
   "execution_count": 29,
   "metadata": {},
   "outputs": [
    {
     "name": "stdout",
     "output_type": "stream",
     "text": [
      "[<span class=\"name\"> 바나나 </span>, <span class=\"name\"> 파인애플 </span>]\n"
     ]
    }
   ],
   "source": [
    "tags_name = soup.select('span.name')\n",
    "print(tags_name)"
   ]
  },
  {
   "cell_type": "code",
   "execution_count": 30,
   "metadata": {},
   "outputs": [],
   "source": [
    "tags_banana1 = soup.select('#fruits1 > span.name')"
   ]
  },
  {
   "cell_type": "code",
   "execution_count": 31,
   "metadata": {},
   "outputs": [
    {
     "name": "stdout",
     "output_type": "stream",
     "text": [
      "[<span class=\"name\"> 바나나 </span>]\n",
      "[<span class=\"name\"> 바나나 </span>]\n"
     ]
    }
   ],
   "source": [
    "tags_banana2 = soup.select('div.sale>#fruits1>span.name')\n",
    "tags_banana3 = soup.select('div.sale span.name')\n",
    "print(tags_banana2)\n",
    "print(tags_banana3)"
   ]
  },
  {
   "cell_type": "code",
   "execution_count": 32,
   "metadata": {},
   "outputs": [],
   "source": [
    "driver = webdriver.Chrome('chromedriver.exe')"
   ]
  },
  {
   "cell_type": "code",
   "execution_count": 33,
   "metadata": {},
   "outputs": [],
   "source": [
    "url = 'http://www.melon.com/chart/index.htm'\n",
    "driver.get(url)"
   ]
  },
  {
   "cell_type": "code",
   "execution_count": 34,
   "metadata": {},
   "outputs": [],
   "source": [
    "html = driver.page_source\n",
    "soup = BeautifulSoup(html, 'html.parser')"
   ]
  },
  {
   "cell_type": "code",
   "execution_count": 35,
   "metadata": {},
   "outputs": [
    {
     "name": "stdout",
     "output_type": "stream",
     "text": [
      "101\n"
     ]
    }
   ],
   "source": [
    "songs = soup.select('tr')\n",
    "print(len(songs))"
   ]
  },
  {
   "cell_type": "code",
   "execution_count": 36,
   "metadata": {},
   "outputs": [
    {
     "name": "stdout",
     "output_type": "stream",
     "text": [
      "100\n"
     ]
    }
   ],
   "source": [
    "songs = soup.select('tbody > tr')\n",
    "print(len(songs))"
   ]
  },
  {
   "cell_type": "code",
   "execution_count": 37,
   "metadata": {},
   "outputs": [
    {
     "name": "stdout",
     "output_type": "stream",
     "text": [
      "<tr data-song-no=\"30287019\">\n",
      "<td><div class=\"wrap t_right\"><input class=\"input_check\" name=\"input_check\" title=\"롤린 (Rollin') 곡 선택\" type=\"checkbox\" value=\"30287019\"/></div></td>\n",
      "<td><div class=\"wrap\">\n",
      "<a class=\"image_typeAll\" href=\"javascript:melon.link.goAlbumDetail('10043575');\" title=\"Rollin'\">\n",
      "<img alt=\"Rollin' - 페이지 이동\" height=\"60\" onerror=\"WEBPOCIMG.defaultAlbumImg(this);\" src=\"https://cdnimg.melon.co.kr/cm2/album/images/100/43/575/10043575_20210302112520_500.jpg/melon/resize/120/quality/80/optimize\" width=\"60\"/>\n",
      "<span class=\"bg_album_frame\"></span>\n",
      "</a>\n",
      "</div></td>\n",
      "<td><div class=\"wrap\">\n",
      "<a class=\"btn button_icons type03 song_info\" href=\"javascript:melon.link.goSongDetail('30287019');\" title=\"롤린 (Rollin') 곡정보\"><span class=\"none\">곡정보</span></a>\n",
      "</div></td>\n",
      "<td><div class=\"wrap\">\n",
      "<div class=\"wrap_song_info\">\n",
      "<div class=\"ellipsis rank01\"><span>\n",
      "<a href=\"javascript:melon.play.playSong('19030101',30287019);\" title=\"롤린 (Rollin') 재생\">롤린 (Rollin')</a>\n",
      "</span></div>\n",
      "<br/>\n",
      "<div class=\"ellipsis rank02\">\n",
      "<a href=\"javascript:melon.link.goArtistDetail('531700');\" title=\"브레이브걸스 - 페이지 이동\">브레이브걸스</a><span class=\"checkEllipsis\" style=\"display: none;\"><a href=\"javascript:melon.link.goArtistDetail('531700');\" title=\"브레이브걸스 - 페이지 이동\">브레이브걸스</a></span>\n",
      "</div>\n",
      "</div>\n",
      "</div></td>\n",
      "<td><div class=\"wrap\">\n",
      "<div class=\"wrap_song_info\">\n",
      "<div class=\"ellipsis rank03\">\n",
      "<a href=\"javascript:melon.link.goAlbumDetail('10043575');\" title=\"Rollin' - 페이지 이동\">Rollin'</a>\n",
      "</div>\n",
      "</div>\n",
      "</div></td>\n",
      "<td><div class=\"wrap\">\n",
      "<button class=\"button_etc like\" data-song-menuid=\"19030101\" data-song-no=\"30287019\" title=\"롤린 (Rollin') 좋아요\" type=\"button\"><span class=\"odd_span\">좋아요</span>\n",
      "<span class=\"cnt\">\n",
      "<span class=\"none\">총건수</span>\n",
      "248,083</span></button>\n",
      "</div></td>\n",
      "<td><div class=\"wrap t_center\">\n",
      "<button class=\"button_icons play\" onclick=\"melon.play.playSong('19030101',30287019);\" title=\"듣기\" type=\"button\"><span class=\"none\">듣기</span></button>\n",
      "</div></td>\n",
      "<td><div class=\"wrap t_center\">\n",
      "<button class=\"button_icons scrap\" onclick=\"melon.play.addPlayList('30287019');\" title=\"담기\" type=\"button\"><span class=\"none\">담기</span></button>\n",
      "</div></td>\n",
      "<td><div class=\"wrap t_center\">\n",
      "<button class=\"button_icons download\" onclick=\"melon.buy.goBuyProduct('frm', '30287019', '3C0001', '','0', '19030101');\" title=\"다운로드\" type=\"button\"><span class=\"none\">다운로드</span></button>\n",
      "</div></td>\n",
      "<td><div class=\"wrap t_center\">\n",
      "<button class=\"button_icons video\" onclick=\"melon.link.goMvDetail('19030101', '30287019','song');\" title=\"뮤직비디오\" type=\"button\"><span class=\"none\">뮤직비디오</span></button>\n",
      "</div></td>\n",
      "</tr>\n"
     ]
    }
   ],
   "source": [
    "print(songs[0])"
   ]
  },
  {
   "cell_type": "code",
   "execution_count": 38,
   "metadata": {},
   "outputs": [],
   "source": [
    "song = songs[0]"
   ]
  },
  {
   "cell_type": "code",
   "execution_count": 39,
   "metadata": {},
   "outputs": [
    {
     "data": {
      "text/plain": [
       "6"
      ]
     },
     "execution_count": 39,
     "metadata": {},
     "output_type": "execute_result"
    }
   ],
   "source": [
    "title = song.select('a')\n",
    "len(title)"
   ]
  },
  {
   "cell_type": "code",
   "execution_count": 40,
   "metadata": {},
   "outputs": [
    {
     "data": {
      "text/plain": [
       "2"
      ]
     },
     "execution_count": 40,
     "metadata": {},
     "output_type": "execute_result"
    }
   ],
   "source": [
    "title = song.select('span > a')\n",
    "len(title)"
   ]
  },
  {
   "cell_type": "code",
   "execution_count": 41,
   "metadata": {},
   "outputs": [
    {
     "data": {
      "text/plain": [
       "1"
      ]
     },
     "execution_count": 41,
     "metadata": {},
     "output_type": "execute_result"
    }
   ],
   "source": [
    "title = song.select('div.ellipsis.rank01 > span > a')\n",
    "len(title)"
   ]
  },
  {
   "cell_type": "code",
   "execution_count": 42,
   "metadata": {},
   "outputs": [
    {
     "data": {
      "text/plain": [
       "\"롤린 (Rollin')\""
      ]
     },
     "execution_count": 42,
     "metadata": {},
     "output_type": "execute_result"
    }
   ],
   "source": [
    "title = song.select('div.ellipsis.rank01 > span >a')[0].text\n",
    "title"
   ]
  },
  {
   "cell_type": "code",
   "execution_count": 43,
   "metadata": {},
   "outputs": [
    {
     "data": {
      "text/plain": [
       "1"
      ]
     },
     "execution_count": 43,
     "metadata": {},
     "output_type": "execute_result"
    }
   ],
   "source": [
    "singer = song.select('div.ellipsis.rank02 > a')\n",
    "len(singer)"
   ]
  },
  {
   "cell_type": "code",
   "execution_count": 44,
   "metadata": {},
   "outputs": [
    {
     "data": {
      "text/plain": [
       "'브레이브걸스'"
      ]
     },
     "execution_count": 44,
     "metadata": {},
     "output_type": "execute_result"
    }
   ],
   "source": [
    "singer = song.select('div.ellipsis.rank02 > a')[0].text\n",
    "singer"
   ]
  },
  {
   "cell_type": "code",
   "execution_count": 45,
   "metadata": {},
   "outputs": [
    {
     "name": "stdout",
     "output_type": "stream",
     "text": [
      "롤린 (Rollin') | 브레이브걸스\n",
      "라일락 | 아이유\n",
      "Peaches (Feat. Daniel Caesar & Giveon) | Justin Bieber\n",
      "Celebrity | 아이유\n",
      "운전만해 (We Ride) | 브레이브걸스\n",
      "Timeless | SG 워너비\n",
      "라라라 | SG 워너비\n",
      "내사람 | SG 워너비\n",
      "Coin | 아이유\n",
      "내 손을 잡아 | 아이유\n",
      "Dynamite | 방탄소년단\n",
      "On The Ground | 로제 (ROSÉ)\n",
      "LOVE DAY (2021) (바른연애 길잡이 X 양요섭, 정은지) | 양요섭\n",
      "밝게 빛나는 별이 되어 비춰줄게 | 송이한\n",
      "밤하늘의 별을(2020) | 경서\n",
      "그냥 안아달란 말야 | 다비치\n",
      "살다가 | SG 워너비\n",
      "잠이 오질 않네요 | 장범준\n",
      "Blueming | 아이유\n",
      "에잇(Prod.&Feat. SUGA of BTS) | 아이유\n",
      "취기를 빌려 (취향저격 그녀 X 산들) | 산들\n",
      "VVS (Feat. JUSTHIS) (Prod. GroovyRoom) | 미란이 (Mirani)\n",
      "어푸 (Ah puh) | 아이유\n",
      "Lovesick Girls | BLACKPINK\n",
      "나랑 같이 걸을래 (바른연애 길잡이 X 적재) | 적재\n",
      "멜로디 | ASH ISLAND\n",
      "흔들리는 꽃들 속에서 네 샴푸향이 느껴진거야 | 장범준\n",
      "너의 발걸음에 빛을 비춰줄게 (Prod. 조영수) | 케이시 (Kassy)\n",
      "이 밤을 빌려 말해요 (바른연애 길잡이 X 10CM) | 10CM\n",
      "봄 안녕 봄 | 아이유\n",
      "12:45 (Stripped) | Etham\n",
      "그날에 나는 맘이 편했을까 | 이예준\n",
      "어떻게 이별까지 사랑하겠어, 널 사랑하는 거지 | AKMU (악동뮤지션)\n",
      "추억은 만남보다 이별에 남아 | 정동하\n",
      "오래된 노래 | 스탠딩 에그\n",
      "Savage Love (Laxed - Siren Beat) (BTS Remix) | Jawsh 685\n",
      "기다릴게 | 하동균\n",
      "아이와 나의 바다 | 아이유\n",
      "METEOR | 창모 (CHANGMO)\n",
      "Dolphin | 오마이걸 (OH MY GIRL)\n",
      "힘든 건 사랑이 아니다 | 임창정\n",
      "2002 | Anne-Marie\n",
      "Flu | 아이유\n",
      "모든 날, 모든 순간 (Every day, Every Moment) | 폴킴\n",
      "사실 나는 (Feat.전건호) | 경서예지\n",
      "사이렌 Remix (Feat. UNEDUCATED KID, Paul Blanco) | 호미들\n",
      "아로하 | 조정석\n",
      "봄날 | 방탄소년단\n",
      "어떻게 지내 (Prod. By VAN.C) | 오반 (OVAN)\n",
      "Life Goes On | 방탄소년단\n",
      "너의 번호를 누르고 (Prod. 영화처럼) | #안녕\n",
      "오늘도 빛나는 너에게 (To You My Light) (Feat.이라온) | 마크툽 (MAKTUB)\n",
      "작은 것들을 위한 시 (Boy With Luv) (Feat. Halsey) | 방탄소년단\n",
      "늦은 밤 너의 집 앞 골목길에서 | 노을\n",
      "How You Like That | BLACKPINK\n",
      "죄와벌 | SG 워너비\n",
      "돌림노래 (Feat. DEAN) | 아이유\n",
      "고백 (바른연애 길잡이 X 허각) | 허각\n",
      "Memories | Maroon 5\n",
      "내 마음이 움찔했던 순간 (취향저격 그녀 X 규현) | 규현 (KYUHYUN)\n",
      "마음을 드려요 | 아이유\n",
      "살짝 설렜어 (Nonstop) | 오마이걸 (OH MY GIRL)\n",
      "함께 했는데 이별은 나 혼자인 거야 | 소정 (레이디스 코드)\n",
      "이제 나만 믿어요 | 임영웅\n",
      "이렇게 좋아해 본 적이 없어요 | CHEEZE (치즈)\n",
      "Dance Monkey | Tones And I\n",
      "Love poem | 아이유\n",
      "Gone | 로제 (ROSÉ)\n",
      "When We Disco (Duet with 선미) | 박진영\n",
      "아리랑 | SG 워너비\n",
      "되풀이 | 임창정\n",
      "ASAP | STAYC(스테이씨)\n",
      "너를 만나 | 폴킴\n",
      "에필로그 | 아이유\n",
      "혼술하고 싶은 밤 | 벤\n",
      "시작 | 가호 (Gaho)\n",
      "내일이 오면 (Feat. 기리보이, BIG Naughty (서동현)) | 릴보이 (lIlBOI)\n",
      "우린 어쩌다 헤어진 걸까 | 허각\n",
      "우리 왜 헤어져야 해 | 신예영\n",
      "Paris In The Rain | Lauv\n",
      "서면역에서 | 순순희\n",
      "Don't Start Now | Dua Lipa\n",
      "안녕 | 폴킴\n",
      "거짓말이라도 해서 널 보고싶어 | 백지영\n",
      "Downtown Baby | 블루 (BLOO)\n",
      "그 한마디 (바른연애 길잡이 X 이하이) | 이하이\n",
      "I'm Not Cool | 현아\n",
      "Maniac | Conan Gray\n",
      "술 한잔 해요 | 경서 (경서예지)\n",
      "딩가딩가 (Dingga) | 마마무 (Mamamoo)\n",
      "안녕이란 (Two Letters) | 황치열\n",
      "마리아 (Maria) | 화사 (Hwa Sa)\n",
      "Don't Call Me | SHINee (샤이니)\n",
      "사랑은 지날수록 더욱 선명하게 남아 | 전상근\n",
      "서른 밤째 (바른연애 길잡이 X 윤하 (YOUNHA)) | 윤하 (YOUNHA)\n",
      "빈 컵 (Empty Cup) | 아이유\n",
      "Panorama | IZ*ONE (아이즈원)\n",
      "다시 만날까 봐 (Prod.V.O.S) | 이예준\n",
      "어떤X (What Type of X) | 제시 (Jessi)\n",
      "꼬리 (TAIL) | 선미\n"
     ]
    }
   ],
   "source": [
    "# 멜론 100위 노래순위 정보 검색.\n",
    "for song in songs:\n",
    "    title = song.select('div.ellipsis.rank01 > span >a')[0].text\n",
    "    singer = song.select('div.ellipsis.rank02 > span >a')[0].text\n",
    "    print(title, singer, sep =' | ')"
   ]
  },
  {
   "cell_type": "code",
   "execution_count": 46,
   "metadata": {
    "scrolled": true
   },
   "outputs": [
    {
     "name": "stdout",
     "output_type": "stream",
     "text": [
      "롤린 (Rollin') | 브레이브걸스\n",
      "라일락 | 아이유\n",
      "Peaches (Feat. Daniel Caesar & Giveon) | Justin Bieber\n",
      "Celebrity | 아이유\n",
      "운전만해 (We Ride) | 브레이브걸스\n",
      "Timeless | SG 워너비\n",
      "라라라 | SG 워너비\n",
      "내사람 | SG 워너비\n",
      "Coin | 아이유\n",
      "내 손을 잡아 | 아이유\n",
      "Dynamite | 방탄소년단\n",
      "On The Ground | 로제 (ROSÉ)\n",
      "LOVE DAY (2021) (바른연애 길잡이 X 양요섭, 정은지) | 양요섭\n",
      "밝게 빛나는 별이 되어 비춰줄게 | 송이한\n",
      "밤하늘의 별을(2020) | 경서\n",
      "그냥 안아달란 말야 | 다비치\n",
      "살다가 | SG 워너비\n",
      "잠이 오질 않네요 | 장범준\n",
      "Blueming | 아이유\n",
      "에잇(Prod.&Feat. SUGA of BTS) | 아이유\n",
      "취기를 빌려 (취향저격 그녀 X 산들) | 산들\n",
      "VVS (Feat. JUSTHIS) (Prod. GroovyRoom) | 미란이 (Mirani)\n",
      "어푸 (Ah puh) | 아이유\n",
      "Lovesick Girls | BLACKPINK\n",
      "나랑 같이 걸을래 (바른연애 길잡이 X 적재) | 적재\n",
      "멜로디 | ASH ISLAND\n",
      "흔들리는 꽃들 속에서 네 샴푸향이 느껴진거야 | 장범준\n",
      "너의 발걸음에 빛을 비춰줄게 (Prod. 조영수) | 케이시 (Kassy)\n",
      "이 밤을 빌려 말해요 (바른연애 길잡이 X 10CM) | 10CM\n",
      "봄 안녕 봄 | 아이유\n",
      "12:45 (Stripped) | Etham\n",
      "그날에 나는 맘이 편했을까 | 이예준\n",
      "어떻게 이별까지 사랑하겠어, 널 사랑하는 거지 | AKMU (악동뮤지션)\n",
      "추억은 만남보다 이별에 남아 | 정동하\n",
      "오래된 노래 | 스탠딩 에그\n",
      "Savage Love (Laxed - Siren Beat) (BTS Remix) | Jawsh 685\n",
      "기다릴게 | 하동균\n",
      "아이와 나의 바다 | 아이유\n",
      "METEOR | 창모 (CHANGMO)\n",
      "Dolphin | 오마이걸 (OH MY GIRL)\n",
      "힘든 건 사랑이 아니다 | 임창정\n",
      "2002 | Anne-Marie\n",
      "Flu | 아이유\n",
      "모든 날, 모든 순간 (Every day, Every Moment) | 폴킴\n",
      "사실 나는 (Feat.전건호) | 경서예지\n",
      "사이렌 Remix (Feat. UNEDUCATED KID, Paul Blanco) | 호미들\n",
      "아로하 | 조정석\n",
      "봄날 | 방탄소년단\n",
      "어떻게 지내 (Prod. By VAN.C) | 오반 (OVAN)\n",
      "Life Goes On | 방탄소년단\n",
      "너의 번호를 누르고 (Prod. 영화처럼) | #안녕\n",
      "오늘도 빛나는 너에게 (To You My Light) (Feat.이라온) | 마크툽 (MAKTUB)\n",
      "작은 것들을 위한 시 (Boy With Luv) (Feat. Halsey) | 방탄소년단\n",
      "늦은 밤 너의 집 앞 골목길에서 | 노을\n",
      "How You Like That | BLACKPINK\n",
      "죄와벌 | SG 워너비\n",
      "돌림노래 (Feat. DEAN) | 아이유\n",
      "고백 (바른연애 길잡이 X 허각) | 허각\n",
      "Memories | Maroon 5\n",
      "내 마음이 움찔했던 순간 (취향저격 그녀 X 규현) | 규현 (KYUHYUN)\n",
      "마음을 드려요 | 아이유\n",
      "살짝 설렜어 (Nonstop) | 오마이걸 (OH MY GIRL)\n",
      "함께 했는데 이별은 나 혼자인 거야 | 소정 (레이디스 코드)\n",
      "이제 나만 믿어요 | 임영웅\n",
      "이렇게 좋아해 본 적이 없어요 | CHEEZE (치즈)\n",
      "Dance Monkey | Tones And I\n",
      "Love poem | 아이유\n",
      "Gone | 로제 (ROSÉ)\n",
      "When We Disco (Duet with 선미) | 박진영\n",
      "아리랑 | SG 워너비\n",
      "되풀이 | 임창정\n",
      "ASAP | STAYC(스테이씨)\n",
      "너를 만나 | 폴킴\n",
      "에필로그 | 아이유\n",
      "혼술하고 싶은 밤 | 벤\n",
      "시작 | 가호 (Gaho)\n",
      "내일이 오면 (Feat. 기리보이, BIG Naughty (서동현)) | 릴보이 (lIlBOI)\n",
      "우린 어쩌다 헤어진 걸까 | 허각\n",
      "우리 왜 헤어져야 해 | 신예영\n",
      "Paris In The Rain | Lauv\n",
      "서면역에서 | 순순희\n",
      "Don't Start Now | Dua Lipa\n",
      "안녕 | 폴킴\n",
      "거짓말이라도 해서 널 보고싶어 | 백지영\n",
      "Downtown Baby | 블루 (BLOO)\n",
      "그 한마디 (바른연애 길잡이 X 이하이) | 이하이\n",
      "I'm Not Cool | 현아\n",
      "Maniac | Conan Gray\n",
      "술 한잔 해요 | 경서 (경서예지)\n",
      "딩가딩가 (Dingga) | 마마무 (Mamamoo)\n",
      "안녕이란 (Two Letters) | 황치열\n",
      "마리아 (Maria) | 화사 (Hwa Sa)\n",
      "Don't Call Me | SHINee (샤이니)\n",
      "사랑은 지날수록 더욱 선명하게 남아 | 전상근\n",
      "서른 밤째 (바른연애 길잡이 X 윤하 (YOUNHA)) | 윤하 (YOUNHA)\n",
      "빈 컵 (Empty Cup) | 아이유\n",
      "Panorama | IZ*ONE (아이즈원)\n",
      "다시 만날까 봐 (Prod.V.O.S) | 이예준\n",
      "어떤X (What Type of X) | 제시 (Jessi)\n",
      "꼬리 (TAIL) | 선미\n"
     ]
    }
   ],
   "source": [
    "driver = webdriver.Chrome('chromedriver.exe')\n",
    "\n",
    "url = 'http://www.melon.com/chart/index.htm'\n",
    "driver.get(url)\n",
    "\n",
    "# from bs4 import BeautifulSoup\n",
    "html = driver.page_source\n",
    "soup = BeautifulSoup(html, 'html.parser')\n",
    "\n",
    "songs = soup.select('tbody > tr')\n",
    "\n",
    "for song in songs:\n",
    "    title = song.select('div.ellipsis.rank01 > span >a')[0].text\n",
    "    singer = song.select('div.ellipsis.rank02 > span >a')[0].text\n",
    "    print(title, singer, sep =' | ')"
   ]
  },
  {
   "cell_type": "code",
   "execution_count": 47,
   "metadata": {},
   "outputs": [
    {
     "ename": "WebDriverException",
     "evalue": "Message: chrome not reachable\n  (Session info: chrome=90.0.4430.85)\n",
     "output_type": "error",
     "traceback": [
      "\u001b[1;31m---------------------------------------------------------------------------\u001b[0m",
      "\u001b[1;31mWebDriverException\u001b[0m                        Traceback (most recent call last)",
      "\u001b[1;32m<ipython-input-47-f9ffa39a9428>\u001b[0m in \u001b[0;36m<module>\u001b[1;34m\u001b[0m\n\u001b[0;32m      1\u001b[0m \u001b[0murl\u001b[0m \u001b[1;33m=\u001b[0m \u001b[1;34m'http://www.melon.com/chart/index.htm'\u001b[0m\u001b[1;33m\u001b[0m\u001b[1;33m\u001b[0m\u001b[0m\n\u001b[1;32m----> 2\u001b[1;33m \u001b[0mdriver\u001b[0m\u001b[1;33m.\u001b[0m\u001b[0mget\u001b[0m\u001b[1;33m(\u001b[0m\u001b[0murl\u001b[0m\u001b[1;33m)\u001b[0m\u001b[1;33m\u001b[0m\u001b[1;33m\u001b[0m\u001b[0m\n\u001b[0m\u001b[0;32m      3\u001b[0m \u001b[0msongs\u001b[0m \u001b[1;33m=\u001b[0m \u001b[0mdriver\u001b[0m\u001b[1;33m.\u001b[0m\u001b[0mfind_elements_by_css_selector\u001b[0m\u001b[1;33m(\u001b[0m\u001b[1;34m'tbody > tr'\u001b[0m\u001b[1;33m)\u001b[0m\u001b[1;33m\u001b[0m\u001b[1;33m\u001b[0m\u001b[0m\n\u001b[0;32m      4\u001b[0m \u001b[1;32mfor\u001b[0m \u001b[0msong\u001b[0m \u001b[1;32min\u001b[0m \u001b[0msongs\u001b[0m\u001b[1;33m:\u001b[0m\u001b[1;33m\u001b[0m\u001b[1;33m\u001b[0m\u001b[0m\n\u001b[0;32m      5\u001b[0m     \u001b[0mtitle\u001b[0m \u001b[1;33m=\u001b[0m \u001b[0msong\u001b[0m\u001b[1;33m.\u001b[0m\u001b[0mfind_elements_by_css_selector\u001b[0m\u001b[1;33m(\u001b[0m\u001b[1;34m'div.ellipsis.rank01 > span > a'\u001b[0m\u001b[1;33m)\u001b[0m\u001b[1;33m[\u001b[0m\u001b[1;36m0\u001b[0m\u001b[1;33m]\u001b[0m\u001b[1;33m.\u001b[0m\u001b[0mtext\u001b[0m\u001b[1;33m\u001b[0m\u001b[1;33m\u001b[0m\u001b[0m\n",
      "\u001b[1;32m~\\anaconda3\\lib\\site-packages\\selenium\\webdriver\\remote\\webdriver.py\u001b[0m in \u001b[0;36mget\u001b[1;34m(self, url)\u001b[0m\n\u001b[0;32m    331\u001b[0m         \u001b[0mLoads\u001b[0m \u001b[0ma\u001b[0m \u001b[0mweb\u001b[0m \u001b[0mpage\u001b[0m \u001b[1;32min\u001b[0m \u001b[0mthe\u001b[0m \u001b[0mcurrent\u001b[0m \u001b[0mbrowser\u001b[0m \u001b[0msession\u001b[0m\u001b[1;33m.\u001b[0m\u001b[1;33m\u001b[0m\u001b[1;33m\u001b[0m\u001b[0m\n\u001b[0;32m    332\u001b[0m         \"\"\"\n\u001b[1;32m--> 333\u001b[1;33m         \u001b[0mself\u001b[0m\u001b[1;33m.\u001b[0m\u001b[0mexecute\u001b[0m\u001b[1;33m(\u001b[0m\u001b[0mCommand\u001b[0m\u001b[1;33m.\u001b[0m\u001b[0mGET\u001b[0m\u001b[1;33m,\u001b[0m \u001b[1;33m{\u001b[0m\u001b[1;34m'url'\u001b[0m\u001b[1;33m:\u001b[0m \u001b[0murl\u001b[0m\u001b[1;33m}\u001b[0m\u001b[1;33m)\u001b[0m\u001b[1;33m\u001b[0m\u001b[1;33m\u001b[0m\u001b[0m\n\u001b[0m\u001b[0;32m    334\u001b[0m \u001b[1;33m\u001b[0m\u001b[0m\n\u001b[0;32m    335\u001b[0m     \u001b[1;33m@\u001b[0m\u001b[0mproperty\u001b[0m\u001b[1;33m\u001b[0m\u001b[1;33m\u001b[0m\u001b[0m\n",
      "\u001b[1;32m~\\anaconda3\\lib\\site-packages\\selenium\\webdriver\\remote\\webdriver.py\u001b[0m in \u001b[0;36mexecute\u001b[1;34m(self, driver_command, params)\u001b[0m\n\u001b[0;32m    319\u001b[0m         \u001b[0mresponse\u001b[0m \u001b[1;33m=\u001b[0m \u001b[0mself\u001b[0m\u001b[1;33m.\u001b[0m\u001b[0mcommand_executor\u001b[0m\u001b[1;33m.\u001b[0m\u001b[0mexecute\u001b[0m\u001b[1;33m(\u001b[0m\u001b[0mdriver_command\u001b[0m\u001b[1;33m,\u001b[0m \u001b[0mparams\u001b[0m\u001b[1;33m)\u001b[0m\u001b[1;33m\u001b[0m\u001b[1;33m\u001b[0m\u001b[0m\n\u001b[0;32m    320\u001b[0m         \u001b[1;32mif\u001b[0m \u001b[0mresponse\u001b[0m\u001b[1;33m:\u001b[0m\u001b[1;33m\u001b[0m\u001b[1;33m\u001b[0m\u001b[0m\n\u001b[1;32m--> 321\u001b[1;33m             \u001b[0mself\u001b[0m\u001b[1;33m.\u001b[0m\u001b[0merror_handler\u001b[0m\u001b[1;33m.\u001b[0m\u001b[0mcheck_response\u001b[0m\u001b[1;33m(\u001b[0m\u001b[0mresponse\u001b[0m\u001b[1;33m)\u001b[0m\u001b[1;33m\u001b[0m\u001b[1;33m\u001b[0m\u001b[0m\n\u001b[0m\u001b[0;32m    322\u001b[0m             response['value'] = self._unwrap_value(\n\u001b[0;32m    323\u001b[0m                 response.get('value', None))\n",
      "\u001b[1;32m~\\anaconda3\\lib\\site-packages\\selenium\\webdriver\\remote\\errorhandler.py\u001b[0m in \u001b[0;36mcheck_response\u001b[1;34m(self, response)\u001b[0m\n\u001b[0;32m    240\u001b[0m                 \u001b[0malert_text\u001b[0m \u001b[1;33m=\u001b[0m \u001b[0mvalue\u001b[0m\u001b[1;33m[\u001b[0m\u001b[1;34m'alert'\u001b[0m\u001b[1;33m]\u001b[0m\u001b[1;33m.\u001b[0m\u001b[0mget\u001b[0m\u001b[1;33m(\u001b[0m\u001b[1;34m'text'\u001b[0m\u001b[1;33m)\u001b[0m\u001b[1;33m\u001b[0m\u001b[1;33m\u001b[0m\u001b[0m\n\u001b[0;32m    241\u001b[0m             \u001b[1;32mraise\u001b[0m \u001b[0mexception_class\u001b[0m\u001b[1;33m(\u001b[0m\u001b[0mmessage\u001b[0m\u001b[1;33m,\u001b[0m \u001b[0mscreen\u001b[0m\u001b[1;33m,\u001b[0m \u001b[0mstacktrace\u001b[0m\u001b[1;33m,\u001b[0m \u001b[0malert_text\u001b[0m\u001b[1;33m)\u001b[0m\u001b[1;33m\u001b[0m\u001b[1;33m\u001b[0m\u001b[0m\n\u001b[1;32m--> 242\u001b[1;33m         \u001b[1;32mraise\u001b[0m \u001b[0mexception_class\u001b[0m\u001b[1;33m(\u001b[0m\u001b[0mmessage\u001b[0m\u001b[1;33m,\u001b[0m \u001b[0mscreen\u001b[0m\u001b[1;33m,\u001b[0m \u001b[0mstacktrace\u001b[0m\u001b[1;33m)\u001b[0m\u001b[1;33m\u001b[0m\u001b[1;33m\u001b[0m\u001b[0m\n\u001b[0m\u001b[0;32m    243\u001b[0m \u001b[1;33m\u001b[0m\u001b[0m\n\u001b[0;32m    244\u001b[0m     \u001b[1;32mdef\u001b[0m \u001b[0m_value_or_default\u001b[0m\u001b[1;33m(\u001b[0m\u001b[0mself\u001b[0m\u001b[1;33m,\u001b[0m \u001b[0mobj\u001b[0m\u001b[1;33m,\u001b[0m \u001b[0mkey\u001b[0m\u001b[1;33m,\u001b[0m \u001b[0mdefault\u001b[0m\u001b[1;33m)\u001b[0m\u001b[1;33m:\u001b[0m\u001b[1;33m\u001b[0m\u001b[1;33m\u001b[0m\u001b[0m\n",
      "\u001b[1;31mWebDriverException\u001b[0m: Message: chrome not reachable\n  (Session info: chrome=90.0.4430.85)\n"
     ]
    }
   ],
   "source": [
    "url = 'http://www.melon.com/chart/index.htm'\n",
    "driver.get(url)\n",
    "songs = driver.find_elements_by_css_selector('tbody > tr')\n",
    "for song in songs: \n",
    "    title = song.find_elements_by_css_selector('div.ellipsis.rank01 > span > a')[0].text\n",
    "    singer = song.find_elements_by_css_selector('div.ellipsis.rank02 > a')[0].text  \n",
    "    print(title, singer, sep = ' | ')"
   ]
  },
  {
   "cell_type": "markdown",
   "metadata": {},
   "source": [
    "# 여러 음원 서비스 순위 수집 및 정리\n",
    "- 멜론, 벅스, 지니에서 제공하는 인기차트 상위 곡 정보 크롤링\n",
    "- 크롤리한 결과를 엑셀로 저장\n",
    "- 각 음원 서비스 별로 저장한 엑셀 파일 통합\n",
    "- 총 250곡 정보 수집 후 엑셀 저장"
   ]
  },
  {
   "cell_type": "code",
   "execution_count": null,
   "metadata": {},
   "outputs": [],
   "source": [
    "song_data = []\n",
    "rank =1\n",
    "songs = soup.select('tbody > tr')\n",
    "for song in songs:\n",
    "    title = song.select('div.ellipsis.rank01 > span > a')[0].text\n",
    "    singer = song.select('div.ellipsis.rank02 > a')[0].text\n",
    "    song_data.append(['Melon', rank, title, singer])\n",
    "    rank = rank +1"
   ]
  },
  {
   "cell_type": "code",
   "execution_count": null,
   "metadata": {},
   "outputs": [],
   "source": [
    "song_data"
   ]
  },
  {
   "cell_type": "code",
   "execution_count": null,
   "metadata": {},
   "outputs": [],
   "source": [
    "import pandas as pd"
   ]
  },
  {
   "cell_type": "code",
   "execution_count": null,
   "metadata": {},
   "outputs": [],
   "source": [
    "columns = ['서비스', '순위', '타이틀', '가수']"
   ]
  },
  {
   "cell_type": "code",
   "execution_count": null,
   "metadata": {},
   "outputs": [],
   "source": [
    "pd_data = pd.DataFrame(song_data, columns=columns)\n",
    "pd_data.head()"
   ]
  },
  {
   "cell_type": "code",
   "execution_count": null,
   "metadata": {},
   "outputs": [],
   "source": [
    "pd_data.to_excel('melon20210413.xlsx', index=False)"
   ]
  },
  {
   "cell_type": "code",
   "execution_count": null,
   "metadata": {},
   "outputs": [],
   "source": [
    "url = 'https://music.bugs.co.kr/chart'\n",
    "driver.get(url)\n",
    "html = driver.page_source\n",
    "soup = BeautifulSoup(html, 'html.parser')"
   ]
  },
  {
   "cell_type": "code",
   "execution_count": null,
   "metadata": {},
   "outputs": [],
   "source": [
    "songs = soup.select('table.byChart>tbody>tr')\n",
    "print(len(songs))"
   ]
  },
  {
   "cell_type": "code",
   "execution_count": null,
   "metadata": {},
   "outputs": [],
   "source": [
    "song = songs[0]\n",
    "title = song.select('a')\n",
    "len(title)"
   ]
  },
  {
   "cell_type": "code",
   "execution_count": null,
   "metadata": {},
   "outputs": [],
   "source": [
    "title = song.select('p > a')\n",
    "len(title)"
   ]
  },
  {
   "cell_type": "code",
   "execution_count": null,
   "metadata": {},
   "outputs": [],
   "source": [
    "title = song.select('p.title > a')\n",
    "len(title)"
   ]
  },
  {
   "cell_type": "code",
   "execution_count": null,
   "metadata": {},
   "outputs": [],
   "source": [
    "title = song.select('p.artist > a')[0].text\n",
    "singer"
   ]
  },
  {
   "cell_type": "code",
   "execution_count": null,
   "metadata": {
    "scrolled": true
   },
   "outputs": [],
   "source": [
    "song_data = []\n",
    "rank =1\n",
    "songs = soup.select('table.byChart>tbody>tr')\n",
    "for song in songs:\n",
    "    title = song.select('p.title > a')[0].text\n",
    "    singer = song.select('p.artist > a')[0].text\n",
    "    song_data.append(['Bugs', rank, title, singer])\n",
    "    rank = rank +1 "
   ]
  },
  {
   "cell_type": "code",
   "execution_count": null,
   "metadata": {},
   "outputs": [],
   "source": [
    "song_data"
   ]
  },
  {
   "cell_type": "code",
   "execution_count": null,
   "metadata": {},
   "outputs": [],
   "source": [
    "pd_data = pd.DataFrame(song_data, columns = columns)\n",
    "pd_data.head()"
   ]
  },
  {
   "cell_type": "code",
   "execution_count": null,
   "metadata": {},
   "outputs": [],
   "source": [
    "pd_data.to_excel('bugs.xlsx', index=False)"
   ]
  },
  {
   "cell_type": "code",
   "execution_count": null,
   "metadata": {},
   "outputs": [],
   "source": [
    "url = 'https://www.genie.co.kr/chart/top200'\n",
    "driver.get(url)\n",
    "html = driver.page_source\n",
    "soup = BeautifulSoup(html, 'html.parser')"
   ]
  },
  {
   "cell_type": "code",
   "execution_count": null,
   "metadata": {},
   "outputs": [],
   "source": [
    "songs = soup.select('table.list-wrap>tbody')"
   ]
  },
  {
   "cell_type": "code",
   "execution_count": null,
   "metadata": {},
   "outputs": [],
   "source": [
    "song = songs[0]"
   ]
  },
  {
   "cell_type": "code",
   "execution_count": null,
   "metadata": {},
   "outputs": [],
   "source": [
    "# tbody > tr 은 50개\n",
    "title = song.select('a.title')\n",
    "print(len(title))"
   ]
  },
  {
   "cell_type": "code",
   "execution_count": null,
   "metadata": {},
   "outputs": [],
   "source": [
    "title = song.select('a.title')[0].text.strip()\n",
    "print(title)"
   ]
  },
  {
   "cell_type": "code",
   "execution_count": null,
   "metadata": {},
   "outputs": [],
   "source": [
    "singer = song.select('a.artist')\n",
    "len(singer)"
   ]
  },
  {
   "cell_type": "code",
   "execution_count": null,
   "metadata": {},
   "outputs": [],
   "source": [
    "song_data = []\n",
    "rank =1\n",
    "songs = soup.select('tbody >tr')\n",
    "for song in songs:\n",
    "    title = song.select('a.title')[0].text.strip()\n",
    "    singer = song.select('a.artist')[0].text\n",
    "    song_data.append(['Genie', rank, title, singer])\n",
    "    rank = rank + 1"
   ]
  },
  {
   "cell_type": "code",
   "execution_count": null,
   "metadata": {},
   "outputs": [],
   "source": [
    "song_data"
   ]
  },
  {
   "cell_type": "code",
   "execution_count": null,
   "metadata": {},
   "outputs": [],
   "source": [
    "pd.data = pd.DataFrame(song_data, columns=columns)\n",
    "pd_data.head()"
   ]
  },
  {
   "cell_type": "code",
   "execution_count": null,
   "metadata": {},
   "outputs": [],
   "source": [
    "pd_data.to_excel('genie.xls',index=False)"
   ]
  },
  {
   "cell_type": "markdown",
   "metadata": {},
   "source": [
    "# 유튜브 뮤직 통계\n",
    "- 노래 이름\n",
    "- 가수 이름"
   ]
  },
  {
   "cell_type": "code",
   "execution_count": null,
   "metadata": {},
   "outputs": [],
   "source": [
    "from selenium import webdriver\n",
    "def getSoup():\n",
    "    driver = webdriver.Chrome('chromedriver.exe')\n",
    "    url = 'https://www.youtube.com/playlist?list=PL4fGSI1pDJn6jXS_Tv_N9B8Z0HTRVJE0m'\n",
    "    driver.get(url)\n",
    "    html = driver.page_source\n",
    "    soup = BeautifulSoup(html, 'html.parser')\n",
    "    return soup"
   ]
  },
  {
   "cell_type": "code",
   "execution_count": null,
   "metadata": {},
   "outputs": [],
   "source": [
    "soup = getSoup()"
   ]
  },
  {
   "cell_type": "code",
   "execution_count": null,
   "metadata": {},
   "outputs": [],
   "source": [
    "songs = soup.select('#video-title')\n",
    "sing = soup.select('#text > a')"
   ]
  },
  {
   "cell_type": "code",
   "execution_count": null,
   "metadata": {},
   "outputs": [],
   "source": [
    "sing[0].text.strip()"
   ]
  },
  {
   "cell_type": "code",
   "execution_count": null,
   "metadata": {},
   "outputs": [],
   "source": [
    "songs[0].text.strip()"
   ]
  },
  {
   "cell_type": "code",
   "execution_count": null,
   "metadata": {},
   "outputs": [],
   "source": [
    "len(songs)"
   ]
  },
  {
   "cell_type": "code",
   "execution_count": null,
   "metadata": {},
   "outputs": [],
   "source": [
    "len(sing)"
   ]
  },
  {
   "cell_type": "code",
   "execution_count": null,
   "metadata": {},
   "outputs": [],
   "source": [
    "sing[0]"
   ]
  },
  {
   "cell_type": "code",
   "execution_count": null,
   "metadata": {},
   "outputs": [],
   "source": [
    "def return_music(songs,sing):\n",
    "    del sing[0]\n",
    "    song_data =[]\n",
    "    rank = 1\n",
    "    for i in range(len(songs)):\n",
    "        song = songs[i].text.strip()\n",
    "        singer = sing[i].text.strip()\n",
    "        song_data.append(['YouTube',rank,song,singer])\n",
    "        rank = rank+1\n",
    "    return song_data"
   ]
  },
  {
   "cell_type": "code",
   "execution_count": null,
   "metadata": {},
   "outputs": [],
   "source": [
    "df = return_music(songs,sing)\n",
    "df"
   ]
  },
  {
   "cell_type": "code",
   "execution_count": null,
   "metadata": {},
   "outputs": [],
   "source": [
    "columns = ['서비스','순위','타이틀','가수']"
   ]
  },
  {
   "cell_type": "code",
   "execution_count": null,
   "metadata": {},
   "outputs": [],
   "source": [
    "pd_data = pd.DataFrame(df, columns = columns)\n",
    "pd_data"
   ]
  }
 ],
 "metadata": {
  "kernelspec": {
   "display_name": "Python 3",
   "language": "python",
   "name": "python3"
  },
  "language_info": {
   "codemirror_mode": {
    "name": "ipython",
    "version": 3
   },
   "file_extension": ".py",
   "mimetype": "text/x-python",
   "name": "python",
   "nbconvert_exporter": "python",
   "pygments_lexer": "ipython3",
   "version": "3.8.5"
  }
 },
 "nbformat": 4,
 "nbformat_minor": 4
}
