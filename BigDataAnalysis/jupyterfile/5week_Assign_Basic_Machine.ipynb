{
 "cells": [
  {
   "cell_type": "code",
   "execution_count": 4,
   "metadata": {},
   "outputs": [
    {
     "ename": "SyntaxError",
     "evalue": "invalid syntax (<ipython-input-4-6f6cb972c337>, line 3)",
     "output_type": "error",
     "traceback": [
      "\u001b[1;36m  File \u001b[1;32m\"<ipython-input-4-6f6cb972c337>\"\u001b[1;36m, line \u001b[1;32m3\u001b[0m\n\u001b[1;33m    url = https://imap.incheon.go.kr/arcgis28/rest/services/opendata_zoning/LSMD_CONT_UI_UI/MapServer/0/query?outFields=*&where=1%3D1&f=geojson\u001b[0m\n\u001b[1;37m               ^\u001b[0m\n\u001b[1;31mSyntaxError\u001b[0m\u001b[1;31m:\u001b[0m invalid syntax\n"
     ]
    }
   ],
   "source": [
    "import urllib.request\n",
    "#-*- coding:utf-8 -*-\n",
    "https://icloud.incheon.go.kr/arcgis/apps/sites/#/opendatahub/datasets/d8b921965a2b42c18c2b8088fe6d1c65\n",
    "response = urlib.request.urlopen(url)\n",
    "json_str = response.read().decode(\"utf-8\")\n"
   ]
  }
 ],
 "metadata": {
  "kernelspec": {
   "display_name": "Python 3",
   "language": "python",
   "name": "python3"
  },
  "language_info": {
   "codemirror_mode": {
    "name": "ipython",
    "version": 3
   },
   "file_extension": ".py",
   "mimetype": "text/x-python",
   "name": "python",
   "nbconvert_exporter": "python",
   "pygments_lexer": "ipython3",
   "version": "3.8.5"
  }
 },
 "nbformat": 4,
 "nbformat_minor": 4
}
