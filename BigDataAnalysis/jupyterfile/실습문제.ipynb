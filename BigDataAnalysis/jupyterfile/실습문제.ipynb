{
 "cells": [
  {
   "cell_type": "code",
   "execution_count": 29,
   "metadata": {},
   "outputs": [
    {
     "name": "stdout",
     "output_type": "stream",
     "text": [
      "숫자 입력 : 8\n",
      "숫자 입력 : 4\n",
      "no1*no2 :  32\n",
      "no1/no2 :  2.0\n",
      "no1 - no2 :  4\n",
      "no1%no2 :  0\n",
      "no1+no2 :  12\n",
      "숫자 입력 : 32767\n",
      "숫자 입력 : -32768\n",
      "no1*no2 :  -1073709056\n",
      "no1/no2 :  -0.999969482421875\n",
      "no1 - no2 :  65535\n",
      "no1%no2 :  -1\n",
      "no1+no2 :  -1\n",
      "숫자 입력 : 1234567890\n",
      "숫자 입력 : 0\n",
      "no1*no2 :  0\n",
      "no2는0입니다.\n",
      "no1 - no2 :  1234567890\n",
      "no2는 0입니다.\n",
      "no1+no2 :  1234567890\n"
     ]
    }
   ],
   "source": [
    "no1 =1\n",
    "no2 =1\n",
    "while True:\n",
    "    if no1==0 or no2==0:\n",
    "        break\n",
    "    no1 = input(\"숫자 입력 : \")\n",
    "    no2 = input(\"숫자 입력 : \")\n",
    "    no1=int(no1)\n",
    "    no2=int(no2)\n",
    "    print(\"no1*no2 : \",no1*no2)\n",
    "    if no2==0:\n",
    "        print(\"no2는0입니다.\")       \n",
    "    elif no2!=0:\n",
    "        print(\"no1/no2 : \",no1/no2)\n",
    "    print(\"no1 - no2 : \",no1-no2)\n",
    "    if no2==0:\n",
    "        print(\"no2는 0입니다.\")\n",
    "    elif no2!=0:\n",
    "        print(\"no1%no2 : \",no1%no2)\n",
    "    print(\"no1+no2 : \",no1+no2)"
   ]
  }
 ],
 "metadata": {
  "kernelspec": {
   "display_name": "Python 3",
   "language": "python",
   "name": "python3"
  },
  "language_info": {
   "codemirror_mode": {
    "name": "ipython",
    "version": 3
   },
   "file_extension": ".py",
   "mimetype": "text/x-python",
   "name": "python",
   "nbconvert_exporter": "python",
   "pygments_lexer": "ipython3",
   "version": "3.8.5"
  }
 },
 "nbformat": 4,
 "nbformat_minor": 4
}
