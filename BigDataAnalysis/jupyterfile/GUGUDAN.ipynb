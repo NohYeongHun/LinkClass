{
 "cells": [
  {
   "cell_type": "code",
   "execution_count": 5,
   "metadata": {},
   "outputs": [
    {
     "name": "stdout",
     "output_type": "stream",
     "text": [
      "print('구구단 몇 단을 계산할까요?')\n",
      "\n",
      "dan = input()\n",
      "\n",
      "print('구구단', dan, '단을 계산한다.')\n",
      "\n",
      "intdan = int(dan)\n",
      "\n",
      "for i in range(1,10):\n",
      "\n",
      "result = intdan*i\n",
      "\n",
      "print('%s * %d = %d\\n' % (dan, i, result))\n"
     ]
    }
   ],
   "source": [
    "f = open('gugu.txt','r',encoding='EUC-KR')\n",
    "while True:\n",
    "    line = f.readline()\n",
    "    if not line:\n",
    "        break\n",
    "    print(line)\n",
    "f.close()"
   ]
  }
 ],
 "metadata": {
  "kernelspec": {
   "display_name": "Python 3",
   "language": "python",
   "name": "python3"
  },
  "language_info": {
   "codemirror_mode": {
    "name": "ipython",
    "version": 3
   },
   "file_extension": ".py",
   "mimetype": "text/x-python",
   "name": "python",
   "nbconvert_exporter": "python",
   "pygments_lexer": "ipython3",
   "version": "3.8.5"
  }
 },
 "nbformat": 4,
 "nbformat_minor": 4
}
