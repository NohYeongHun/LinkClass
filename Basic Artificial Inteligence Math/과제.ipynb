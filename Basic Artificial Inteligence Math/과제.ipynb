{
 "cells": [
  {
   "cell_type": "code",
   "execution_count": 36,
   "metadata": {},
   "outputs": [
    {
     "name": "stdout",
     "output_type": "stream",
     "text": [
      "O->Q =  (2, 3)\n",
      "P1->Q1 =  (2, 3)\n",
      "P2->Q2 =  (2, 3)\n"
     ]
    }
   ],
   "source": [
    "#1번 문제\n",
    "P1=vector([0,-4])\n",
    "P2=vector([-3,1])\n",
    "Q=vector([2,3])\n",
    "Q1=vector([2,-1])\n",
    "Q2=vector([-1,4])\n",
    "print(\"O->Q = \",Q-0)\n",
    "print(\"P1->Q1 = \",Q1-P1)\n",
    "print(\"P2->Q2 = \",Q2-P2)"
   ]
  },
  {
   "cell_type": "code",
   "execution_count": 37,
   "metadata": {},
   "outputs": [
    {
     "name": "stdout",
     "output_type": "stream",
     "text": [
      "x+y =  (-1, 6, 0) 3x-4y =  (11, -10, 21)\n"
     ]
    }
   ],
   "source": [
    "#2번 문제\n",
    "x=vector([1,2,3])\n",
    "y=vector([-2,4,-3])\n",
    "print(\"x+y = \",x+y,\"3x-4y = \",3*x-4*y)"
   ]
  },
  {
   "cell_type": "code",
   "execution_count": 30,
   "metadata": {},
   "outputs": [
    {
     "name": "stdout",
     "output_type": "stream",
     "text": [
      "a(2,-1,2)의 단위벡터 =  (2/3, -1/3, 2/3)\n"
     ]
    }
   ],
   "source": [
    "# 3번 문제\n",
    "# 단위벡터 구하기 단위 벡터는 현재 벡터의 길이를 구한 후, 각 인자에 나누면 된다. \n",
    "# 일반 벡터를 단위 벡터로 만드는 과정을 정규화라고도 한다.\n",
    "a=vector([2,-1,2])\n",
    "print(\"a(2,-1,2)의 단위벡터 = \",a/norm(a))"
   ]
  },
  {
   "cell_type": "code",
   "execution_count": 33,
   "metadata": {},
   "outputs": [
    {
     "name": "stdout",
     "output_type": "stream",
     "text": [
      "3x-5y+10z =  (66, 22, -26, -70)\n"
     ]
    }
   ],
   "source": [
    "# 4번문제\n",
    "# 일차결합 : 벡터공간을 정의하는 연산인 덧셈과 스칼라곱을 동시에 사용하여 만든\n",
    "# 벡터들의 결합.\n",
    "x=vector([2,-1,-2,5])\n",
    "y=vector([-2,1,-4,7])\n",
    "z=vector([5,3,-4,-5])\n",
    "print(\"3x-5y+10z = \",3*x-5*y+10*z)"
   ]
  },
  {
   "cell_type": "code",
   "execution_count": 35,
   "metadata": {},
   "outputs": [
    {
     "data": {
      "text/plain": [
       "2*sqrt(7)"
      ]
     },
     "execution_count": 35,
     "metadata": {},
     "output_type": "execute_result"
    }
   ],
   "source": [
    "# 5번문제\n",
    "# 두 벡터사이의 거리를 구하자\n",
    "x=vector([2,-1,-2,5])\n",
    "y=vector([-2,1,-4,7])\n",
    "norm(y-x)"
   ]
  }
 ],
 "metadata": {
  "kernelspec": {
   "display_name": "SageMath 9.2",
   "language": "sage",
   "name": "sagemath"
  },
  "language_info": {
   "codemirror_mode": {
    "name": "ipython",
    "version": 3
   },
   "file_extension": ".py",
   "mimetype": "text/x-python",
   "name": "python",
   "nbconvert_exporter": "python",
   "pygments_lexer": "ipython3",
   "version": "3.7.7"
  }
 },
 "nbformat": 4,
 "nbformat_minor": 4
}
