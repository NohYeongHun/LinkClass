{
 "cells": [
  {
   "cell_type": "code",
   "execution_count": 1,
   "metadata": {},
   "outputs": [
    {
     "name": "stdout",
     "output_type": "stream",
     "text": [
      "A 행렬 = \n",
      " [ 1  0  1  3  5]\n",
      "[-1  3  0  7  2]\n",
      "[ 1  0  2  1  8]\n",
      "[ 2 -4  0  0  3]\n",
      "[-8  9  2  5  4]\n",
      "4-1. A의 행렬식 def(A)를 구하여라. = \n",
      " -133\n",
      "4-2. [A|I(5)]의 RREF를 구하여라 = \n",
      " [       1        0        0        0        0  -18/133   23/133      2/7  -48/133  -29/133]\n",
      "[       0        1        0        0        0   -30/19    13/19        1    -4/19    -4/19]\n",
      "[       0        0        1        0        0  999/133 -412/133    -27/7 -129/133   80/133]\n",
      "[       0        0        0        1        0  164/133  -47/133     -5/7   -6/133   13/133]\n",
      "[       0        0        0        0        1 -268/133  106/133      8/7   39/133  -18/133]\n",
      "4-3. A의 역행렬 A^(-1)을 구하여라 = \n",
      " [ -18/133   23/133      2/7  -48/133  -29/133]\n",
      "[  -30/19    13/19        1    -4/19    -4/19]\n",
      "[ 999/133 -412/133    -27/7 -129/133   80/133]\n",
      "[ 164/133  -47/133     -5/7   -6/133   13/133]\n",
      "[-268/133  106/133      8/7   39/133  -18/133]\n",
      "4-4. 선형연립방정식 Ax = b의 해 x를 구하여라 =  (381/133, 103/19, -1794/133, -368/133, 530/133)\n"
     ]
    }
   ],
   "source": [
    "# 4-1. A의 행렬식 def(A)를 구하여라.\n",
    "A = matrix(5,5,[1,0,1,3,5,-1,3,0,7,2,1,0,2,1,8,2,-4,0,0,3,-8,9,2,5,4])\n",
    "print(\"A 행렬 = \\n\",A)\n",
    "print(\"4-1. A의 행렬식 def(A)를 구하여라. = \\n\",A.det())\n",
    "print(\"4-2. [A|I(5)]의 RREF를 구하여라 = \\n\", A.augment(identity_matrix(5)).rref())\n",
    "print(\"4-3. A의 역행렬 A^(-1)을 구하여라 = \\n\", A.inverse())\n",
    "b = vector([1,2,5,-4,1])\n",
    "# x = A^-1*b\n",
    "print(\"4-4. 선형연립방정식 Ax = b의 해 x를 구하여라 = \", A.inverse()*b)"
   ]
  }
 ],
 "metadata": {
  "kernelspec": {
   "display_name": "SageMath 9.2",
   "language": "sage",
   "name": "sagemath"
  },
  "language_info": {
   "codemirror_mode": {
    "name": "ipython",
    "version": 3
   },
   "file_extension": ".py",
   "mimetype": "text/x-python",
   "name": "python",
   "nbconvert_exporter": "python",
   "pygments_lexer": "ipython3",
   "version": "3.7.7"
  }
 },
 "nbformat": 4,
 "nbformat_minor": 4
}
