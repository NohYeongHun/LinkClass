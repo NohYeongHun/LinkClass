{
 "cells": [
  {
   "cell_type": "code",
   "execution_count": 1,
   "metadata": {},
   "outputs": [
    {
     "name": "stdout",
     "output_type": "stream",
     "text": [
      "Assignment\n",
      "A=\n",
      " [ 0 10 -4  1]\n",
      "[ 1  4 -1  1]\n",
      "[ 3  2  1  2]\n",
      "[-2 -8  2 -2]\n",
      "[ 1 -6  3  0]\n",
      "augment of A=\n",
      " [ 0 10 -4  1| 1]\n",
      "[ 1  4 -1  1| 2]\n",
      "[ 3  2  1  2| 5]\n",
      "[-2 -8  2 -2|-4]\n",
      "[ 1 -6  3  0| 1]\n",
      "rref of augment of A=\n",
      " [   1    0  3/5  3/5| 8/5]\n",
      "[   0    1 -2/5 1/10|1/10]\n",
      "[   0    0    0    0|   0]\n",
      "[   0    0    0    0|   0]\n",
      "[   0    0    0    0|   0]\n",
      "비동차연립방정식의 해 열벡터로 표현 = \n",
      " (8/5, 1/10, 0, 0, 0)\n"
     ]
    }
   ],
   "source": [
    "# Assignment 비동차연립방정식 Ax=b(b!=0)인경우\n",
    "print(\"Assignment\")\n",
    "A=matrix(5,4,[0,10,-4,1,1,4,-1,1,3,2,1,2,-2,-8,2,-2,1,-6,3,0])\n",
    "b=vector([1,2,5,-4,1])\n",
    "print(\"A=\\n\",A)\n",
    "print(\"augment of A=\\n\",A.augment(b,subdivide=True))\n",
    "print(\"rref of augment of A=\\n\",A.augment(b,subdivide=True).rref())\n",
    "T= A.augment(b,subdivide=True).rref()\n",
    "# 열 벡터\n",
    "x =vector(T[[0,1,2,3,4],[4]])\n",
    "print(\"비동차연립방정식의 해 열벡터로 표현 = \\n\",x)"
   ]
  }
 ],
 "metadata": {
  "kernelspec": {
   "display_name": "SageMath 9.2",
   "language": "sage",
   "name": "sagemath"
  },
  "language_info": {
   "codemirror_mode": {
    "name": "ipython",
    "version": 3
   },
   "file_extension": ".py",
   "mimetype": "text/x-python",
   "name": "python",
   "nbconvert_exporter": "python",
   "pygments_lexer": "ipython3",
   "version": "3.7.7"
  }
 },
 "nbformat": 4,
 "nbformat_minor": 4
}
