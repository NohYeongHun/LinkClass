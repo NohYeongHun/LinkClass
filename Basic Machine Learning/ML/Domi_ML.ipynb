{
  "nbformat": 4,
  "nbformat_minor": 0,
  "metadata": {
    "colab": {
      "name": "Domi_ML.ipynb",
      "provenance": [],
      "collapsed_sections": []
    },
    "kernelspec": {
      "name": "python3",
      "display_name": "Python 3"
    },
    "language_info": {
      "name": "python"
    }
  },
  "cells": [
    {
      "cell_type": "code",
      "metadata": {
        "id": "cw3rUHDjwcPh"
      },
      "source": [
        "# 도미의 데이터\n",
        "bream_length = [25.4, 26.3, 26.5, 29.0, 29.0, 29.7, 29.7, 30.0, 30.0, 30.7, 31.0, 31.0, 31.5, 32.0, 32.0, 32.0, 33.0, 33.0, 33.5, 33.5, 34.0, 34.0, 34.5, 35.0, 35.0, 35.0, 35.0, 36.0, 36.0, 37.0, 38.5, 38.5, 39.5, 41.0, 41.0]\n",
        "bream_weight = [242.0, 290.0, 340.0, 363.0, 430.0, 450.0, 500.0, 390.0, 450.0, 500.0, 475.0, 500.0, 500.0, 340.0, 600.0, 600.0, 700.0, 700.0, 610.0, 650.0, 575.0, 685.0, 620.0, 680.0, 700.0, 725.0, 720.0, 714.0, 850.0, 1000.0, 920.0, 955.0, 925.0, 975.0, 950.0]\n",
        "\n",
        "# 빙어의 데이터\n",
        "smelt_length = [9.8, 10.5, 10.6, 11.0, 11.2, 11.3, 11.8, 11.8, 12.0, 12.2, 12.4, 13.0, 14.3, 15.0]\n",
        "smelt_weight = [6.7, 7.5, 7.0, 9.7, 9.8, 8.7, 10.0, 9.9, 9.8, 12.2, 13.4, 12.2, 19.7, 19.9]"
      ],
      "execution_count": 4,
      "outputs": []
    },
    {
      "cell_type": "code",
      "metadata": {
        "colab": {
          "base_uri": "https://localhost:8080/",
          "height": 279
        },
        "id": "kTCI23USp2c3",
        "outputId": "9b910bda-5a78-4984-d178-59925a320849"
      },
      "source": [
        "import matplotlib.pyplot as plt\n",
        "plt.scatter(bream_length, bream_weight)\n",
        "plt.scatter(smelt_length, smelt_weight)\n",
        "plt.xlabel('length')\n",
        "plt.ylabel('weight')\n",
        "plt.show()\n"
      ],
      "execution_count": 9,
      "outputs": [
        {
          "output_type": "display_data",
          "data": {
            "image/png": "[encoded data removed]",
            "text/plain": [
              "<Figure size 432x288 with 1 Axes>"
            ]
          },
          "metadata": {
            "tags": [],
            "needs_background": "light"
          }
        }
      ]
    },
    {
      "cell_type": "code",
      "metadata": {
        "id": "wSofNrDyyr6E"
      },
      "source": [
        "import pandas as pd\n",
        "import numpy as np"
      ],
      "execution_count": 10,
      "outputs": []
    },
    {
      "cell_type": "code",
      "metadata": {
        "colab": {
          "base_uri": "https://localhost:8080/"
        },
        "id": "BjVaAYaDwnzq",
        "outputId": "be20ce1f-c973-4561-dbae-aee285b90f5c"
      },
      "source": [
        "# 일반적인 상황.\n",
        "length = bream_length+smelt_length\n",
        "weight = bream_weight+smelt_weight\n",
        "fish_data = []\n",
        "for i in zip(length,weight):\n",
        "  fish_data.append(list(i))\n",
        "print(fish_data)\n"
      ],
      "execution_count": 16,
      "outputs": [
        {
          "output_type": "stream",
          "text": [
            "[[25.4, 242.0], [26.3, 290.0], [26.5, 340.0], [29.0, 363.0], [29.0, 430.0], [29.7, 450.0], [29.7, 500.0], [30.0, 390.0], [30.0, 450.0], [30.7, 500.0], [31.0, 475.0], [31.0, 500.0], [31.5, 500.0], [32.0, 340.0], [32.0, 600.0], [32.0, 600.0], [33.0, 700.0], [33.0, 700.0], [33.5, 610.0], [33.5, 650.0], [34.0, 575.0], [34.0, 685.0], [34.5, 620.0], [35.0, 680.0], [35.0, 700.0], [35.0, 725.0], [35.0, 720.0], [36.0, 714.0], [36.0, 850.0], [37.0, 1000.0], [38.5, 920.0], [38.5, 955.0], [39.5, 925.0], [41.0, 975.0], [41.0, 950.0], [9.8, 6.7], [10.5, 7.5], [10.6, 7.0], [11.0, 9.7], [11.2, 9.8], [11.3, 8.7], [11.8, 10.0], [11.8, 9.9], [12.0, 9.8], [12.2, 12.2], [12.4, 13.4], [13.0, 12.2], [14.3, 19.7], [15.0, 19.9]]\n"
          ],
          "name": "stdout"
        }
      ]
    },
    {
      "cell_type": "code",
      "metadata": {
        "colab": {
          "base_uri": "https://localhost:8080/"
        },
        "id": "QpUSloaezbu1",
        "outputId": "135d2fcb-7c25-43ba-c586-fa0668d4c7e0"
      },
      "source": [
        "# List Comprehension\n",
        "length = bream_length+smelt_length\n",
        "weight = bream_weight+smelt_weight\n",
        "fish_data = []\n",
        "fish_data = [[l, w] for l, w in zip(length,weight)]\n",
        "fish_data"
      ],
      "execution_count": 19,
      "outputs": [
        {
          "output_type": "execute_result",
          "data": {
            "text/plain": [
              "[[25.4, 242.0],\n",
              " [26.3, 290.0],\n",
              " [26.5, 340.0],\n",
              " [29.0, 363.0],\n",
              " [29.0, 430.0],\n",
              " [29.7, 450.0],\n",
              " [29.7, 500.0],\n",
              " [30.0, 390.0],\n",
              " [30.0, 450.0],\n",
              " [30.7, 500.0],\n",
              " [31.0, 475.0],\n",
              " [31.0, 500.0],\n",
              " [31.5, 500.0],\n",
              " [32.0, 340.0],\n",
              " [32.0, 600.0],\n",
              " [32.0, 600.0],\n",
              " [33.0, 700.0],\n",
              " [33.0, 700.0],\n",
              " [33.5, 610.0],\n",
              " [33.5, 650.0],\n",
              " [34.0, 575.0],\n",
              " [34.0, 685.0],\n",
              " [34.5, 620.0],\n",
              " [35.0, 680.0],\n",
              " [35.0, 700.0],\n",
              " [35.0, 725.0],\n",
              " [35.0, 720.0],\n",
              " [36.0, 714.0],\n",
              " [36.0, 850.0],\n",
              " [37.0, 1000.0],\n",
              " [38.5, 920.0],\n",
              " [38.5, 955.0],\n",
              " [39.5, 925.0],\n",
              " [41.0, 975.0],\n",
              " [41.0, 950.0],\n",
              " [9.8, 6.7],\n",
              " [10.5, 7.5],\n",
              " [10.6, 7.0],\n",
              " [11.0, 9.7],\n",
              " [11.2, 9.8],\n",
              " [11.3, 8.7],\n",
              " [11.8, 10.0],\n",
              " [11.8, 9.9],\n",
              " [12.0, 9.8],\n",
              " [12.2, 12.2],\n",
              " [12.4, 13.4],\n",
              " [13.0, 12.2],\n",
              " [14.3, 19.7],\n",
              " [15.0, 19.9]]"
            ]
          },
          "metadata": {
            "tags": []
          },
          "execution_count": 19
        }
      ]
    },
    {
      "cell_type": "code",
      "metadata": {
        "colab": {
          "base_uri": "https://localhost:8080/"
        },
        "id": "qhf4JHFA0XUo",
        "outputId": "c15f8cf5-0276-4b2b-e47b-729b1e08bf02"
      },
      "source": [
        "# numpy 라이브러리 이용\n",
        "fish_data = np.column_stack((length, weight))\n",
        "fish_data"
      ],
      "execution_count": 21,
      "outputs": [
        {
          "output_type": "execute_result",
          "data": {
            "text/plain": [
              "array([[  25.4,  242. ],\n",
              "       [  26.3,  290. ],\n",
              "       [  26.5,  340. ],\n",
              "       [  29. ,  363. ],\n",
              "       [  29. ,  430. ],\n",
              "       [  29.7,  450. ],\n",
              "       [  29.7,  500. ],\n",
              "       [  30. ,  390. ],\n",
              "       [  30. ,  450. ],\n",
              "       [  30.7,  500. ],\n",
              "       [  31. ,  475. ],\n",
              "       [  31. ,  500. ],\n",
              "       [  31.5,  500. ],\n",
              "       [  32. ,  340. ],\n",
              "       [  32. ,  600. ],\n",
              "       [  32. ,  600. ],\n",
              "       [  33. ,  700. ],\n",
              "       [  33. ,  700. ],\n",
              "       [  33.5,  610. ],\n",
              "       [  33.5,  650. ],\n",
              "       [  34. ,  575. ],\n",
              "       [  34. ,  685. ],\n",
              "       [  34.5,  620. ],\n",
              "       [  35. ,  680. ],\n",
              "       [  35. ,  700. ],\n",
              "       [  35. ,  725. ],\n",
              "       [  35. ,  720. ],\n",
              "       [  36. ,  714. ],\n",
              "       [  36. ,  850. ],\n",
              "       [  37. , 1000. ],\n",
              "       [  38.5,  920. ],\n",
              "       [  38.5,  955. ],\n",
              "       [  39.5,  925. ],\n",
              "       [  41. ,  975. ],\n",
              "       [  41. ,  950. ],\n",
              "       [   9.8,    6.7],\n",
              "       [  10.5,    7.5],\n",
              "       [  10.6,    7. ],\n",
              "       [  11. ,    9.7],\n",
              "       [  11.2,    9.8],\n",
              "       [  11.3,    8.7],\n",
              "       [  11.8,   10. ],\n",
              "       [  11.8,    9.9],\n",
              "       [  12. ,    9.8],\n",
              "       [  12.2,   12.2],\n",
              "       [  12.4,   13.4],\n",
              "       [  13. ,   12.2],\n",
              "       [  14.3,   19.7],\n",
              "       [  15. ,   19.9]])"
            ]
          },
          "metadata": {
            "tags": []
          },
          "execution_count": 21
        }
      ]
    },
    {
      "cell_type": "code",
      "metadata": {
        "colab": {
          "base_uri": "https://localhost:8080/"
        },
        "id": "jpt8Do5s1GZb",
        "outputId": "95d4a698-e60d-4261-bed1-dbdb5c757fb9"
      },
      "source": [
        "fish_target = [1]*35 +[0]*14\n",
        "fish_target"
      ],
      "execution_count": 23,
      "outputs": [
        {
          "output_type": "execute_result",
          "data": {
            "text/plain": [
              "[1,\n",
              " 1,\n",
              " 1,\n",
              " 1,\n",
              " 1,\n",
              " 1,\n",
              " 1,\n",
              " 1,\n",
              " 1,\n",
              " 1,\n",
              " 1,\n",
              " 1,\n",
              " 1,\n",
              " 1,\n",
              " 1,\n",
              " 1,\n",
              " 1,\n",
              " 1,\n",
              " 1,\n",
              " 1,\n",
              " 1,\n",
              " 1,\n",
              " 1,\n",
              " 1,\n",
              " 1,\n",
              " 1,\n",
              " 1,\n",
              " 1,\n",
              " 1,\n",
              " 1,\n",
              " 1,\n",
              " 1,\n",
              " 1,\n",
              " 1,\n",
              " 1,\n",
              " 0,\n",
              " 0,\n",
              " 0,\n",
              " 0,\n",
              " 0,\n",
              " 0,\n",
              " 0,\n",
              " 0,\n",
              " 0,\n",
              " 0,\n",
              " 0,\n",
              " 0,\n",
              " 0,\n",
              " 0]"
            ]
          },
          "metadata": {
            "tags": []
          },
          "execution_count": 23
        }
      ]
    },
    {
      "cell_type": "code",
      "metadata": {
        "colab": {
          "base_uri": "https://localhost:8080/"
        },
        "id": "hVeUu_Vs1Z9s",
        "outputId": "76ae548f-9877-4639-ff19-da91c9e1da11"
      },
      "source": [
        "from sklearn.neighbors import KNeighborsClassifier\n",
        "kn = KNeighborsClassifier() # 클래스 객체 생성, 모델 생성\n",
        "kn.fit(fish_data, fish_target) # 훈련\n",
        "kn.score(fish_data, fish_target) # 평가 => 정확도(accuracy) 1.0 도미 / 빙어 분류 100%"
      ],
      "execution_count": 24,
      "outputs": [
        {
          "output_type": "execute_result",
          "data": {
            "text/plain": [
              "1.0"
            ]
          },
          "metadata": {
            "tags": []
          },
          "execution_count": 24
        }
      ]
    },
    {
      "cell_type": "code",
      "metadata": {
        "colab": {
          "base_uri": "https://localhost:8080/"
        },
        "id": "S2DDZUXK3_ce",
        "outputId": "11be2dd5-d82b-4ff7-a4e5-140c482c28b5"
      },
      "source": [
        "kn.predict([[30, 600]])"
      ],
      "execution_count": 27,
      "outputs": [
        {
          "output_type": "execute_result",
          "data": {
            "text/plain": [
              "array([1])"
            ]
          },
          "metadata": {
            "tags": []
          },
          "execution_count": 27
        }
      ]
    },
    {
      "cell_type": "code",
      "metadata": {
        "colab": {
          "base_uri": "https://localhost:8080/"
        },
        "id": "XJlL3PEF4wde",
        "outputId": "f9b299ed-294f-4034-a49b-a854b6029bd7"
      },
      "source": [
        "print(kn._fit_X)"
      ],
      "execution_count": 29,
      "outputs": [
        {
          "output_type": "stream",
          "text": [
            "[[  25.4  242. ]\n",
            " [  26.3  290. ]\n",
            " [  26.5  340. ]\n",
            " [  29.   363. ]\n",
            " [  29.   430. ]\n",
            " [  29.7  450. ]\n",
            " [  29.7  500. ]\n",
            " [  30.   390. ]\n",
            " [  30.   450. ]\n",
            " [  30.7  500. ]\n",
            " [  31.   475. ]\n",
            " [  31.   500. ]\n",
            " [  31.5  500. ]\n",
            " [  32.   340. ]\n",
            " [  32.   600. ]\n",
            " [  32.   600. ]\n",
            " [  33.   700. ]\n",
            " [  33.   700. ]\n",
            " [  33.5  610. ]\n",
            " [  33.5  650. ]\n",
            " [  34.   575. ]\n",
            " [  34.   685. ]\n",
            " [  34.5  620. ]\n",
            " [  35.   680. ]\n",
            " [  35.   700. ]\n",
            " [  35.   725. ]\n",
            " [  35.   720. ]\n",
            " [  36.   714. ]\n",
            " [  36.   850. ]\n",
            " [  37.  1000. ]\n",
            " [  38.5  920. ]\n",
            " [  38.5  955. ]\n",
            " [  39.5  925. ]\n",
            " [  41.   975. ]\n",
            " [  41.   950. ]\n",
            " [   9.8    6.7]\n",
            " [  10.5    7.5]\n",
            " [  10.6    7. ]\n",
            " [  11.     9.7]\n",
            " [  11.2    9.8]\n",
            " [  11.3    8.7]\n",
            " [  11.8   10. ]\n",
            " [  11.8    9.9]\n",
            " [  12.     9.8]\n",
            " [  12.2   12.2]\n",
            " [  12.4   13.4]\n",
            " [  13.    12.2]\n",
            " [  14.3   19.7]\n",
            " [  15.    19.9]]\n"
          ],
          "name": "stdout"
        }
      ]
    },
    {
      "cell_type": "code",
      "metadata": {
        "colab": {
          "base_uri": "https://localhost:8080/"
        },
        "id": "UQW3lkhw44m4",
        "outputId": "83a6bb6e-aebc-43ec-99aa-de4ae68ceeb6"
      },
      "source": [
        "print(kn._y)"
      ],
      "execution_count": 31,
      "outputs": [
        {
          "output_type": "stream",
          "text": [
            "[1 1 1 1 1 1 1 1 1 1 1 1 1 1 1 1 1 1 1 1 1 1 1 1 1 1 1 1 1 1 1 1 1 1 1 0 0\n",
            " 0 0 0 0 0 0 0 0 0 0 0 0]\n"
          ],
          "name": "stdout"
        }
      ]
    },
    {
      "cell_type": "code",
      "metadata": {
        "colab": {
          "base_uri": "https://localhost:8080/"
        },
        "id": "y1ZJLWVSDOpJ",
        "outputId": "739d92a4-6dbc-4c93-ee31-01c172208001"
      },
      "source": [
        "kn49 = KNeighborsClassifier(n_neighbors=49)\n",
        "\n",
        "kn49.fit(fish_data, fish_target)\n",
        "# 전체 49개 데이터중 35개만 도미이므로, 빙어를 모두 도미로 예측해서 정확도는 약 71%가됨.\n",
        "# 전체 데이터 개수를 기준으로하면 가장 최빈값인 도미로 모든 데이터를 예측하고 정확도는\n",
        "# 도미가 35마리 빙어가 14마리이므로 35/49 약 71퍼확률입니다.\n",
        "kn49.score(fish_data, fish_target) "
      ],
      "execution_count": 32,
      "outputs": [
        {
          "output_type": "execute_result",
          "data": {
            "text/plain": [
              "0.7142857142857143"
            ]
          },
          "metadata": {
            "tags": []
          },
          "execution_count": 32
        }
      ]
    },
    {
      "cell_type": "code",
      "metadata": {
        "colab": {
          "base_uri": "https://localhost:8080/"
        },
        "id": "Wdyc1lusGlO3",
        "outputId": "df1e8609-4f35-4af4-bc09-2889c27f3352"
      },
      "source": [
        "import numpy as np\n",
        "input_arr = np.array(fish_data)\n",
        "target_arr = np.array(fish_target)\n",
        "print(input_arr)"
      ],
      "execution_count": 33,
      "outputs": [
        {
          "output_type": "stream",
          "text": [
            "[[  25.4  242. ]\n",
            " [  26.3  290. ]\n",
            " [  26.5  340. ]\n",
            " [  29.   363. ]\n",
            " [  29.   430. ]\n",
            " [  29.7  450. ]\n",
            " [  29.7  500. ]\n",
            " [  30.   390. ]\n",
            " [  30.   450. ]\n",
            " [  30.7  500. ]\n",
            " [  31.   475. ]\n",
            " [  31.   500. ]\n",
            " [  31.5  500. ]\n",
            " [  32.   340. ]\n",
            " [  32.   600. ]\n",
            " [  32.   600. ]\n",
            " [  33.   700. ]\n",
            " [  33.   700. ]\n",
            " [  33.5  610. ]\n",
            " [  33.5  650. ]\n",
            " [  34.   575. ]\n",
            " [  34.   685. ]\n",
            " [  34.5  620. ]\n",
            " [  35.   680. ]\n",
            " [  35.   700. ]\n",
            " [  35.   725. ]\n",
            " [  35.   720. ]\n",
            " [  36.   714. ]\n",
            " [  36.   850. ]\n",
            " [  37.  1000. ]\n",
            " [  38.5  920. ]\n",
            " [  38.5  955. ]\n",
            " [  39.5  925. ]\n",
            " [  41.   975. ]\n",
            " [  41.   950. ]\n",
            " [   9.8    6.7]\n",
            " [  10.5    7.5]\n",
            " [  10.6    7. ]\n",
            " [  11.     9.7]\n",
            " [  11.2    9.8]\n",
            " [  11.3    8.7]\n",
            " [  11.8   10. ]\n",
            " [  11.8    9.9]\n",
            " [  12.     9.8]\n",
            " [  12.2   12.2]\n",
            " [  12.4   13.4]\n",
            " [  13.    12.2]\n",
            " [  14.3   19.7]\n",
            " [  15.    19.9]]\n"
          ],
          "name": "stdout"
        }
      ]
    },
    {
      "cell_type": "code",
      "metadata": {
        "id": "MuRNWCAAIXJ2"
      },
      "source": [
        "np.random.seed(42)\n",
        "index = np.arange(49)\n",
        "np.random.shuffle(index)\n",
        "train_input = input_arr[index[:35]]\n",
        "train_target = target_arr[index[:35]]"
      ],
      "execution_count": 35,
      "outputs": []
    },
    {
      "cell_type": "code",
      "metadata": {
        "colab": {
          "base_uri": "https://localhost:8080/",
          "height": 279
        },
        "id": "n7NKwUqAGr6b",
        "outputId": "05a5ea4f-c871-4481-f86b-82c3745550cc"
      },
      "source": [
        "test_input = input_arr[index[35:]]\n",
        "test_target = target_arr[index[35:]]\n",
        "\n",
        "import matplotlib.pyplot as plt\n",
        "plt.scatter(train_input[:, 0], train_input[:, 1])\n",
        "plt.scatter(test_input[:, 0], test_input[:, 1])\n",
        "plt.xlabel('length')\n",
        "plt.ylabel('weight')\n",
        "plt.show()"
      ],
      "execution_count": 37,
      "outputs": [
        {
          "output_type": "display_data",
          "data": {
            "image/png": "[encoded data removed]",
            "text/plain": [
              "<Figure size 432x288 with 1 Axes>"
            ]
          },
          "metadata": {
            "tags": [],
            "needs_background": "light"
          }
        }
      ]
    },
    {
      "cell_type": "code",
      "metadata": {
        "colab": {
          "base_uri": "https://localhost:8080/"
        },
        "id": "pu2fUaspIUDY",
        "outputId": "2936a054-f65d-44fc-d488-3b7d27f31825"
      },
      "source": [
        "kn = kn.fit(train_input, train_target)\n",
        "kn.score(test_input, test_target)"
      ],
      "execution_count": 38,
      "outputs": [
        {
          "output_type": "execute_result",
          "data": {
            "text/plain": [
              "1.0"
            ]
          },
          "metadata": {
            "tags": []
          },
          "execution_count": 38
        }
      ]
    },
    {
      "cell_type": "code",
      "metadata": {
        "colab": {
          "base_uri": "https://localhost:8080/"
        },
        "id": "HgL6nVp2JITC",
        "outputId": "05e1eb08-4201-4e61-e30f-e5243d92edb5"
      },
      "source": [
        "kn.predict([[25,150]])"
      ],
      "execution_count": 39,
      "outputs": [
        {
          "output_type": "execute_result",
          "data": {
            "text/plain": [
              "array([0])"
            ]
          },
          "metadata": {
            "tags": []
          },
          "execution_count": 39
        }
      ]
    },
    {
      "cell_type": "code",
      "metadata": {
        "colab": {
          "base_uri": "https://localhost:8080/"
        },
        "id": "8Mu3zR5iKJds",
        "outputId": "f0c72648-a9bb-4616-b429-109c38a23862"
      },
      "source": [
        "import numpy as np\n",
        "fish_length = length\n",
        "fish_weight = weight\n",
        "fish_data = np.column_stack((fish_length, fish_weight))\n",
        "fish_target = np.concatenate((np.ones(35),np.zeros(14)))\n",
        "print(fish_target)\n",
        "print(fish_data)"
      ],
      "execution_count": 44,
      "outputs": [
        {
          "output_type": "stream",
          "text": [
            "[1. 1. 1. 1. 1. 1. 1. 1. 1. 1. 1. 1. 1. 1. 1. 1. 1. 1. 1. 1. 1. 1. 1. 1.\n",
            " 1. 1. 1. 1. 1. 1. 1. 1. 1. 1. 1. 0. 0. 0. 0. 0. 0. 0. 0. 0. 0. 0. 0. 0.\n",
            " 0.]\n",
            "[[  25.4  242. ]\n",
            " [  26.3  290. ]\n",
            " [  26.5  340. ]\n",
            " [  29.   363. ]\n",
            " [  29.   430. ]\n",
            " [  29.7  450. ]\n",
            " [  29.7  500. ]\n",
            " [  30.   390. ]\n",
            " [  30.   450. ]\n",
            " [  30.7  500. ]\n",
            " [  31.   475. ]\n",
            " [  31.   500. ]\n",
            " [  31.5  500. ]\n",
            " [  32.   340. ]\n",
            " [  32.   600. ]\n",
            " [  32.   600. ]\n",
            " [  33.   700. ]\n",
            " [  33.   700. ]\n",
            " [  33.5  610. ]\n",
            " [  33.5  650. ]\n",
            " [  34.   575. ]\n",
            " [  34.   685. ]\n",
            " [  34.5  620. ]\n",
            " [  35.   680. ]\n",
            " [  35.   700. ]\n",
            " [  35.   725. ]\n",
            " [  35.   720. ]\n",
            " [  36.   714. ]\n",
            " [  36.   850. ]\n",
            " [  37.  1000. ]\n",
            " [  38.5  920. ]\n",
            " [  38.5  955. ]\n",
            " [  39.5  925. ]\n",
            " [  41.   975. ]\n",
            " [  41.   950. ]\n",
            " [   9.8    6.7]\n",
            " [  10.5    7.5]\n",
            " [  10.6    7. ]\n",
            " [  11.     9.7]\n",
            " [  11.2    9.8]\n",
            " [  11.3    8.7]\n",
            " [  11.8   10. ]\n",
            " [  11.8    9.9]\n",
            " [  12.     9.8]\n",
            " [  12.2   12.2]\n",
            " [  12.4   13.4]\n",
            " [  13.    12.2]\n",
            " [  14.3   19.7]\n",
            " [  15.    19.9]]\n"
          ],
          "name": "stdout"
        }
      ]
    },
    {
      "cell_type": "code",
      "metadata": {
        "colab": {
          "base_uri": "https://localhost:8080/"
        },
        "id": "OekiSMUFLjea",
        "outputId": "db68498d-08df-43a9-a0db-02f271e9160d"
      },
      "source": [
        "from sklearn.model_selection import train_test_split\n",
        "train_input, test_input, train_target, test_target = train_test_split(fish_data, fish_target, stratify=fish_target, random_state=42)\n",
        "print(train_input.shape, test_input.shape)\n",
        "print(train_target.shape, test_target.shape)"
      ],
      "execution_count": 48,
      "outputs": [
        {
          "output_type": "stream",
          "text": [
            "(36, 2) (13, 2)\n",
            "(36,) (13,)\n"
          ],
          "name": "stdout"
        }
      ]
    },
    {
      "cell_type": "code",
      "metadata": {
        "colab": {
          "base_uri": "https://localhost:8080/"
        },
        "id": "WH_y6EMzOcsS",
        "outputId": "d5bd76a5-b3ee-494d-f680-dd762fefce79"
      },
      "source": [
        "mean = np.mean(train_input, axis=0)\n",
        "std = np.std(train_input, axis=0)\n",
        "print(mean, std)\n",
        "train_scaled = (train_input - mean) / std\n",
        "print(train_scaled)"
      ],
      "execution_count": 49,
      "outputs": [
        {
          "output_type": "stream",
          "text": [
            "[ 27.29722222 454.09722222] [  9.98244253 323.29893931]\n",
            "[[ 0.24070039  0.14198246]\n",
            " [-1.51237757 -1.36683783]\n",
            " [ 0.5712808   0.76060496]\n",
            " [-1.60253587 -1.37766373]\n",
            " [ 1.22242404  1.45655528]\n",
            " [ 0.17057727 -0.07453542]\n",
            " [ 0.87180845  0.80390854]\n",
            " [ 0.87180845  1.22457184]\n",
            " [ 0.37092904  0.06465464]\n",
            " [ 0.77163257  0.82246721]\n",
            " [ 0.97198434  1.68853872]\n",
            " [-1.61255346 -1.3742613 ]\n",
            " [ 0.72154463  0.51315596]\n",
            " [-1.53241275 -1.3742613 ]\n",
            " [ 0.17057727 -0.28177396]\n",
            " [ 0.5712808   0.76060496]\n",
            " [ 0.34087627  0.14198246]\n",
            " [ 1.12224816  1.54934866]\n",
            " [ 0.62136874  0.60594934]\n",
            " [-1.30200822 -1.34363949]\n",
            " [ 0.42101698  0.14198246]\n",
            " [-0.19005591 -0.65604058]\n",
            " [-1.75279969 -1.38384995]\n",
            " [ 0.47110492  0.45129371]\n",
            " [-1.68267658 -1.38137546]\n",
            " [ 0.62136874  0.48222484]\n",
            " [-1.67265899 -1.38292202]\n",
            " [ 0.77163257  0.76060496]\n",
            " [ 0.47110492  0.45129371]\n",
            " [ 0.77163257  0.83793278]\n",
            " [-1.43223687 -1.36683783]\n",
            " [ 0.27075315 -0.01267317]\n",
            " [ 0.47110492 -0.35291555]\n",
            " [-1.2318851  -1.34302087]\n",
            " [ 0.27075315 -0.19825992]\n",
            " [ 1.37268787  1.61121091]]\n"
          ],
          "name": "stdout"
        }
      ]
    },
    {
      "cell_type": "code",
      "metadata": {
        "colab": {
          "base_uri": "https://localhost:8080/",
          "height": 279
        },
        "id": "AX2R6qEXPYRg",
        "outputId": "490d4e09-2bd7-4e22-c93a-c73b1a7d12a3"
      },
      "source": [
        "new = ([25, 150] - mean) /std\n",
        "plt.scatter(train_scaled[:,0], train_scaled[:,1])\n",
        "plt.scatter(new[0], new[1], marker='^')\n",
        "plt.xlabel('length')\n",
        "plt.ylabel('weight')\n",
        "plt.show()"
      ],
      "execution_count": 51,
      "outputs": [
        {
          "output_type": "display_data",
          "data": {
            "image/png": "[encoded data removed]",
            "text/plain": [
              "<Figure size 432x288 with 1 Axes>"
            ]
          },
          "metadata": {
            "tags": [],
            "needs_background": "light"
          }
        }
      ]
    },
    {
      "cell_type": "code",
      "metadata": {
        "colab": {
          "base_uri": "https://localhost:8080/"
        },
        "id": "R87XNrVdQAzj",
        "outputId": "5c65a07c-e742-4529-aa6e-a7b416cd5d5f"
      },
      "source": [
        "kn.fit(train_scaled, train_target)\n",
        "test_scaled = (test_input -mean) /std\n",
        "kn.score(test_scaled, test_target)\n",
        "print(kn.predict([new]))\n",
        "distances, indexes = kn.kneighbors([new])\n"
      ],
      "execution_count": 53,
      "outputs": [
        {
          "output_type": "stream",
          "text": [
            "[1.]\n"
          ],
          "name": "stdout"
        }
      ]
    },
    {
      "cell_type": "code",
      "metadata": {
        "colab": {
          "base_uri": "https://localhost:8080/",
          "height": 279
        },
        "id": "P5BIpfWNRrm_",
        "outputId": "57154956-d507-4ae3-fe63-5ad4271680b0"
      },
      "source": [
        "plt.scatter(train_scaled[:,0], train_scaled[:,1])\n",
        "plt.scatter(new[0], new[1], marker='^')\n",
        "plt.scatter(train_scaled[indexes,0], train_scaled[indexes,1], marker='D')\n",
        "plt.xlabel('length')\n",
        "plt.ylabel('width')\n",
        "plt.show()"
      ],
      "execution_count": 55,
      "outputs": [
        {
          "output_type": "display_data",
          "data": {
            "image/png": "[encoded data removed]",
            "text/plain": [
              "<Figure size 432x288 with 1 Axes>"
            ]
          },
          "metadata": {
            "tags": [],
            "needs_background": "light"
          }
        }
      ]
    },
    {
      "cell_type": "code",
      "metadata": {
        "colab": {
          "base_uri": "https://localhost:8080/"
        },
        "id": "6-O4ML5KSB5E",
        "outputId": "f1177f2a-28b6-4126-ae92-0cbfa512ae65"
      },
      "source": [
        "kn.predict([[25,150]])"
      ],
      "execution_count": 57,
      "outputs": [
        {
          "output_type": "execute_result",
          "data": {
            "text/plain": [
              "array([1.])"
            ]
          },
          "metadata": {
            "tags": []
          },
          "execution_count": 57
        }
      ]
    }
  ]
}